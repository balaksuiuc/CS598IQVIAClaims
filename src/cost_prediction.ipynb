{
  "nbformat": 4,
  "nbformat_minor": 0,
  "metadata": {
    "accelerator": "GPU",
    "colab": {
      "name": "Copy of Copy of cost_prediction.ipynb",
      "provenance": [],
      "collapsed_sections": [
        "9X87pA2We0fb",
        "lrqr7SvhlMMw",
        "Pz72uokf-LVQ"
      ],
      "toc_visible": true,
      "machine_shape": "hm",
      "include_colab_link": true
    },
    "kernelspec": {
      "display_name": "Python 3",
      "name": "python3"
    },
    "language_info": {
      "name": "python"
    }
  },
  "cells": [
    {
      "cell_type": "markdown",
      "metadata": {
        "id": "view-in-github",
        "colab_type": "text"
      },
      "source": [
        "<a href=\"https://colab.research.google.com/github/balaksuiuc/CS598IQVIAClaims/blob/main/src/cost_prediction.ipynb\" target=\"_parent\"><img src=\"https://colab.research.google.com/assets/colab-badge.svg\" alt=\"Open In Colab\"/></a>"
      ]
    },
    {
      "cell_type": "markdown",
      "metadata": {
        "id": "Q_jej5JXayNs"
      },
      "source": [
        "# **CS598 Deep Learning for Healthcare**"
      ]
    },
    {
      "cell_type": "markdown",
      "metadata": {
        "id": "vP7Q5_3OctOD"
      },
      "source": [
        "## **1. Setup**"
      ]
    },
    {
      "cell_type": "markdown",
      "metadata": {
        "id": "dV62d0RgcLoQ"
      },
      "source": [
        "### 1.1 Change the google colab settings\n",
        "We can use a GPU on the google colab by setting below.  \n",
        "**Edit -> Notebook setting -> Hardware accelerator -> GPU**"
      ]
    },
    {
      "cell_type": "markdown",
      "metadata": {
        "id": "MEKo8TAeb9TB"
      },
      "source": [
        "### 1.2 Check if the GPU is available in the Colab environment"
      ]
    },
    {
      "cell_type": "code",
      "metadata": {
        "colab": {
          "base_uri": "https://localhost:8080/"
        },
        "id": "-uhApS8Qa2yl",
        "outputId": "a24d8ff3-bf64-4c44-c1cc-67107e582826"
      },
      "source": [
        "# The code in this cell is inspired by https://mccormickml.com/2019/07/22/BERT-fine-tuning/\n",
        "import tensorflow as tf\n",
        "\n",
        "# Get the GPU device name\n",
        "device_name = tf.test.gpu_device_name()\n",
        "print('Device name: {}'.format(device_name))"
      ],
      "execution_count": 1,
      "outputs": [
        {
          "output_type": "stream",
          "text": [
            "Device name: /device:GPU:0\n"
          ],
          "name": "stdout"
        }
      ]
    },
    {
      "cell_type": "markdown",
      "metadata": {
        "id": "UKcEgpY6ckkX"
      },
      "source": [
        "### 1.3 GPU setting for PyTourch"
      ]
    },
    {
      "cell_type": "code",
      "metadata": {
        "colab": {
          "base_uri": "https://localhost:8080/"
        },
        "id": "9aCKdPN0bkYo",
        "outputId": "cfbe13f5-99cc-483d-d691-8eefbd85eaa4"
      },
      "source": [
        "# The code in this cell is inspired by https://mccormickml.com/2019/07/22/BERT-fine-tuning/\n",
        "import torch\n",
        "\n",
        "# Tell PyTorch to use the GPU\n",
        "device = torch.device(\"cuda\")\n",
        "print('GPU:', torch.cuda.get_device_name(0))"
      ],
      "execution_count": 2,
      "outputs": [
        {
          "output_type": "stream",
          "text": [
            "GPU: Tesla T4\n"
          ],
          "name": "stdout"
        }
      ]
    },
    {
      "cell_type": "markdown",
      "metadata": {
        "id": "CSDxTfE8dKyo"
      },
      "source": [
        "### 1.4 import necessary packages and setup RNG\n"
      ]
    },
    {
      "cell_type": "code",
      "metadata": {
        "id": "LN3iA6mgbyNA"
      },
      "source": [
        "import os\n",
        "import pickle\n",
        "import random\n",
        "import numpy as np\n",
        "import torch\n",
        "import torch.nn as nn\n",
        "import torch.nn.functional as F\n",
        "import pandas as pd\n",
        "\n",
        "# set seed\n",
        "seed = 100\n",
        "\n",
        "def set_seed(seed):\n",
        "    torch.backends.cudnn.deterministic = True\n",
        "    torch.backends.cudnn.benchmark = False\n",
        "    torch.manual_seed(seed)\n",
        "    torch.cuda.manual_seed_all(seed)\n",
        "    np.random.seed(seed)\n",
        "    random.seed(seed)\n",
        "\n",
        "set_seed(seed)"
      ],
      "execution_count": 3,
      "outputs": []
    },
    {
      "cell_type": "markdown",
      "metadata": {
        "id": "0QktahRUdTgj"
      },
      "source": [
        "## **2. Dataset pre-process and embedding**"
      ]
    },
    {
      "cell_type": "markdown",
      "metadata": {
        "id": "9X87pA2We0fb"
      },
      "source": [
        "### 2.1 Load the IQVIA data from google drive"
      ]
    },
    {
      "cell_type": "code",
      "metadata": {
        "id": "szqDmVIIhBA9",
        "colab": {
          "base_uri": "https://localhost:8080/"
        },
        "outputId": "77c7068b-f481-4ac9-907d-f4907c8e2011"
      },
      "source": [
        "from google.colab import drive\n",
        "drive.mount('/content/drive')"
      ],
      "execution_count": 4,
      "outputs": [
        {
          "output_type": "stream",
          "text": [
            "Mounted at /content/drive\n"
          ],
          "name": "stdout"
        }
      ]
    },
    {
      "cell_type": "markdown",
      "metadata": {
        "id": "qjt8F4t4kjS5"
      },
      "source": [
        "[Note]\n",
        "Need to upload the iqvia data to your google drive"
      ]
    },
    {
      "cell_type": "code",
      "metadata": {
        "id": "aNjGFsD2dPjH"
      },
      "source": [
        "DATA_DIR = '/content/drive/MyDrive/iqvia_data/'"
      ],
      "execution_count": 5,
      "outputs": []
    },
    {
      "cell_type": "code",
      "metadata": {
        "id": "EGqP7CZjfFko"
      },
      "source": [
        "import pandas as pd\n",
        "ENROLL_FILE = DATA_DIR + 'enroll_synth.dat'\n",
        "CLAIMS_2019 = DATA_DIR + 'claims_2019.dat'\n",
        "CLAIMS_2018 = DATA_DIR + 'claims_2018.dat'\n",
        "CLAIMS_2017 = DATA_DIR + 'claims_2017.dat'\n",
        "CLAIMS_2016 = DATA_DIR + 'claims_2016.dat'\n",
        "CLAIMS_2015 = DATA_DIR + 'claims_2015.dat'\n",
        "\n",
        "df_enroll = pd.read_csv(ENROLL_FILE, sep='|', low_memory=False)\n",
        "\n",
        "df_claims2019 = pd.read_csv(CLAIMS_2019, sep='|', low_memory=False)\n",
        "df_claims2018 = pd.read_csv(CLAIMS_2018, sep='|', low_memory=False)\n",
        "df_claims2017 = pd.read_csv(CLAIMS_2017, sep='|', low_memory=False)\n",
        "df_claims2016 = pd.read_csv(CLAIMS_2016, sep='|', low_memory=False)\n",
        "df_claims2015 = pd.read_csv(CLAIMS_2015, sep='|', low_memory=False)\n",
        "\n",
        "## Add year and create a single dataset for claims\n",
        "df_claims2015[\"year\"] = 2015\n",
        "df_claims2016[\"year\"] = 2016\n",
        "df_claims2017[\"year\"] = 2017\n",
        "df_claims2018[\"year\"] = 2018\n",
        "df_claims2019[\"year\"] = 2019\n",
        "\n",
        "list_of_claims = [df_claims2015, df_claims2016, df_claims2017, df_claims2018, df_claims2019]\n",
        "df_claims = pd.concat(list_of_claims)"
      ],
      "execution_count": null,
      "outputs": []
    },
    {
      "cell_type": "code",
      "metadata": {
        "id": "NlzdYrkHncNq",
        "colab": {
          "base_uri": "https://localhost:8080/",
          "height": 221
        },
        "outputId": "c89239d8-0b41-42a7-e98b-f11d3590f59b"
      },
      "source": [
        "# enroll data\n",
        "print(\"Shape of Claims{}\".format(df_enroll.shape))\n",
        "df_enroll.sample(n=5, random_state=0)"
      ],
      "execution_count": null,
      "outputs": [
        {
          "output_type": "stream",
          "text": [
            "Shape of Claims(30000, 17)\n"
          ],
          "name": "stdout"
        },
        {
          "output_type": "execute_result",
          "data": {
            "text/html": [
              "<div>\n",
              "<style scoped>\n",
              "    .dataframe tbody tr th:only-of-type {\n",
              "        vertical-align: middle;\n",
              "    }\n",
              "\n",
              "    .dataframe tbody tr th {\n",
              "        vertical-align: top;\n",
              "    }\n",
              "\n",
              "    .dataframe thead th {\n",
              "        text-align: right;\n",
              "    }\n",
              "</style>\n",
              "<table border=\"1\" class=\"dataframe\">\n",
              "  <thead>\n",
              "    <tr style=\"text-align: right;\">\n",
              "      <th></th>\n",
              "      <th>estring</th>\n",
              "      <th>clm_frst</th>\n",
              "      <th>clm_last</th>\n",
              "      <th>nbr_clm_lines</th>\n",
              "      <th>enr_frst</th>\n",
              "      <th>enr_last</th>\n",
              "      <th>mon_totl</th>\n",
              "      <th>mxce_fst</th>\n",
              "      <th>mxce_lst</th>\n",
              "      <th>der_sex</th>\n",
              "      <th>der_yob</th>\n",
              "      <th>pat_id</th>\n",
              "      <th>pat_region</th>\n",
              "      <th>pat_state</th>\n",
              "      <th>grp_indv_cd</th>\n",
              "      <th>mh_cd</th>\n",
              "      <th>enr_rel</th>\n",
              "    </tr>\n",
              "  </thead>\n",
              "  <tbody>\n",
              "    <tr>\n",
              "      <th>8225</th>\n",
              "      <td>----------------------------------------------...</td>\n",
              "      <td>2006-01-10</td>\n",
              "      <td>2017-12-27</td>\n",
              "      <td>417</td>\n",
              "      <td>2006-01-01</td>\n",
              "      <td>2018-03-31</td>\n",
              "      <td>147</td>\n",
              "      <td>2006-01-01</td>\n",
              "      <td>2018-03-31</td>\n",
              "      <td>F</td>\n",
              "      <td>1943.0</td>\n",
              "      <td>f433AAAAAAAGVWTS</td>\n",
              "      <td>E</td>\n",
              "      <td>NY</td>\n",
              "      <td>U</td>\n",
              "      <td>Y</td>\n",
              "      <td>21</td>\n",
              "    </tr>\n",
              "    <tr>\n",
              "      <th>10794</th>\n",
              "      <td>----------------------------------------------...</td>\n",
              "      <td>2006-06-07</td>\n",
              "      <td>2018-03-05</td>\n",
              "      <td>140</td>\n",
              "      <td>2006-01-01</td>\n",
              "      <td>2018-03-31</td>\n",
              "      <td>147</td>\n",
              "      <td>2006-01-01</td>\n",
              "      <td>2018-03-31</td>\n",
              "      <td>M</td>\n",
              "      <td>1964.0</td>\n",
              "      <td>f433AAAAAAAHRYHG</td>\n",
              "      <td>E</td>\n",
              "      <td>NY</td>\n",
              "      <td>U</td>\n",
              "      <td>Y</td>\n",
              "      <td>21</td>\n",
              "    </tr>\n",
              "    <tr>\n",
              "      <th>9163</th>\n",
              "      <td>----------------------------------------------...</td>\n",
              "      <td>2007-07-23</td>\n",
              "      <td>2017-03-14</td>\n",
              "      <td>345</td>\n",
              "      <td>2006-01-01</td>\n",
              "      <td>2017-03-31</td>\n",
              "      <td>135</td>\n",
              "      <td>2006-01-01</td>\n",
              "      <td>2017-03-31</td>\n",
              "      <td>F</td>\n",
              "      <td>1960.0</td>\n",
              "      <td>k306AAAAAABKDKXE</td>\n",
              "      <td>NaN</td>\n",
              "      <td>NaN</td>\n",
              "      <td>U</td>\n",
              "      <td>Y</td>\n",
              "      <td>21</td>\n",
              "    </tr>\n",
              "    <tr>\n",
              "      <th>26591</th>\n",
              "      <td>----------------------------------------------...</td>\n",
              "      <td>2016-01-01</td>\n",
              "      <td>2016-03-11</td>\n",
              "      <td>28</td>\n",
              "      <td>2016-01-01</td>\n",
              "      <td>2016-12-31</td>\n",
              "      <td>12</td>\n",
              "      <td>2016-01-01</td>\n",
              "      <td>2016-12-31</td>\n",
              "      <td>M</td>\n",
              "      <td>2015.0</td>\n",
              "      <td>a7e3AAAAAAPPAPTW</td>\n",
              "      <td>W</td>\n",
              "      <td>CA</td>\n",
              "      <td>U</td>\n",
              "      <td>N</td>\n",
              "      <td>21</td>\n",
              "    </tr>\n",
              "    <tr>\n",
              "      <th>6631</th>\n",
              "      <td>----------------------------------------------...</td>\n",
              "      <td>2017-04-28</td>\n",
              "      <td>2017-05-26</td>\n",
              "      <td>22</td>\n",
              "      <td>2016-03-01</td>\n",
              "      <td>2017-05-31</td>\n",
              "      <td>15</td>\n",
              "      <td>2016-03-01</td>\n",
              "      <td>2017-05-31</td>\n",
              "      <td>F</td>\n",
              "      <td>1995.0</td>\n",
              "      <td>pg20AAAAADXVWYQN</td>\n",
              "      <td>MW</td>\n",
              "      <td>IL</td>\n",
              "      <td>U</td>\n",
              "      <td>N</td>\n",
              "      <td>21</td>\n",
              "    </tr>\n",
              "  </tbody>\n",
              "</table>\n",
              "</div>"
            ],
            "text/plain": [
              "                                                 estring  ... enr_rel\n",
              "8225   ----------------------------------------------...  ...      21\n",
              "10794  ----------------------------------------------...  ...      21\n",
              "9163   ----------------------------------------------...  ...      21\n",
              "26591  ----------------------------------------------...  ...      21\n",
              "6631   ----------------------------------------------...  ...      21\n",
              "\n",
              "[5 rows x 17 columns]"
            ]
          },
          "metadata": {
            "tags": []
          },
          "execution_count": 7
        }
      ]
    },
    {
      "cell_type": "code",
      "metadata": {
        "id": "qgR9yr9anOQd",
        "colab": {
          "base_uri": "https://localhost:8080/",
          "height": 326
        },
        "outputId": "ba2b4663-d100-4b50-8af4-344be1e05f6c"
      },
      "source": [
        "# claim data\n",
        "print(\"Shape of Claims{}\".format(df_claims.shape))\n",
        "df_claims.sample(n=5, random_state=0)"
      ],
      "execution_count": null,
      "outputs": [
        {
          "output_type": "stream",
          "text": [
            "Shape of Claims(2438054, 65)\n"
          ],
          "name": "stdout"
        },
        {
          "output_type": "execute_result",
          "data": {
            "text/html": [
              "<div>\n",
              "<style scoped>\n",
              "    .dataframe tbody tr th:only-of-type {\n",
              "        vertical-align: middle;\n",
              "    }\n",
              "\n",
              "    .dataframe tbody tr th {\n",
              "        vertical-align: top;\n",
              "    }\n",
              "\n",
              "    .dataframe thead th {\n",
              "        text-align: right;\n",
              "    }\n",
              "</style>\n",
              "<table border=\"1\" class=\"dataframe\">\n",
              "  <thead>\n",
              "    <tr style=\"text-align: right;\">\n",
              "      <th></th>\n",
              "      <th>pat_id</th>\n",
              "      <th>claimno</th>\n",
              "      <th>linenum</th>\n",
              "      <th>rectype</th>\n",
              "      <th>tos_flag</th>\n",
              "      <th>pos</th>\n",
              "      <th>conf_num</th>\n",
              "      <th>patstat</th>\n",
              "      <th>billtype</th>\n",
              "      <th>ndc</th>\n",
              "      <th>daw</th>\n",
              "      <th>formulary</th>\n",
              "      <th>dayssup</th>\n",
              "      <th>quan</th>\n",
              "      <th>proc_cde</th>\n",
              "      <th>cpt_mod</th>\n",
              "      <th>rev_code</th>\n",
              "      <th>srv_unit</th>\n",
              "      <th>from_dt</th>\n",
              "      <th>to_dt</th>\n",
              "      <th>diagprc_ind</th>\n",
              "      <th>diag_admit</th>\n",
              "      <th>diag1</th>\n",
              "      <th>diag2</th>\n",
              "      <th>diag3</th>\n",
              "      <th>diag4</th>\n",
              "      <th>diag5</th>\n",
              "      <th>diag6</th>\n",
              "      <th>diag7</th>\n",
              "      <th>diag8</th>\n",
              "      <th>diag9</th>\n",
              "      <th>diag10</th>\n",
              "      <th>diag11</th>\n",
              "      <th>diag12</th>\n",
              "      <th>icdprc1</th>\n",
              "      <th>icdprc2</th>\n",
              "      <th>icdprc3</th>\n",
              "      <th>icdprc4</th>\n",
              "      <th>icdprc5</th>\n",
              "      <th>icdprc6</th>\n",
              "      <th>icdprc7</th>\n",
              "      <th>icdprc8</th>\n",
              "      <th>icdprc9</th>\n",
              "      <th>icdprc10</th>\n",
              "      <th>icdprc11</th>\n",
              "      <th>icdprc12</th>\n",
              "      <th>charge</th>\n",
              "      <th>allowed</th>\n",
              "      <th>paid</th>\n",
              "      <th>deductible</th>\n",
              "      <th>copay</th>\n",
              "      <th>coinsamt</th>\n",
              "      <th>cobamt</th>\n",
              "      <th>dispense_fee</th>\n",
              "      <th>bill_spec</th>\n",
              "      <th>rend_spec</th>\n",
              "      <th>prscbr_spec</th>\n",
              "      <th>att_spec</th>\n",
              "      <th>pcp_spec</th>\n",
              "      <th>ref_spec</th>\n",
              "      <th>ptypeflg</th>\n",
              "      <th>sub_tp_cd</th>\n",
              "      <th>pmt_st_cd</th>\n",
              "      <th>paid_dt</th>\n",
              "      <th>year</th>\n",
              "    </tr>\n",
              "  </thead>\n",
              "  <tbody>\n",
              "    <tr>\n",
              "      <th>436407</th>\n",
              "      <td>pf06AAAAAAANBFBA</td>\n",
              "      <td>NaN</td>\n",
              "      <td>1.0</td>\n",
              "      <td>P</td>\n",
              "      <td>0</td>\n",
              "      <td>01</td>\n",
              "      <td>NaN</td>\n",
              "      <td>NaN</td>\n",
              "      <td>NaN</td>\n",
              "      <td>3.78181e+08</td>\n",
              "      <td>NaN</td>\n",
              "      <td>NaN</td>\n",
              "      <td>30.0</td>\n",
              "      <td>15.0</td>\n",
              "      <td>NaN</td>\n",
              "      <td>NaN</td>\n",
              "      <td>NaN</td>\n",
              "      <td>NaN</td>\n",
              "      <td>2015-07-17</td>\n",
              "      <td>2015-07-17</td>\n",
              "      <td>-1</td>\n",
              "      <td>NaN</td>\n",
              "      <td>NaN</td>\n",
              "      <td>NaN</td>\n",
              "      <td>NaN</td>\n",
              "      <td>NaN</td>\n",
              "      <td>NaN</td>\n",
              "      <td>NaN</td>\n",
              "      <td>NaN</td>\n",
              "      <td>NaN</td>\n",
              "      <td>NaN</td>\n",
              "      <td>NaN</td>\n",
              "      <td>NaN</td>\n",
              "      <td>NaN</td>\n",
              "      <td>NaN</td>\n",
              "      <td>NaN</td>\n",
              "      <td>NaN</td>\n",
              "      <td>NaN</td>\n",
              "      <td>NaN</td>\n",
              "      <td>NaN</td>\n",
              "      <td>NaN</td>\n",
              "      <td>NaN</td>\n",
              "      <td>NaN</td>\n",
              "      <td>NaN</td>\n",
              "      <td>NaN</td>\n",
              "      <td>NaN</td>\n",
              "      <td>8.22</td>\n",
              "      <td>8.22</td>\n",
              "      <td>6.90</td>\n",
              "      <td>NaN</td>\n",
              "      <td>NaN</td>\n",
              "      <td>0.0</td>\n",
              "      <td>0.0</td>\n",
              "      <td>NaN</td>\n",
              "      <td>NaN</td>\n",
              "      <td>NaN</td>\n",
              "      <td>NaN</td>\n",
              "      <td>NaN</td>\n",
              "      <td>NaN</td>\n",
              "      <td>NaN</td>\n",
              "      <td>2</td>\n",
              "      <td>U</td>\n",
              "      <td>P</td>\n",
              "      <td>2015-07-22</td>\n",
              "      <td>2015</td>\n",
              "    </tr>\n",
              "    <tr>\n",
              "      <th>102630</th>\n",
              "      <td>a7c7AAAAAAMVLNUZ</td>\n",
              "      <td>BM00016399762</td>\n",
              "      <td>1.0</td>\n",
              "      <td>M</td>\n",
              "      <td>1</td>\n",
              "      <td>23</td>\n",
              "      <td>NaN</td>\n",
              "      <td>NaN</td>\n",
              "      <td>NaN</td>\n",
              "      <td>NaN</td>\n",
              "      <td>NaN</td>\n",
              "      <td>NaN</td>\n",
              "      <td>NaN</td>\n",
              "      <td>NaN</td>\n",
              "      <td>99283</td>\n",
              "      <td>NaN</td>\n",
              "      <td>NaN</td>\n",
              "      <td>1.0</td>\n",
              "      <td>2016-10-17</td>\n",
              "      <td>2016-10-17</td>\n",
              "      <td>2</td>\n",
              "      <td>NaN</td>\n",
              "      <td>M79672</td>\n",
              "      <td>M79675</td>\n",
              "      <td>NaN</td>\n",
              "      <td>NaN</td>\n",
              "      <td>NaN</td>\n",
              "      <td>NaN</td>\n",
              "      <td>NaN</td>\n",
              "      <td>NaN</td>\n",
              "      <td>NaN</td>\n",
              "      <td>NaN</td>\n",
              "      <td>NaN</td>\n",
              "      <td>NaN</td>\n",
              "      <td>NaN</td>\n",
              "      <td>NaN</td>\n",
              "      <td>NaN</td>\n",
              "      <td>NaN</td>\n",
              "      <td>NaN</td>\n",
              "      <td>NaN</td>\n",
              "      <td>NaN</td>\n",
              "      <td>NaN</td>\n",
              "      <td>NaN</td>\n",
              "      <td>NaN</td>\n",
              "      <td>NaN</td>\n",
              "      <td>NaN</td>\n",
              "      <td>970.00</td>\n",
              "      <td>970.00</td>\n",
              "      <td>44.60</td>\n",
              "      <td>NaN</td>\n",
              "      <td>NaN</td>\n",
              "      <td>0.0</td>\n",
              "      <td>0.0</td>\n",
              "      <td>NaN</td>\n",
              "      <td>OTHER</td>\n",
              "      <td>OTHER</td>\n",
              "      <td>NaN</td>\n",
              "      <td>NaN</td>\n",
              "      <td>NaN</td>\n",
              "      <td>NaN</td>\n",
              "      <td>0</td>\n",
              "      <td>U</td>\n",
              "      <td>P</td>\n",
              "      <td>2016-11-16</td>\n",
              "      <td>2016</td>\n",
              "    </tr>\n",
              "    <tr>\n",
              "      <th>552992</th>\n",
              "      <td>pg03AAAAAAQCOAHC</td>\n",
              "      <td>NaN</td>\n",
              "      <td>1.0</td>\n",
              "      <td>A</td>\n",
              "      <td>0</td>\n",
              "      <td>13</td>\n",
              "      <td>NaN</td>\n",
              "      <td>1.0</td>\n",
              "      <td>NaN</td>\n",
              "      <td>NaN</td>\n",
              "      <td>NaN</td>\n",
              "      <td>NaN</td>\n",
              "      <td>NaN</td>\n",
              "      <td>NaN</td>\n",
              "      <td>NaN</td>\n",
              "      <td>NaN</td>\n",
              "      <td>250</td>\n",
              "      <td>NaN</td>\n",
              "      <td>2015-05-16</td>\n",
              "      <td>2015-05-16</td>\n",
              "      <td>1</td>\n",
              "      <td>NaN</td>\n",
              "      <td>4659</td>\n",
              "      <td>6869</td>\n",
              "      <td>6929</td>\n",
              "      <td>7862</td>\n",
              "      <td>NaN</td>\n",
              "      <td>NaN</td>\n",
              "      <td>NaN</td>\n",
              "      <td>NaN</td>\n",
              "      <td>NaN</td>\n",
              "      <td>NaN</td>\n",
              "      <td>NaN</td>\n",
              "      <td>NaN</td>\n",
              "      <td>NaN</td>\n",
              "      <td>NaN</td>\n",
              "      <td>NaN</td>\n",
              "      <td>NaN</td>\n",
              "      <td>NaN</td>\n",
              "      <td>NaN</td>\n",
              "      <td>NaN</td>\n",
              "      <td>NaN</td>\n",
              "      <td>NaN</td>\n",
              "      <td>NaN</td>\n",
              "      <td>NaN</td>\n",
              "      <td>NaN</td>\n",
              "      <td>20.70</td>\n",
              "      <td>0.00</td>\n",
              "      <td>0.00</td>\n",
              "      <td>NaN</td>\n",
              "      <td>NaN</td>\n",
              "      <td>0.0</td>\n",
              "      <td>0.0</td>\n",
              "      <td>NaN</td>\n",
              "      <td>HOSPITAL</td>\n",
              "      <td>HOSPITAL</td>\n",
              "      <td>NaN</td>\n",
              "      <td>NaN</td>\n",
              "      <td>NaN</td>\n",
              "      <td>NaN</td>\n",
              "      <td>1</td>\n",
              "      <td>U</td>\n",
              "      <td>P</td>\n",
              "      <td>2015-06-15</td>\n",
              "      <td>2015</td>\n",
              "    </tr>\n",
              "    <tr>\n",
              "      <th>141699</th>\n",
              "      <td>9004AAAAAAAIWZJJ</td>\n",
              "      <td>1.93473e+11</td>\n",
              "      <td>1.0</td>\n",
              "      <td>M</td>\n",
              "      <td>1</td>\n",
              "      <td>11</td>\n",
              "      <td>NaN</td>\n",
              "      <td>NaN</td>\n",
              "      <td>NaN</td>\n",
              "      <td>NaN</td>\n",
              "      <td>NaN</td>\n",
              "      <td>NaN</td>\n",
              "      <td>NaN</td>\n",
              "      <td>NaN</td>\n",
              "      <td>99212</td>\n",
              "      <td>NaN</td>\n",
              "      <td>NaN</td>\n",
              "      <td>1.0</td>\n",
              "      <td>2019-11-06</td>\n",
              "      <td>2019-11-06</td>\n",
              "      <td>2</td>\n",
              "      <td>NaN</td>\n",
              "      <td>M47812</td>\n",
              "      <td>NaN</td>\n",
              "      <td>NaN</td>\n",
              "      <td>NaN</td>\n",
              "      <td>NaN</td>\n",
              "      <td>NaN</td>\n",
              "      <td>NaN</td>\n",
              "      <td>NaN</td>\n",
              "      <td>NaN</td>\n",
              "      <td>NaN</td>\n",
              "      <td>NaN</td>\n",
              "      <td>NaN</td>\n",
              "      <td>NaN</td>\n",
              "      <td>NaN</td>\n",
              "      <td>NaN</td>\n",
              "      <td>NaN</td>\n",
              "      <td>NaN</td>\n",
              "      <td>NaN</td>\n",
              "      <td>NaN</td>\n",
              "      <td>NaN</td>\n",
              "      <td>NaN</td>\n",
              "      <td>NaN</td>\n",
              "      <td>NaN</td>\n",
              "      <td>NaN</td>\n",
              "      <td>133.00</td>\n",
              "      <td>112.20</td>\n",
              "      <td>102.20</td>\n",
              "      <td>0.0</td>\n",
              "      <td>10.0</td>\n",
              "      <td>0.0</td>\n",
              "      <td>0.0</td>\n",
              "      <td>NaN</td>\n",
              "      <td>OTHR_SPC</td>\n",
              "      <td>OTHR_SPC</td>\n",
              "      <td>NaN</td>\n",
              "      <td>NaN</td>\n",
              "      <td>NaN</td>\n",
              "      <td>NaN</td>\n",
              "      <td>0</td>\n",
              "      <td>U</td>\n",
              "      <td>P</td>\n",
              "      <td>2019-12-06</td>\n",
              "      <td>2019</td>\n",
              "    </tr>\n",
              "    <tr>\n",
              "      <th>355175</th>\n",
              "      <td>pg03AAAAAABZBLAE</td>\n",
              "      <td>NaN</td>\n",
              "      <td>4.0</td>\n",
              "      <td>M</td>\n",
              "      <td>1</td>\n",
              "      <td>13</td>\n",
              "      <td>NaN</td>\n",
              "      <td>1.0</td>\n",
              "      <td>NaN</td>\n",
              "      <td>NaN</td>\n",
              "      <td>NaN</td>\n",
              "      <td>NaN</td>\n",
              "      <td>NaN</td>\n",
              "      <td>NaN</td>\n",
              "      <td>NaN</td>\n",
              "      <td>NaN</td>\n",
              "      <td>450</td>\n",
              "      <td>NaN</td>\n",
              "      <td>2015-11-02</td>\n",
              "      <td>2015-11-02</td>\n",
              "      <td>2</td>\n",
              "      <td>NaN</td>\n",
              "      <td>R55</td>\n",
              "      <td>NaN</td>\n",
              "      <td>NaN</td>\n",
              "      <td>NaN</td>\n",
              "      <td>NaN</td>\n",
              "      <td>NaN</td>\n",
              "      <td>NaN</td>\n",
              "      <td>NaN</td>\n",
              "      <td>NaN</td>\n",
              "      <td>NaN</td>\n",
              "      <td>NaN</td>\n",
              "      <td>NaN</td>\n",
              "      <td>NaN</td>\n",
              "      <td>NaN</td>\n",
              "      <td>NaN</td>\n",
              "      <td>NaN</td>\n",
              "      <td>NaN</td>\n",
              "      <td>NaN</td>\n",
              "      <td>NaN</td>\n",
              "      <td>NaN</td>\n",
              "      <td>NaN</td>\n",
              "      <td>NaN</td>\n",
              "      <td>NaN</td>\n",
              "      <td>NaN</td>\n",
              "      <td>3027.00</td>\n",
              "      <td>52.91</td>\n",
              "      <td>52.91</td>\n",
              "      <td>NaN</td>\n",
              "      <td>NaN</td>\n",
              "      <td>0.0</td>\n",
              "      <td>0.0</td>\n",
              "      <td>NaN</td>\n",
              "      <td>HOSPITAL</td>\n",
              "      <td>HOSPITAL</td>\n",
              "      <td>NaN</td>\n",
              "      <td>NaN</td>\n",
              "      <td>NaN</td>\n",
              "      <td>NaN</td>\n",
              "      <td>1</td>\n",
              "      <td>U</td>\n",
              "      <td>P</td>\n",
              "      <td>2015-12-02</td>\n",
              "      <td>2015</td>\n",
              "    </tr>\n",
              "  </tbody>\n",
              "</table>\n",
              "</div>"
            ],
            "text/plain": [
              "                  pat_id        claimno  linenum  ... pmt_st_cd     paid_dt  year\n",
              "436407  pf06AAAAAAANBFBA            NaN      1.0  ...         P  2015-07-22  2015\n",
              "102630  a7c7AAAAAAMVLNUZ  BM00016399762      1.0  ...         P  2016-11-16  2016\n",
              "552992  pg03AAAAAAQCOAHC            NaN      1.0  ...         P  2015-06-15  2015\n",
              "141699  9004AAAAAAAIWZJJ    1.93473e+11      1.0  ...         P  2019-12-06  2019\n",
              "355175  pg03AAAAAABZBLAE            NaN      4.0  ...         P  2015-12-02  2015\n",
              "\n",
              "[5 rows x 65 columns]"
            ]
          },
          "metadata": {
            "tags": []
          },
          "execution_count": 8
        }
      ]
    },
    {
      "cell_type": "markdown",
      "metadata": {
        "id": "lrqr7SvhlMMw"
      },
      "source": [
        "### 2.2 Analyze the dataset"
      ]
    },
    {
      "cell_type": "code",
      "metadata": {
        "id": "1cCE5CJtfl96",
        "colab": {
          "base_uri": "https://localhost:8080/",
          "height": 400
        },
        "outputId": "4181a85c-09c9-42db-8c4c-e02567827203"
      },
      "source": [
        "import numpy as np\n",
        "import matplotlib.pyplot as plt\n",
        "\n",
        "# Distribution of patients across regions\n",
        "rd = df_enroll[\"pat_region\"].value_counts().plot(kind=\"pie\", autopct=\"%1.1f%%\")\n",
        "rd.set_title(\"Distribution of patients across regions\")\n",
        "\n",
        "# Distribution of patients gender\n",
        "rd = df_enroll[\"der_sex\"].value_counts().plot(kind=\"pie\", autopct=\"%1.1f%%\")\n",
        "rd.set_title(\"Distribution of patients' gender\")\n",
        "\n",
        "# Distribution of Age\n",
        "df_enroll[\"age\"] = 2021 - df_enroll[\"der_yob\"]\n",
        "\n",
        "rd = df_enroll[df_enroll[\"der_yob\"] > 1900][\"age\"].plot(kind='hist', bins=15)\n",
        "rd.set_title(\"Distribution of patients' age\")\n",
        "\n",
        "# Get the count of claims paid (and denied)\n",
        "df_claims[\"pmt_st_cd\"].value_counts()\n",
        "\n",
        "# number of diagnosis populated in each claim\n",
        "diag_cols = [\"diag1\", \"diag2\", \"diag3\", \"diag4\", \"diag5\", \"diag6\", \"diag7\", \"diag8\", \"diag9\", \"diag10\", \"diag11\", \"diag12\"]\n",
        "df_claims[\"num_of_diag\"] = df_claims[diag_cols].notnull().sum(axis=1)\n",
        "df_claims[\"num_of_diag\"].mean()\n",
        "\n",
        "# number of icdprc populated in each claim\n",
        "icdprc_cols=[\"icdprc1\", \"icdprc2\", \"icdprc3\", \"icdprc4\", \"icdprc5\", \"icdprc6\", \"icdprc7\", \"icdprc8\", \"icdprc9\", \"icdprc10\", \"icdprc11\", \"icdprc12\"]\n",
        "df_claims[\"num_of_icdprc\"] = df_claims[icdprc_cols].notnull().sum(axis=1)\n",
        "df_claims[\"num_of_icdprc\"].mean()\n",
        "\n",
        "diag = []\n",
        "for colname in diag_cols:\n",
        "    diag.extend(pd.unique(df_claims[colname]))\n",
        "print(len(np.unique(diag)))\n",
        "# 22138\n",
        "\n",
        "prc = []\n",
        "for colname in icdprc_cols:\n",
        "    prc.extend(pd.unique(df_claims[colname]))\n",
        "print(len(np.unique(prc)))\n",
        "# 926\n",
        "\n",
        "\n",
        "# number of claims with same day service\n",
        "sum(df_claims[\"from_dt\"] == df_claims[\"to_dt\"])\n",
        "# 2378556 out of 2438054 i.e. 97.5%\n",
        "\n",
        "# Distribution of charges\n",
        "rd = df_claims[\"charge\"].plot(kind='hist', bins=15)\n",
        "rd.set_title(\"Distribution charges\")\n",
        "\n",
        "# Log charges makes more sense\n",
        "# filtering out rows where charges are less than 1\n",
        "rd = np.log10(df_claims[df_claims[\"charge\"] > 1][\"charge\"]).plot(kind='hist', bins=15)\n",
        "rd.set_title(\"Distribution of Log of Charges\")\n",
        "\n",
        "# Distribution of Paid amounts\n",
        "# filtering out rows where paid are less than 1\n",
        "rd = np.log10(df_claims[df_claims[\"paid\"] > 1][\"paid\"]).plot(kind='hist', bins=25)\n",
        "rd.set_title(\"Distribution of Log of Paid\")\n",
        "plt.show()\n",
        "\n",
        "\n",
        "# Checking the unique number of patients in the datasets\n",
        "print(len(pd.unique(df_enroll['pat_id'])))\n",
        "# 30000\n",
        "print(len(pd.unique(df_claims2015['pat_id'])))\n",
        "# 18927\n",
        "print(len(pd.unique(df_claims2016['pat_id'])))\n",
        "#21483\n",
        "print(len(pd.unique(df_claims2017['pat_id'])))\n",
        "#15190\n",
        "print(len(pd.unique(df_claims2018['pat_id'])))\n",
        "#6445\n",
        "print(len(pd.unique(df_claims2019['pat_id'])))\n",
        "#4884"
      ],
      "execution_count": null,
      "outputs": [
        {
          "output_type": "stream",
          "text": [
            "22138\n",
            "926\n"
          ],
          "name": "stdout"
        },
        {
          "output_type": "display_data",
          "data": {
            "image/png": "[encoded data removed]",
            "text/plain": [
              "<Figure size 432x288 with 1 Axes>"
            ]
          },
          "metadata": {
            "tags": []
          }
        },
        {
          "output_type": "stream",
          "text": [
            "30000\n",
            "18927\n",
            "21483\n",
            "15190\n",
            "6445\n",
            "4884\n"
          ],
          "name": "stdout"
        }
      ]
    },
    {
      "cell_type": "markdown",
      "metadata": {
        "id": "Hmy3BPKB0Nss"
      },
      "source": [
        "### 2.3 Embedding"
      ]
    },
    {
      "cell_type": "code",
      "metadata": {
        "id": "-C7rmoqSgYo-",
        "colab": {
          "base_uri": "https://localhost:8080/",
          "height": 315
        },
        "outputId": "d5063f13-0a17-4776-f1cd-4bc705a5e566"
      },
      "source": [
        "# Wei's code here\n",
        "#assign quarter to each record and convert 'to_dt' to datetime format\n",
        "df_claims[\"quarter\"] = pd.PeriodIndex(pd.to_datetime(df_claims[\"to_dt\"]), freq = 'Q')\n",
        "df_claims['to_dt'] = pd.to_datetime(df_claims['to_dt'])\n",
        "\n",
        "#find the length of claims for each patient\n",
        "df_claims_length = df_claims[['pat_id','to_dt']].groupby('pat_id').agg({'to_dt':['max','min']}).reset_index() \n",
        "df_claims_length.columns = ['pat_id','max','min']\n",
        "df_claims_length['length'] = df_claims_length['max'] - df_claims_length['min']\n",
        "df_claims_length['length'] = df_claims_length['length'].dt.days\n",
        "avg_claim_length = df_claims_length['length'].mean()\n",
        "min_claim_length = df_claims_length['length'].min()\n",
        "max_claim_length = df_claims_length['length'].max()\n",
        "print(min_claim_length,avg_claim_length,max_claim_length)\n",
        "rd = df_claims_length['length'].plot(kind='hist', bins=15)\n",
        "rd.set_title(\"Frequency of Length\")\n",
        "#most patients's length is less than three years, 12 quarters, so chooce an observation window of 12 quarters\n",
        "\n",
        "#calculate index date = last claim - 270 days (180days as prediction window + 90days as last quarter)\n",
        "claim_indx_date = df_claims[['pat_id','to_dt']].groupby('pat_id').agg({'to_dt':['max']}).reset_index()\n",
        "claim_indx_date.columns = ['pat_id','max']\n",
        "claim_indx_date['indx_date'] = claim_indx_date['max'] - pd.to_timedelta(270,unit='d')\n",
        "#filter claims, \n",
        "filterred_claims = pd.merge(df_claims,claim_indx_date,how = 'left',on=['pat_id'])\n",
        "#observation includes 1000 days(three years) before index date\n",
        "#prediction window is 180 days (two quarters), last 90 days(last quarter) is reserved as target\n",
        "filterred_observation = filterred_claims.loc[filterred_claims.to_dt<=filterred_claims.indx_date]\n",
        "filterred_observation = filterred_observation.loc[filterred_observation.to_dt>=filterred_observation.indx_date-pd.to_timedelta(1095,unit='d')]\n",
        "filterred_observation = filterred_observation.loc[filterred_observation.to_dt>=pd.to_datetime('2015-10-1')] #code changed after October 1, 2015\n",
        "filterred_target = filterred_claims.loc[filterred_claims.to_dt>=filterred_claims.indx_date+pd.to_timedelta(180,unit='d')]\n",
        "\n",
        "#find the number of claims after filter\n",
        "pat_claimsnumb = filterred_observation[['pat_id']].groupby('pat_id').agg({'pat_id':['count']}).reset_index()\n",
        "pat_claimsnumb.columns = ['pat_id','count']\n",
        "print(pat_claimsnumb.shape,pat_claimsnumb['count'].max(),pat_claimsnumb['count'].mean(),pat_claimsnumb['count'].min())"
      ],
      "execution_count": null,
      "outputs": [
        {
          "output_type": "stream",
          "text": [
            "0 647.9217659590098 1885\n",
            "(18474, 2) 3257 55.39920970011909 1\n"
          ],
          "name": "stdout"
        },
        {
          "output_type": "display_data",
          "data": {
            "image/png": "[encoded data removed]",
            "text/plain": [
              "<Figure size 432x288 with 1 Axes>"
            ]
          },
          "metadata": {
            "tags": [],
            "needs_background": "light"
          }
        }
      ]
    },
    {
      "cell_type": "code",
      "metadata": {
        "id": "zs1T_C4ixruV",
        "colab": {
          "base_uri": "https://localhost:8080/"
        },
        "outputId": "809aad3e-b831-4a41-9698-5242071de82b"
      },
      "source": [
        "diag_cols = [\"diag1\", \"diag2\", \"diag3\", \"diag4\", \"diag5\", \"diag6\", \"diag7\", \"diag8\", \"diag9\", \"diag10\", \"diag11\", \"diag12\"]\n",
        "icdprc_cols=[\"icdprc1\", \"icdprc2\", \"icdprc3\", \"icdprc4\", \"icdprc5\", \"icdprc6\", \"icdprc7\", \"icdprc8\", \"icdprc9\", \"icdprc10\", \"icdprc11\", \"icdprc12\"]\n",
        "\n",
        "#number of unique diag codes and prc codes after filter\n",
        "diag = []\n",
        "for colname in diag_cols:\n",
        "    diag.extend(pd.unique(filterred_observation[colname]))\n",
        "diag_dict = np.unique(diag)\n",
        "print(len(np.unique(diag)))\n",
        "\n",
        "prc = []\n",
        "for colname in icdprc_cols:\n",
        "    prc.extend(pd.unique(filterred_observation[colname]))\n",
        "prc_dict = np.unique(prc)\n",
        "print(len(np.unique(prc)))\n",
        "\n",
        "#number of unique record type, procedure code and revenue code(high-level description of services)\n",
        "filterred_observation[\"rectype\"] = filterred_observation[\"rectype\"].astype('str')\n",
        "filterred_observation[\"proc_cde\"] = filterred_observation[\"proc_cde\"].astype('str')\n",
        "filterred_observation[\"rev_code\"] = filterred_observation[\"rev_code\"].astype('str')\n",
        "print(len(np.unique(filterred_observation[\"rectype\"])))\n",
        "print(len(np.unique(filterred_observation[\"proc_cde\"])))\n",
        "print(len(np.unique(filterred_observation[\"rev_code\"])))\n",
        "rectype_dict = np.unique(filterred_observation[\"rectype\"])\n",
        "proc_cde_dict = np.unique(filterred_observation[\"proc_cde\"])\n",
        "rev_code_dict = np.unique(filterred_observation[\"rev_code\"])\n",
        "\n",
        "#extract interested columns\n",
        "filtered_features = filterred_observation[[\"pat_id\",\"paid\",\"charge\",\"quarter\",\"rectype\",\"proc_cde\",\"rev_code\",\"diag1\", \"diag2\", \"diag3\", \n",
        "                                           \"diag4\", \"diag5\", \"diag6\", \"diag7\", \"diag8\", \"diag9\", \"diag10\", \"diag11\",\"diag12\",\"icdprc1\", \n",
        "                                           \"icdprc2\", \"icdprc3\", \"icdprc4\", \"icdprc5\", \"icdprc6\", \"icdprc7\", \"icdprc8\", \"icdprc9\",\"icdprc10\",\n",
        "                                           \"icdprc11\", \"icdprc12\"]]\n",
        "\n",
        "print(filtered_features.shape)\n"
      ],
      "execution_count": null,
      "outputs": [
        {
          "output_type": "stream",
          "text": [
            "12952\n",
            "420\n",
            "6\n",
            "6114\n",
            "718\n",
            "(1023445, 31)\n"
          ],
          "name": "stdout"
        }
      ]
    },
    {
      "cell_type": "code",
      "metadata": {
        "id": "nzhtkICX13WX",
        "colab": {
          "base_uri": "https://localhost:8080/",
          "height": 1000
        },
        "outputId": "db847c79-f7b9-4caa-bd18-7a2bbb80e204"
      },
      "source": [
        "#investigate unqiue codes after filter\n",
        "proc_cde_valuecount = filtered_features[\"proc_cde\"].value_counts()\n",
        "rev_code_valuecount = filtered_features[\"rev_code\"].value_counts()\n",
        "diag_valuecount = filtered_features[\"diag1\"].value_counts()\n",
        "prc_valuecount = filtered_features[\"icdprc1\"].value_counts()\n",
        "\n",
        "proc_cde_valuecount = proc_cde_valuecount.to_frame()\n",
        "rd = np.log10(proc_cde_valuecount).plot(kind='hist', bins=15)\n",
        "rd.set_title(\"frequency of proc_cde\")\n",
        "#among 6114, less than 500 proc codes appear more than 100 times\n",
        "rev_code_valuecount = rev_code_valuecount.to_frame()\n",
        "rd = np.log10(rev_code_valuecount).plot(kind='hist', bins=15)\n",
        "rd.set_title(\"frequency of revenue code\")\n",
        "#among 718, less than 300 revenue codes appear more than 100 times\n",
        "diag_valuecount = diag_valuecount.to_frame()\n",
        "rd = np.log10(diag_valuecount).plot(kind='hist', bins=15)\n",
        "rd.set_title(\"frequency of diag code\")\n",
        "#among 12952, about 1000 diag codes appear more than 100 times\n",
        "prc_valuecount = prc_valuecount.to_frame()\n",
        "rd = np.log10(prc_valuecount).plot(kind='hist', bins=15)\n",
        "rd.set_title(\"frequency of prc code\")\n",
        "#among 420, less than 50 appear more than 100 times\n",
        "\n",
        "proc_cde_valuecount = filtered_features[\"proc_cde\"].value_counts().reset_index()\n",
        "rev_code_valuecount = filtered_features[\"rev_code\"].value_counts().reset_index()\n",
        "diag_valuecount = filtered_features[\"diag1\"].value_counts().reset_index()\n",
        "prc_valuecount = filtered_features[\"icdprc1\"].value_counts().reset_index()\n",
        "\n",
        "#apply thresholds on codes to extract dictionary for high frequency codes\n",
        "proc_cde_dict = set(proc_cde_valuecount.apply(lambda x: x['index'] if x['proc_cde']>=1000 else 0,axis=1).to_list())\n",
        "rev_code_dict = set(rev_code_valuecount.apply(lambda x: x['index'] if x['rev_code']>=1000 else 0,axis=1).to_list())\n",
        "diag_dict = set(diag_valuecount.apply(lambda x: x['index'] if x['diag1']>=1000 else 0,axis=1).to_list())\n",
        "prc_dict = set(prc_valuecount.apply(lambda x: x['index'] if x['icdprc1']>=100 else 0,axis=1).to_list())\n",
        "proc_cde_dict.remove(0)\n",
        "rev_code_dict.remove(0)\n",
        "diag_dict.remove(0)\n",
        "prc_dict.remove(0)\n",
        "\n",
        "print(len(proc_cde_dict),len(rev_code_dict),len(diag_dict),len(prc_dict))\n",
        "#total code features are reduced to less than 300 after filtering\n",
        "\n",
        "#filter out code features that not appears in the dictionary\n",
        "def combine_columns_into_list(x,cols,dict_set):\n",
        "    out = list()\n",
        "    for col in cols:\n",
        "        if x[col] in dict_set:\n",
        "            out.append(x[col])\n",
        "    return out\n",
        "\n",
        "filtered_features['diags'] = filtered_features.apply(lambda x: combine_columns_into_list(x,[\"diag1\",\"diag2\",\"diag3\",\"diag4\",\"diag5\",\"diag6\",\"diag7\",\"diag8\",\"diag9\",\"diag10\"],diag_dict),axis=1)\n",
        "filtered_features['rev_code'] = filtered_features.apply(lambda x: x['rev_code'] if x['rev_code'] in rev_code_dict else 0,axis=1)\n",
        "filtered_features['icdprc'] = filtered_features.apply(lambda x: x['icdprc1'] if x['icdprc1'] in prc_dict else 0,axis=1)\n",
        "filtered_features['proc_cde'] = filtered_features.apply(lambda x: x['proc_cde'] if x['proc_cde'] in proc_cde_dict else 0,axis=1)\n",
        "\n",
        "#drop original code columns\n",
        "dropped_features = [\"diag1\", \"diag2\", \"diag3\", \"diag4\", \"diag5\", \"diag6\", \"diag7\", \"diag8\", \"diag9\", \"diag10\", \"diag11\", \n",
        "                \"diag12\",\"icdprc1\", \"icdprc2\", \"icdprc3\", \"icdprc4\", \"icdprc5\", \"icdprc6\", \"icdprc7\", \"icdprc8\", \"icdprc9\",\n",
        "                \"icdprc10\", \"icdprc11\", \"icdprc12\"]\n",
        "filtered_features = filtered_features.drop(dropped_features,axis=1)\n",
        "\n",
        "print(filtered_features.shape)\n"
      ],
      "execution_count": null,
      "outputs": [
        {
          "output_type": "stream",
          "text": [
            "115 41 105 7\n"
          ],
          "name": "stdout"
        },
        {
          "output_type": "stream",
          "text": [
            "/usr/local/lib/python3.7/dist-packages/ipykernel_launcher.py:50: SettingWithCopyWarning: \n",
            "A value is trying to be set on a copy of a slice from a DataFrame.\n",
            "Try using .loc[row_indexer,col_indexer] = value instead\n",
            "\n",
            "See the caveats in the documentation: https://pandas.pydata.org/pandas-docs/stable/user_guide/indexing.html#returning-a-view-versus-a-copy\n",
            "/usr/local/lib/python3.7/dist-packages/ipykernel_launcher.py:51: SettingWithCopyWarning: \n",
            "A value is trying to be set on a copy of a slice from a DataFrame.\n",
            "Try using .loc[row_indexer,col_indexer] = value instead\n",
            "\n",
            "See the caveats in the documentation: https://pandas.pydata.org/pandas-docs/stable/user_guide/indexing.html#returning-a-view-versus-a-copy\n",
            "/usr/local/lib/python3.7/dist-packages/ipykernel_launcher.py:52: SettingWithCopyWarning: \n",
            "A value is trying to be set on a copy of a slice from a DataFrame.\n",
            "Try using .loc[row_indexer,col_indexer] = value instead\n",
            "\n",
            "See the caveats in the documentation: https://pandas.pydata.org/pandas-docs/stable/user_guide/indexing.html#returning-a-view-versus-a-copy\n",
            "/usr/local/lib/python3.7/dist-packages/ipykernel_launcher.py:53: SettingWithCopyWarning: \n",
            "A value is trying to be set on a copy of a slice from a DataFrame.\n",
            "Try using .loc[row_indexer,col_indexer] = value instead\n",
            "\n",
            "See the caveats in the documentation: https://pandas.pydata.org/pandas-docs/stable/user_guide/indexing.html#returning-a-view-versus-a-copy\n"
          ],
          "name": "stderr"
        },
        {
          "output_type": "stream",
          "text": [
            "(1023445, 9)\n"
          ],
          "name": "stdout"
        },
        {
          "output_type": "display_data",
          "data": {
            "image/png": "[encoded data removed]",
            "text/plain": [
              "<Figure size 432x288 with 1 Axes>"
            ]
          },
          "metadata": {
            "tags": [],
            "needs_background": "light"
          }
        },
        {
          "output_type": "display_data",
          "data": {
            "image/png": "[encoded data removed]",
            "text/plain": [
              "<Figure size 432x288 with 1 Axes>"
            ]
          },
          "metadata": {
            "tags": [],
            "needs_background": "light"
          }
        },
        {
          "output_type": "display_data",
          "data": {
            "image/png": "[encoded data removed]",
            "text/plain": [
              "<Figure size 432x288 with 1 Axes>"
            ]
          },
          "metadata": {
            "tags": [],
            "needs_background": "light"
          }
        },
        {
          "output_type": "display_data",
          "data": {
            "image/png": "[encoded data removed]",
            "text/plain": [
              "<Figure size 432x288 with 1 Axes>"
            ]
          },
          "metadata": {
            "tags": [],
            "needs_background": "light"
          }
        }
      ]
    },
    {
      "cell_type": "code",
      "metadata": {
        "id": "IMY9zCQ_h_xR"
      },
      "source": [
        "filtered_features = filtered_features.drop(['charge'],axis=1)"
      ],
      "execution_count": null,
      "outputs": []
    },
    {
      "cell_type": "code",
      "metadata": {
        "id": "URl6Z-bJ20d6",
        "colab": {
          "base_uri": "https://localhost:8080/"
        },
        "outputId": "9bb81f7b-2072-475b-c3f9-15aeea4100dd"
      },
      "source": [
        "#build multi-hot for rectype, proc_cde, rev_code, recvtype and icdprc\n",
        "filtered_features = pd.get_dummies(filtered_features,columns = ['rectype','proc_cde','rev_code','icdprc'])\n",
        "print(filtered_features.shape)\n",
        "filtered_dict_features = filtered_features.copy(deep=True)\n",
        "\n",
        "#build multi-hot for diags list feature, this code is inspired by https://stackoverflow.com/questions/45312377/how-to-one-hot-encode-from-a-pandas-column-containing-a-list\n",
        "v = filtered_dict_features.diags.values\n",
        "l = [len(x) for x in v.tolist()]\n",
        "f, u = pd.factorize(np.concatenate(v))\n",
        "n, m = len(v), u.size\n",
        "i = np.arange(n).repeat(l)\n",
        "\n",
        "dummies = pd.DataFrame(\n",
        "    np.bincount(i * m + f, minlength=n * m).reshape(n, m),\n",
        "    filtered_dict_features.index, u\n",
        ")\n",
        "\n",
        "filtered_dict_features = filtered_dict_features.drop('diags', 1).join(dummies)\n",
        "\n",
        "#filtered_dict_features.to_pickle('./filterd_feature_dict_281.pkl')\n",
        "filtered_dict_features = filtered_dict_features.groupby(['pat_id','quarter']).sum().reset_index()\n",
        "#sort the pat_id and quarter in ascending order\n",
        "filtered_dict_features = filtered_dict_features.sort_values(by=['pat_id','quarter'],ascending=False)\n",
        "\n",
        "print(filtered_dict_features.shape)\n"
      ],
      "execution_count": null,
      "outputs": [
        {
          "output_type": "stream",
          "text": [
            "(1023445, 176)\n",
            "(72814, 280)\n"
          ],
          "name": "stdout"
        }
      ]
    },
    {
      "cell_type": "code",
      "metadata": {
        "id": "KT9XeY10ieFT",
        "colab": {
          "base_uri": "https://localhost:8080/"
        },
        "outputId": "a2ae8dd6-b29b-4889-8d6e-b77728019e14"
      },
      "source": [
        "#filtered_dict_features = filtered_dict_features.drop(['charge'],axis = 1)\n",
        "print(filtered_dict_features.shape)\n",
        "filtered_dict_features.to_csv('./feature_280.csv', index = False, header=True)"
      ],
      "execution_count": null,
      "outputs": [
        {
          "output_type": "stream",
          "text": [
            "(72814, 280)\n"
          ],
          "name": "stdout"
        }
      ]
    },
    {
      "cell_type": "code",
      "metadata": {
        "id": "ZMMmce4jiXJq"
      },
      "source": [
        "#build pat_id list to extract data from filtered_dict_features\n",
        "pat_ids_dict = set(np.unique(filtered_dict_features['pat_id']))\n",
        "pat_ids_dict = sorted(list(pat_ids_dict),reverse=True)\n",
        "\n",
        "\n",
        "#construct data for model training\n",
        "x = np.zeros((18474,278*12))\n",
        "\n",
        "\n",
        "## construct x matrix\n",
        "num_pat = 0\n",
        "for pat in pat_ids_dict:\n",
        "    pat_val = filtered_dict_features.loc[filtered_dict_features['pat_id']==pat]\n",
        "    pat_val = pat_val.drop(['pat_id','quarter'],axis=1)\n",
        "    raw_values = pat_val.values.tolist()\n",
        "    if len(raw_values)>12:\n",
        "        raw_values = raw_values[:-1] #in case of 13 quarters\n",
        "    values = [item for sublist in raw_values for item in sublist]\n",
        "    x[num_pat,:len(values)] = values\n",
        "    num_pat+=1\n",
        "\n",
        "#np.savetxt(\"x_18474_3348.csv\", x, delimiter=\",\")\n"
      ],
      "execution_count": null,
      "outputs": []
    },
    {
      "cell_type": "code",
      "metadata": {
        "id": "vICrkdVa3z5T",
        "colab": {
          "base_uri": "https://localhost:8080/"
        },
        "outputId": "19ccfeac-f737-4d3c-ac95-a79ce7a4a290"
      },
      "source": [
        "#build the y vector\n",
        "y_paid = filterred_target[['pat_id','paid']].groupby('pat_id').agg({'paid':['sum']}).reset_index() \n",
        "y_charge = filterred_target[['pat_id','charge']].groupby('pat_id').agg({'charge':['sum']}).reset_index() \n",
        "y_paid.columns = ['pat_id','paid']\n",
        "y_charge.columns = ['pat_id','charge']\n",
        "print(y_paid.shape,y_charge.shape)\n",
        "print(y_paid.isnull().values.any(),y_charge.isnull().values.any())\n",
        "\n",
        "y_charge['miss'] = y_charge.apply(lambda x: 0 if x['pat_id'] in pat_ids_dict else 1,axis=1)\n",
        "y_charge = y_charge.loc[y_charge['miss']!=1]\n",
        "y_charge = y_charge.drop(['miss'],axis=1)\n",
        "y_charge = y_charge.sort_values(by=['pat_id'],ascending = False)\n",
        "\n",
        "y_paid['miss'] = y_paid.apply(lambda x: 0 if x['pat_id'] in pat_ids_dict else 1,axis=1)\n",
        "y_paid = y_paid.loc[y_paid['miss']!=1]\n",
        "y_paid = y_paid.drop(['miss'],axis=1)\n",
        "y_paid = y_paid.sort_values(by=['pat_id'],ascending = False)\n",
        "\n",
        "#patient id is matched row by row between y_paid and x\n",
        "print(y_charge['pat_id'].to_list()==pat_ids_dict)\n",
        "print(y_paid['pat_id'].to_list()==pat_ids_dict)\n",
        "#True True\n",
        "\n",
        "ypaid = np.array(y_paid['paid'].to_list())\n",
        "#np.savetxt(\"ypaid.csv\", ypaid, delimiter=\",\")\n",
        "ycharge = np.array(y_charge['charge'].to_list())\n",
        "#np.savetxt(\"ycharge.csv\", ycharge, delimiter=\",\")\n"
      ],
      "execution_count": null,
      "outputs": [
        {
          "output_type": "stream",
          "text": [
            "(27226, 2) (27226, 2)\n",
            "False False\n",
            "True\n",
            "True\n"
          ],
          "name": "stdout"
        }
      ]
    },
    {
      "cell_type": "markdown",
      "metadata": {
        "id": "YG6AsAkgeKee"
      },
      "source": [
        "### 2.4 Reduced Feature Dataset"
      ]
    },
    {
      "cell_type": "code",
      "metadata": {
        "id": "XagNfASLeeml"
      },
      "source": [
        "# append enroll information\n",
        "df_enroll = df_enroll.drop(['estring', 'clm_frst', 'clm_last', 'nbr_clm_lines', 'enr_frst',\n",
        "       'enr_last', 'mon_totl', 'mxce_fst', 'mxce_lst', 'der_sex', 'der_yob', 'pat_state', 'grp_indv_cd', 'mh_cd', 'enr_rel'],axis=1)\n",
        "df_enroll = df_enroll.replace(np.nan, 'F', regex=True)\n",
        "# map patient region to patient from enroll to claims\n",
        "df_claims = pd.merge(df_claims,df_enroll,on=['pat_id'],how='left')\n",
        "\n",
        "pay_region = df_claims[['paid','pat_region']].groupby('pat_region').agg({'paid':['mean']}).reset_index() \n",
        "print(pay_region) #average paid is differ by region"
      ],
      "execution_count": null,
      "outputs": []
    },
    {
      "cell_type": "code",
      "metadata": {
        "id": "CBhNUCeaeeuq"
      },
      "source": [
        "#assign quarter to each record and convert 'to_dt' to datetime format\n",
        "df_claims[\"quarter\"] = pd.PeriodIndex(pd.to_datetime(df_claims[\"to_dt\"]), freq = 'Q')\n",
        "df_claims['to_dt'] = pd.to_datetime(df_claims['to_dt'])\n",
        "\n",
        "#find the length of claims for each patient\n",
        "df_claims_length = df_claims[['pat_id','to_dt']].groupby('pat_id').agg({'to_dt':['max','min']}).reset_index() \n",
        "df_claims_length.columns = ['pat_id','max','min']\n",
        "df_claims_length['length'] = df_claims_length['max'] - df_claims_length['min']\n",
        "df_claims_length['length'] = df_claims_length['length'].dt.days\n",
        "avg_claim_length = df_claims_length['length'].mean()\n",
        "min_claim_length = df_claims_length['length'].min()\n",
        "max_claim_length = df_claims_length['length'].max()\n",
        "#most patients's length is less than three years, 12 quarters, so chooce an observation window of 6 quarters\n",
        "\n",
        "#calculate index date = last claim - 270 days (180days as prediction window + 90days as last quarter)\n",
        "claim_indx_date = df_claims[['pat_id','to_dt']].groupby('pat_id').agg({'to_dt':['max']}).reset_index()\n",
        "claim_indx_date.columns = ['pat_id','max']\n",
        "claim_indx_date['indx_date'] = claim_indx_date['max'] - pd.to_timedelta(270,unit='d')\n",
        "#filter claims, \n",
        "filterred_claims = pd.merge(df_claims,claim_indx_date,how = 'left',on=['pat_id'])\n",
        "#observation includes 1000 days(three years) before index date\n",
        "#prediction window is 180 days (two quarters), last 90 days(last quarter) is reserved as target\n",
        "filterred_observation = filterred_claims.loc[filterred_claims.to_dt<=filterred_claims.indx_date]\n",
        "filterred_observation = filterred_observation.loc[filterred_observation.to_dt>=filterred_observation.indx_date-pd.to_timedelta(548,unit='d')]\n",
        "filterred_observation = filterred_observation.loc[filterred_observation.to_dt>=pd.to_datetime('2015-10-1')] #code changed after October 1, 2015\n",
        "filterred_target = filterred_claims.loc[filterred_claims.to_dt>=filterred_claims.indx_date+pd.to_timedelta(180,unit='d')]\n",
        "\n",
        "filterred_observation[\"proc_cde\"] = filterred_observation[\"proc_cde\"].astype('str')\n",
        "filterred_observation[\"icdprc1\"] = filterred_observation[\"icdprc1\"].astype('str')\n",
        "#extract interested columns\n",
        "filtered_features = filterred_observation[[\"pat_id\",\"paid\",\"quarter\",\"proc_cde\",\"icdprc1\",\"pat_region\"]]\n",
        "print(filtered_features.shape) #(826906, 6)\n",
        "\n",
        "proc_cde_valuecount = filtered_features[\"proc_cde\"].value_counts().reset_index()\n",
        "prc_valuecount = filtered_features[\"icdprc1\"].value_counts().reset_index()\n",
        "#apply thresholds on codes to extract dictionary for high frequency codes\n",
        "proc_cde_dict = set(proc_cde_valuecount.apply(lambda x: x['index'] if x['proc_cde']>=1000 else 0,axis=1).to_list())\n",
        "prc_dict = set(prc_valuecount.apply(lambda x: x['index'] if x['icdprc1']>=100 else 0,axis=1).to_list())\n",
        "proc_cde_dict.remove(0)\n",
        "prc_dict.remove(0)\n",
        "\n",
        "filtered_features['icdprc'] = filtered_features.apply(lambda x: x['icdprc1'] if x['icdprc1'] in prc_dict else 0,axis=1)\n",
        "filtered_features['proc_cde'] = filtered_features.apply(lambda x: x['proc_cde'] if x['proc_cde'] in proc_cde_dict else 0,axis=1)\n",
        "#build multi-hot for rectype, proc_cde, rev_code, recvtype and icdprc\n",
        "filtered_features = pd.get_dummies(filtered_features,columns = ['proc_cde','icdprc','pat_region'])\n",
        "filtered_dict_features = filtered_features.copy(deep=True)\n",
        "filtered_dict_features= filtered_dict_features.drop(['icdprc1'],axis=1)\n",
        "print(filtered_dict_features.shape)\n",
        "\n",
        "#filtered_dict_features.to_pickle('./filterd_feature_dict_281.pkl')\n",
        "filtered_dict_features = filtered_dict_features.groupby(['pat_id','quarter']).sum().reset_index()\n",
        "#sort the pat_id and quarter in ascending order\n",
        "filtered_dict_features = filtered_dict_features.sort_values(by=['pat_id','quarter'],ascending=False)\n",
        "\n",
        "#build pat_id list to extract data from filtered_dict_features\n",
        "pat_ids_dict = set(np.unique(filtered_dict_features['pat_id']))\n",
        "pat_ids_dict = sorted(list(pat_ids_dict),reverse=True)\n",
        "print(len(pat_ids_dict))\n",
        "\n",
        "#maximum quarters of all patients, will truncate to 12\n",
        "maxnum_quarters = 0\n",
        "for pat in pat_ids_dict:\n",
        "    x = filtered_dict_features.loc[filtered_dict_features['pat_id']==pat]\n",
        "    maxnum_quarters = max(maxnum_quarters,x.shape[0])\n",
        "print(maxnum_quarters) #7\n",
        "\n",
        "#construct data for model training\n",
        "x = np.zeros((18312,101*6))\n",
        "## construct x matrix\n",
        "num_pat = 0\n",
        "for pat in pat_ids_dict:\n",
        "    pat_val = filtered_dict_features.loc[filtered_dict_features['pat_id']==pat]\n",
        "    pat_val = pat_val.drop(['pat_id','quarter'],axis=1)\n",
        "    raw_values = pat_val.values.tolist()\n",
        "    if len(raw_values)>6:\n",
        "        raw_values = raw_values[:-1]\n",
        "    values = [item for sublist in raw_values for item in sublist]\n",
        "    x[num_pat,:len(values)] = values\n",
        "    num_pat+=1"
      ],
      "execution_count": null,
      "outputs": []
    },
    {
      "cell_type": "code",
      "metadata": {
        "id": "Yylu9XX6ee1p"
      },
      "source": [
        "#build the y vector\n",
        "y_paid = filterred_target[['pat_id','paid']].groupby('pat_id').agg({'paid':['sum']}).reset_index() \n",
        "y_charge = filterred_target[['pat_id','charge']].groupby('pat_id').agg({'charge':['sum']}).reset_index() \n",
        "y_paid.columns = ['pat_id','paid']\n",
        "y_charge.columns = ['pat_id','charge']\n",
        "print(y_paid.shape,y_charge.shape)\n",
        "print(y_paid.isnull().values.any(),y_charge.isnull().values.any())\n",
        "\n",
        "y_charge['miss'] = y_charge.apply(lambda x: 0 if x['pat_id'] in pat_ids_dict else 1,axis=1)\n",
        "y_charge = y_charge.loc[y_charge['miss']!=1]\n",
        "y_charge = y_charge.drop(['miss'],axis=1)\n",
        "y_charge = y_charge.sort_values(by=['pat_id'],ascending = False)\n",
        "\n",
        "y_paid['miss'] = y_paid.apply(lambda x: 0 if x['pat_id'] in pat_ids_dict else 1,axis=1)\n",
        "y_paid = y_paid.loc[y_paid['miss']!=1]\n",
        "y_paid = y_paid.drop(['miss'],axis=1)\n",
        "y_paid = y_paid.sort_values(by=['pat_id'],ascending = False)\n",
        "\n",
        "#patient id is matched row by row between y_paid and x\n",
        "print(y_charge['pat_id'].to_list()==pat_ids_dict)\n",
        "print(y_paid['pat_id'].to_list()==pat_ids_dict)\n",
        "#True True\n",
        "\n",
        "ypaid = np.array(y_paid['paid'].to_list())\n",
        "#np.savetxt(\"ypaid.csv\", ypaid, delimiter=\",\")\n",
        "ycharge = np.array(y_charge['charge'].to_list())\n",
        "#np.savetxt(\"ycharge.csv\", ycharge, delimiter=\",\")"
      ],
      "execution_count": null,
      "outputs": []
    },
    {
      "cell_type": "code",
      "metadata": {
        "id": "4wSCphZS5pll"
      },
      "source": [
        "# Load csv data that is already preprocessed by Wei\n",
        "# -> Wei's code should be in this ipynb?"
      ],
      "execution_count": null,
      "outputs": []
    },
    {
      "cell_type": "markdown",
      "metadata": {
        "id": "TdNc02_fxghT"
      },
      "source": [
        "## **3. Dataset loading/normalization/split**"
      ]
    },
    {
      "cell_type": "markdown",
      "metadata": {
        "id": "_WjYLaS8YYqW"
      },
      "source": [
        "### 3.2 Load prepared data"
      ]
    },
    {
      "cell_type": "code",
      "metadata": {
        "id": "cWCk2xBeR61c"
      },
      "source": [
        "#\n",
        "def read_emb_csv(filepath):\n",
        "    #pd_x = pd.read_csv(filepath + 'x_18474_3348.csv')\n",
        "    #pd_x = pd.read_csv(filepath + 'x_18474_3336.csv')\n",
        "    pd_y_charge = pd.read_csv(filepath + 'ycharge.csv')\n",
        "    pd_y_paid = pd.read_csv(filepath + 'ypaid.csv')\n",
        "\n",
        "    pd_x = pd.read_csv(filepath + 'x_18312_606.csv')\n",
        "    pd_y_paid = pd.read_csv(filepath + 'ypaid_18312.csv')\n",
        "    return pd_x, pd_y_charge, pd_y_paid\n",
        "\n",
        "# load the emb csv\n",
        "EMB_DATA_PATH = '/content/drive/MyDrive/iqvia_data/'\n",
        "pd_x, pd_y_charge, pd_y_paid = read_emb_csv(EMB_DATA_PATH) \n",
        "    "
      ],
      "execution_count": 6,
      "outputs": []
    },
    {
      "cell_type": "code",
      "metadata": {
        "id": "f3cDoh8DhZKb",
        "colab": {
          "base_uri": "https://localhost:8080/"
        },
        "outputId": "b3ae58cb-a7f9-4172-851f-c47474979bf3"
      },
      "source": [
        "print(\"pd_x: {}\".format(pd_x.shape))\n",
        "print(\"pd_y_charge: {}\".format(pd_y_charge.shape))\n",
        "print(\"pd_y_paid: {}\".format(pd_y_paid.shape))"
      ],
      "execution_count": 7,
      "outputs": [
        {
          "output_type": "stream",
          "text": [
            "pd_x: (18311, 606)\n",
            "pd_y_charge: (18473, 1)\n",
            "pd_y_paid: (18311, 1)\n"
          ],
          "name": "stdout"
        }
      ]
    },
    {
      "cell_type": "code",
      "metadata": {
        "colab": {
          "base_uri": "https://localhost:8080/",
          "height": 297
        },
        "id": "xnXvmTXTOTDg",
        "outputId": "03aa75c7-2f69-47a9-a897-0bc9dfa15116"
      },
      "source": [
        "pd_y_paid.describe()"
      ],
      "execution_count": null,
      "outputs": [
        {
          "output_type": "execute_result",
          "data": {
            "text/html": [
              "<div>\n",
              "<style scoped>\n",
              "    .dataframe tbody tr th:only-of-type {\n",
              "        vertical-align: middle;\n",
              "    }\n",
              "\n",
              "    .dataframe tbody tr th {\n",
              "        vertical-align: top;\n",
              "    }\n",
              "\n",
              "    .dataframe thead th {\n",
              "        text-align: right;\n",
              "    }\n",
              "</style>\n",
              "<table border=\"1\" class=\"dataframe\">\n",
              "  <thead>\n",
              "    <tr style=\"text-align: right;\">\n",
              "      <th></th>\n",
              "      <th>5.061299999999999955e+02</th>\n",
              "    </tr>\n",
              "  </thead>\n",
              "  <tbody>\n",
              "    <tr>\n",
              "      <th>count</th>\n",
              "      <td>1.847300e+04</td>\n",
              "    </tr>\n",
              "    <tr>\n",
              "      <th>mean</th>\n",
              "      <td>1.810990e+03</td>\n",
              "    </tr>\n",
              "    <tr>\n",
              "      <th>std</th>\n",
              "      <td>1.460997e+04</td>\n",
              "    </tr>\n",
              "    <tr>\n",
              "      <th>min</th>\n",
              "      <td>0.000000e+00</td>\n",
              "    </tr>\n",
              "    <tr>\n",
              "      <th>25%</th>\n",
              "      <td>9.391000e+01</td>\n",
              "    </tr>\n",
              "    <tr>\n",
              "      <th>50%</th>\n",
              "      <td>3.042600e+02</td>\n",
              "    </tr>\n",
              "    <tr>\n",
              "      <th>75%</th>\n",
              "      <td>9.233300e+02</td>\n",
              "    </tr>\n",
              "    <tr>\n",
              "      <th>max</th>\n",
              "      <td>1.552063e+06</td>\n",
              "    </tr>\n",
              "  </tbody>\n",
              "</table>\n",
              "</div>"
            ],
            "text/plain": [
              "       5.061299999999999955e+02\n",
              "count              1.847300e+04\n",
              "mean               1.810990e+03\n",
              "std                1.460997e+04\n",
              "min                0.000000e+00\n",
              "25%                9.391000e+01\n",
              "50%                3.042600e+02\n",
              "75%                9.233300e+02\n",
              "max                1.552063e+06"
            ]
          },
          "metadata": {
            "tags": []
          },
          "execution_count": 21
        }
      ]
    },
    {
      "cell_type": "code",
      "metadata": {
        "colab": {
          "base_uri": "https://localhost:8080/",
          "height": 328
        },
        "id": "W68OaeLANnb5",
        "outputId": "e642059a-d4af-40c1-d55f-bf762400db9a"
      },
      "source": [
        "pd_y_paid.hist(bins=100, log=True)"
      ],
      "execution_count": null,
      "outputs": [
        {
          "output_type": "execute_result",
          "data": {
            "text/plain": [
              "array([[<matplotlib.axes._subplots.AxesSubplot object at 0x7f890b427e90>]],\n",
              "      dtype=object)"
            ]
          },
          "metadata": {
            "tags": []
          },
          "execution_count": 22
        },
        {
          "output_type": "display_data",
          "data": {
            "image/png": "[encoded data removed]",
            "text/plain": [
              "<Figure size 432x288 with 1 Axes>"
            ]
          },
          "metadata": {
            "tags": [],
            "needs_background": "light"
          }
        }
      ]
    },
    {
      "cell_type": "code",
      "metadata": {
        "colab": {
          "base_uri": "https://localhost:8080/"
        },
        "id": "P5GaZPJkQTYr",
        "outputId": "1d5ba834-39ab-4bb9-a0f6-0c228acbb27d"
      },
      "source": [
        "outlier = np.where(pd_y_paid > 100000)[0]\n",
        "print(outlier)\n",
        "print(outlier.shape)\n",
        "#print(pd_y_paid.loc[np.where(pd_y_paid > 100000)[0]])"
      ],
      "execution_count": 8,
      "outputs": [
        {
          "output_type": "stream",
          "text": [
            "[  194   442  1076  1343  1696  2909  3278  3853  4032  4473  5777  6600\n",
            "  6767  6839  8166 11376 12221 12363 13057 16598]\n",
            "(20,)\n"
          ],
          "name": "stdout"
        }
      ]
    },
    {
      "cell_type": "code",
      "metadata": {
        "id": "JJ2m5lcRR2gX"
      },
      "source": [
        "# Drop outlier\n",
        "pd_x = pd_x.drop(index=outlier)\n",
        "pd_y_paid = pd_y_paid.drop(index=outlier)"
      ],
      "execution_count": 9,
      "outputs": []
    },
    {
      "cell_type": "code",
      "metadata": {
        "colab": {
          "base_uri": "https://localhost:8080/",
          "height": 346
        },
        "id": "dz14FTy4aFJu",
        "outputId": "81d6446b-fac4-4f7c-9c81-68992af7f4dc"
      },
      "source": [
        "pd_x.describe()"
      ],
      "execution_count": null,
      "outputs": [
        {
          "output_type": "execute_result",
          "data": {
            "text/html": [
              "<div>\n",
              "<style scoped>\n",
              "    .dataframe tbody tr th:only-of-type {\n",
              "        vertical-align: middle;\n",
              "    }\n",
              "\n",
              "    .dataframe tbody tr th {\n",
              "        vertical-align: top;\n",
              "    }\n",
              "\n",
              "    .dataframe thead th {\n",
              "        text-align: right;\n",
              "    }\n",
              "</style>\n",
              "<table border=\"1\" class=\"dataframe\">\n",
              "  <thead>\n",
              "    <tr style=\"text-align: right;\">\n",
              "      <th></th>\n",
              "      <th>3.487200000000000273e+02</th>\n",
              "      <th>0.000000000000000000e+00</th>\n",
              "      <th>0.000000000000000000e+00.1</th>\n",
              "      <th>0.000000000000000000e+00.2</th>\n",
              "      <th>8.000000000000000000e+00</th>\n",
              "      <th>0.000000000000000000e+00.3</th>\n",
              "      <th>1.000000000000000000e+01</th>\n",
              "      <th>0.000000000000000000e+00.4</th>\n",
              "      <th>0.000000000000000000e+00.5</th>\n",
              "      <th>0.000000000000000000e+00.6</th>\n",
              "      <th>0.000000000000000000e+00.7</th>\n",
              "      <th>0.000000000000000000e+00.8</th>\n",
              "      <th>0.000000000000000000e+00.9</th>\n",
              "      <th>0.000000000000000000e+00.10</th>\n",
              "      <th>0.000000000000000000e+00.11</th>\n",
              "      <th>0.000000000000000000e+00.12</th>\n",
              "      <th>0.000000000000000000e+00.13</th>\n",
              "      <th>0.000000000000000000e+00.14</th>\n",
              "      <th>0.000000000000000000e+00.15</th>\n",
              "      <th>0.000000000000000000e+00.16</th>\n",
              "      <th>0.000000000000000000e+00.17</th>\n",
              "      <th>0.000000000000000000e+00.18</th>\n",
              "      <th>0.000000000000000000e+00.19</th>\n",
              "      <th>0.000000000000000000e+00.20</th>\n",
              "      <th>0.000000000000000000e+00.21</th>\n",
              "      <th>0.000000000000000000e+00.22</th>\n",
              "      <th>0.000000000000000000e+00.23</th>\n",
              "      <th>0.000000000000000000e+00.24</th>\n",
              "      <th>0.000000000000000000e+00.25</th>\n",
              "      <th>0.000000000000000000e+00.26</th>\n",
              "      <th>0.000000000000000000e+00.27</th>\n",
              "      <th>0.000000000000000000e+00.28</th>\n",
              "      <th>0.000000000000000000e+00.29</th>\n",
              "      <th>0.000000000000000000e+00.30</th>\n",
              "      <th>0.000000000000000000e+00.31</th>\n",
              "      <th>0.000000000000000000e+00.32</th>\n",
              "      <th>0.000000000000000000e+00.33</th>\n",
              "      <th>0.000000000000000000e+00.34</th>\n",
              "      <th>0.000000000000000000e+00.35</th>\n",
              "      <th>0.000000000000000000e+00.36</th>\n",
              "      <th>...</th>\n",
              "      <th>0.000000000000000000e+00.3245</th>\n",
              "      <th>0.000000000000000000e+00.3246</th>\n",
              "      <th>0.000000000000000000e+00.3247</th>\n",
              "      <th>0.000000000000000000e+00.3248</th>\n",
              "      <th>0.000000000000000000e+00.3249</th>\n",
              "      <th>0.000000000000000000e+00.3250</th>\n",
              "      <th>0.000000000000000000e+00.3251</th>\n",
              "      <th>0.000000000000000000e+00.3252</th>\n",
              "      <th>0.000000000000000000e+00.3253</th>\n",
              "      <th>0.000000000000000000e+00.3254</th>\n",
              "      <th>0.000000000000000000e+00.3255</th>\n",
              "      <th>0.000000000000000000e+00.3256</th>\n",
              "      <th>0.000000000000000000e+00.3257</th>\n",
              "      <th>0.000000000000000000e+00.3258</th>\n",
              "      <th>0.000000000000000000e+00.3259</th>\n",
              "      <th>0.000000000000000000e+00.3260</th>\n",
              "      <th>0.000000000000000000e+00.3261</th>\n",
              "      <th>0.000000000000000000e+00.3262</th>\n",
              "      <th>0.000000000000000000e+00.3263</th>\n",
              "      <th>0.000000000000000000e+00.3264</th>\n",
              "      <th>0.000000000000000000e+00.3265</th>\n",
              "      <th>0.000000000000000000e+00.3266</th>\n",
              "      <th>0.000000000000000000e+00.3267</th>\n",
              "      <th>0.000000000000000000e+00.3268</th>\n",
              "      <th>0.000000000000000000e+00.3269</th>\n",
              "      <th>0.000000000000000000e+00.3270</th>\n",
              "      <th>0.000000000000000000e+00.3271</th>\n",
              "      <th>0.000000000000000000e+00.3272</th>\n",
              "      <th>0.000000000000000000e+00.3273</th>\n",
              "      <th>0.000000000000000000e+00.3274</th>\n",
              "      <th>0.000000000000000000e+00.3275</th>\n",
              "      <th>0.000000000000000000e+00.3276</th>\n",
              "      <th>0.000000000000000000e+00.3277</th>\n",
              "      <th>0.000000000000000000e+00.3278</th>\n",
              "      <th>0.000000000000000000e+00.3279</th>\n",
              "      <th>0.000000000000000000e+00.3280</th>\n",
              "      <th>0.000000000000000000e+00.3281</th>\n",
              "      <th>0.000000000000000000e+00.3282</th>\n",
              "      <th>0.000000000000000000e+00.3283</th>\n",
              "      <th>0.000000000000000000e+00.3284</th>\n",
              "    </tr>\n",
              "  </thead>\n",
              "  <tbody>\n",
              "    <tr>\n",
              "      <th>count</th>\n",
              "      <td>18453.000000</td>\n",
              "      <td>18453.000000</td>\n",
              "      <td>18453.000000</td>\n",
              "      <td>18453.000000</td>\n",
              "      <td>18453.000000</td>\n",
              "      <td>18453.000000</td>\n",
              "      <td>18453.000000</td>\n",
              "      <td>18453.000000</td>\n",
              "      <td>18453.000000</td>\n",
              "      <td>18453.000000</td>\n",
              "      <td>18453.000000</td>\n",
              "      <td>18453.000000</td>\n",
              "      <td>18453.000000</td>\n",
              "      <td>18453.000000</td>\n",
              "      <td>18453.000000</td>\n",
              "      <td>18453.000000</td>\n",
              "      <td>18453.000000</td>\n",
              "      <td>18453.000000</td>\n",
              "      <td>18453.000000</td>\n",
              "      <td>18453.000000</td>\n",
              "      <td>18453.000000</td>\n",
              "      <td>18453.000000</td>\n",
              "      <td>18453.000000</td>\n",
              "      <td>18453.000000</td>\n",
              "      <td>18453.000000</td>\n",
              "      <td>18453.000000</td>\n",
              "      <td>18453.000000</td>\n",
              "      <td>18453.000000</td>\n",
              "      <td>18453.000000</td>\n",
              "      <td>18453.000000</td>\n",
              "      <td>18453.000000</td>\n",
              "      <td>18453.000000</td>\n",
              "      <td>18453.000000</td>\n",
              "      <td>18453.000000</td>\n",
              "      <td>18453.000000</td>\n",
              "      <td>18453.000000</td>\n",
              "      <td>18453.000000</td>\n",
              "      <td>18453.000000</td>\n",
              "      <td>18453.000000</td>\n",
              "      <td>18453.000000</td>\n",
              "      <td>...</td>\n",
              "      <td>18453.000000</td>\n",
              "      <td>18453.000000</td>\n",
              "      <td>18453.000000</td>\n",
              "      <td>18453.000000</td>\n",
              "      <td>18453.000000</td>\n",
              "      <td>18453.000000</td>\n",
              "      <td>18453.000000</td>\n",
              "      <td>18453.000000</td>\n",
              "      <td>18453.000000</td>\n",
              "      <td>18453.000000</td>\n",
              "      <td>18453.000000</td>\n",
              "      <td>18453.000000</td>\n",
              "      <td>18453.000000</td>\n",
              "      <td>18453.000000</td>\n",
              "      <td>18453.000000</td>\n",
              "      <td>18453.000000</td>\n",
              "      <td>18453.000000</td>\n",
              "      <td>18453.000000</td>\n",
              "      <td>18453.0</td>\n",
              "      <td>18453.000000</td>\n",
              "      <td>18453.000000</td>\n",
              "      <td>18453.000000</td>\n",
              "      <td>18453.000000</td>\n",
              "      <td>18453.000000</td>\n",
              "      <td>18453.000000</td>\n",
              "      <td>18453.000000</td>\n",
              "      <td>18453.000000</td>\n",
              "      <td>18453.000000</td>\n",
              "      <td>18453.000000</td>\n",
              "      <td>18453.000000</td>\n",
              "      <td>18453.000000</td>\n",
              "      <td>18453.000000</td>\n",
              "      <td>18453.000000</td>\n",
              "      <td>18453.000000</td>\n",
              "      <td>18453.000000</td>\n",
              "      <td>18453.000000</td>\n",
              "      <td>18453.000000</td>\n",
              "      <td>18453.000000</td>\n",
              "      <td>18453.0</td>\n",
              "      <td>18453.0</td>\n",
              "    </tr>\n",
              "    <tr>\n",
              "      <th>mean</th>\n",
              "      <td>927.337872</td>\n",
              "      <td>4.541104</td>\n",
              "      <td>0.023248</td>\n",
              "      <td>2.297187</td>\n",
              "      <td>2.903593</td>\n",
              "      <td>0.224137</td>\n",
              "      <td>0.162846</td>\n",
              "      <td>2.782800</td>\n",
              "      <td>0.149786</td>\n",
              "      <td>0.011543</td>\n",
              "      <td>0.015119</td>\n",
              "      <td>0.032786</td>\n",
              "      <td>0.015770</td>\n",
              "      <td>0.012031</td>\n",
              "      <td>0.011001</td>\n",
              "      <td>0.016366</td>\n",
              "      <td>0.037772</td>\n",
              "      <td>0.027584</td>\n",
              "      <td>0.098304</td>\n",
              "      <td>0.088603</td>\n",
              "      <td>0.012302</td>\n",
              "      <td>0.043841</td>\n",
              "      <td>0.024657</td>\n",
              "      <td>0.032786</td>\n",
              "      <td>0.024386</td>\n",
              "      <td>0.011272</td>\n",
              "      <td>0.031648</td>\n",
              "      <td>0.007858</td>\n",
              "      <td>0.011922</td>\n",
              "      <td>0.014686</td>\n",
              "      <td>0.010730</td>\n",
              "      <td>0.060370</td>\n",
              "      <td>0.011380</td>\n",
              "      <td>0.013602</td>\n",
              "      <td>0.012031</td>\n",
              "      <td>0.012898</td>\n",
              "      <td>0.023628</td>\n",
              "      <td>0.051428</td>\n",
              "      <td>0.009755</td>\n",
              "      <td>0.015661</td>\n",
              "      <td>...</td>\n",
              "      <td>0.005257</td>\n",
              "      <td>0.001734</td>\n",
              "      <td>0.000542</td>\n",
              "      <td>0.002222</td>\n",
              "      <td>0.003143</td>\n",
              "      <td>0.002113</td>\n",
              "      <td>0.003577</td>\n",
              "      <td>0.000542</td>\n",
              "      <td>0.006503</td>\n",
              "      <td>0.003089</td>\n",
              "      <td>0.002005</td>\n",
              "      <td>0.005419</td>\n",
              "      <td>0.004064</td>\n",
              "      <td>0.001843</td>\n",
              "      <td>0.002059</td>\n",
              "      <td>0.002222</td>\n",
              "      <td>0.001734</td>\n",
              "      <td>0.005907</td>\n",
              "      <td>0.0</td>\n",
              "      <td>0.001138</td>\n",
              "      <td>0.000054</td>\n",
              "      <td>0.003577</td>\n",
              "      <td>0.000704</td>\n",
              "      <td>0.002059</td>\n",
              "      <td>0.000813</td>\n",
              "      <td>0.000325</td>\n",
              "      <td>0.005311</td>\n",
              "      <td>0.004064</td>\n",
              "      <td>0.001138</td>\n",
              "      <td>0.001734</td>\n",
              "      <td>0.009809</td>\n",
              "      <td>0.003685</td>\n",
              "      <td>0.000108</td>\n",
              "      <td>0.005473</td>\n",
              "      <td>0.001301</td>\n",
              "      <td>0.001463</td>\n",
              "      <td>0.001897</td>\n",
              "      <td>0.001301</td>\n",
              "      <td>0.0</td>\n",
              "      <td>0.0</td>\n",
              "    </tr>\n",
              "    <tr>\n",
              "      <th>std</th>\n",
              "      <td>4189.457729</td>\n",
              "      <td>10.351737</td>\n",
              "      <td>0.243607</td>\n",
              "      <td>4.565504</td>\n",
              "      <td>5.394192</td>\n",
              "      <td>0.925029</td>\n",
              "      <td>1.153127</td>\n",
              "      <td>6.833141</td>\n",
              "      <td>0.497119</td>\n",
              "      <td>0.156606</td>\n",
              "      <td>0.234743</td>\n",
              "      <td>0.299863</td>\n",
              "      <td>0.185715</td>\n",
              "      <td>0.163179</td>\n",
              "      <td>0.126819</td>\n",
              "      <td>0.156349</td>\n",
              "      <td>0.281162</td>\n",
              "      <td>0.172484</td>\n",
              "      <td>0.391742</td>\n",
              "      <td>0.300672</td>\n",
              "      <td>0.142408</td>\n",
              "      <td>0.256451</td>\n",
              "      <td>0.181788</td>\n",
              "      <td>0.225845</td>\n",
              "      <td>0.200399</td>\n",
              "      <td>0.109602</td>\n",
              "      <td>0.189914</td>\n",
              "      <td>0.111612</td>\n",
              "      <td>0.117644</td>\n",
              "      <td>0.130661</td>\n",
              "      <td>0.113541</td>\n",
              "      <td>0.260145</td>\n",
              "      <td>0.120878</td>\n",
              "      <td>0.181759</td>\n",
              "      <td>0.173169</td>\n",
              "      <td>0.118459</td>\n",
              "      <td>0.163240</td>\n",
              "      <td>0.239476</td>\n",
              "      <td>0.146541</td>\n",
              "      <td>0.144723</td>\n",
              "      <td>...</td>\n",
              "      <td>0.321942</td>\n",
              "      <td>0.090145</td>\n",
              "      <td>0.059804</td>\n",
              "      <td>0.101182</td>\n",
              "      <td>0.145720</td>\n",
              "      <td>0.203337</td>\n",
              "      <td>0.225437</td>\n",
              "      <td>0.034525</td>\n",
              "      <td>0.253869</td>\n",
              "      <td>0.313095</td>\n",
              "      <td>0.101187</td>\n",
              "      <td>0.425291</td>\n",
              "      <td>0.180429</td>\n",
              "      <td>0.124919</td>\n",
              "      <td>0.132495</td>\n",
              "      <td>0.119819</td>\n",
              "      <td>0.094260</td>\n",
              "      <td>0.201118</td>\n",
              "      <td>0.0</td>\n",
              "      <td>0.094556</td>\n",
              "      <td>0.007362</td>\n",
              "      <td>0.280882</td>\n",
              "      <td>0.052568</td>\n",
              "      <td>0.189972</td>\n",
              "      <td>0.062025</td>\n",
              "      <td>0.044169</td>\n",
              "      <td>0.540646</td>\n",
              "      <td>0.183112</td>\n",
              "      <td>0.058421</td>\n",
              "      <td>0.130438</td>\n",
              "      <td>0.848266</td>\n",
              "      <td>0.255203</td>\n",
              "      <td>0.014723</td>\n",
              "      <td>0.678893</td>\n",
              "      <td>0.176676</td>\n",
              "      <td>0.093977</td>\n",
              "      <td>0.257653</td>\n",
              "      <td>0.069047</td>\n",
              "      <td>0.0</td>\n",
              "      <td>0.0</td>\n",
              "    </tr>\n",
              "    <tr>\n",
              "      <th>min</th>\n",
              "      <td>-4.620000</td>\n",
              "      <td>0.000000</td>\n",
              "      <td>0.000000</td>\n",
              "      <td>0.000000</td>\n",
              "      <td>0.000000</td>\n",
              "      <td>0.000000</td>\n",
              "      <td>0.000000</td>\n",
              "      <td>0.000000</td>\n",
              "      <td>0.000000</td>\n",
              "      <td>0.000000</td>\n",
              "      <td>0.000000</td>\n",
              "      <td>0.000000</td>\n",
              "      <td>0.000000</td>\n",
              "      <td>0.000000</td>\n",
              "      <td>0.000000</td>\n",
              "      <td>0.000000</td>\n",
              "      <td>0.000000</td>\n",
              "      <td>0.000000</td>\n",
              "      <td>0.000000</td>\n",
              "      <td>0.000000</td>\n",
              "      <td>0.000000</td>\n",
              "      <td>0.000000</td>\n",
              "      <td>0.000000</td>\n",
              "      <td>0.000000</td>\n",
              "      <td>0.000000</td>\n",
              "      <td>0.000000</td>\n",
              "      <td>0.000000</td>\n",
              "      <td>0.000000</td>\n",
              "      <td>0.000000</td>\n",
              "      <td>0.000000</td>\n",
              "      <td>0.000000</td>\n",
              "      <td>0.000000</td>\n",
              "      <td>0.000000</td>\n",
              "      <td>0.000000</td>\n",
              "      <td>0.000000</td>\n",
              "      <td>0.000000</td>\n",
              "      <td>0.000000</td>\n",
              "      <td>0.000000</td>\n",
              "      <td>0.000000</td>\n",
              "      <td>0.000000</td>\n",
              "      <td>...</td>\n",
              "      <td>0.000000</td>\n",
              "      <td>0.000000</td>\n",
              "      <td>0.000000</td>\n",
              "      <td>0.000000</td>\n",
              "      <td>0.000000</td>\n",
              "      <td>0.000000</td>\n",
              "      <td>0.000000</td>\n",
              "      <td>0.000000</td>\n",
              "      <td>0.000000</td>\n",
              "      <td>0.000000</td>\n",
              "      <td>0.000000</td>\n",
              "      <td>0.000000</td>\n",
              "      <td>0.000000</td>\n",
              "      <td>0.000000</td>\n",
              "      <td>0.000000</td>\n",
              "      <td>0.000000</td>\n",
              "      <td>0.000000</td>\n",
              "      <td>0.000000</td>\n",
              "      <td>0.0</td>\n",
              "      <td>0.000000</td>\n",
              "      <td>0.000000</td>\n",
              "      <td>0.000000</td>\n",
              "      <td>0.000000</td>\n",
              "      <td>0.000000</td>\n",
              "      <td>0.000000</td>\n",
              "      <td>0.000000</td>\n",
              "      <td>0.000000</td>\n",
              "      <td>0.000000</td>\n",
              "      <td>0.000000</td>\n",
              "      <td>0.000000</td>\n",
              "      <td>0.000000</td>\n",
              "      <td>0.000000</td>\n",
              "      <td>0.000000</td>\n",
              "      <td>0.000000</td>\n",
              "      <td>0.000000</td>\n",
              "      <td>0.000000</td>\n",
              "      <td>0.000000</td>\n",
              "      <td>0.000000</td>\n",
              "      <td>0.0</td>\n",
              "      <td>0.0</td>\n",
              "    </tr>\n",
              "    <tr>\n",
              "      <th>25%</th>\n",
              "      <td>43.930000</td>\n",
              "      <td>0.000000</td>\n",
              "      <td>0.000000</td>\n",
              "      <td>0.000000</td>\n",
              "      <td>0.000000</td>\n",
              "      <td>0.000000</td>\n",
              "      <td>0.000000</td>\n",
              "      <td>0.000000</td>\n",
              "      <td>0.000000</td>\n",
              "      <td>0.000000</td>\n",
              "      <td>0.000000</td>\n",
              "      <td>0.000000</td>\n",
              "      <td>0.000000</td>\n",
              "      <td>0.000000</td>\n",
              "      <td>0.000000</td>\n",
              "      <td>0.000000</td>\n",
              "      <td>0.000000</td>\n",
              "      <td>0.000000</td>\n",
              "      <td>0.000000</td>\n",
              "      <td>0.000000</td>\n",
              "      <td>0.000000</td>\n",
              "      <td>0.000000</td>\n",
              "      <td>0.000000</td>\n",
              "      <td>0.000000</td>\n",
              "      <td>0.000000</td>\n",
              "      <td>0.000000</td>\n",
              "      <td>0.000000</td>\n",
              "      <td>0.000000</td>\n",
              "      <td>0.000000</td>\n",
              "      <td>0.000000</td>\n",
              "      <td>0.000000</td>\n",
              "      <td>0.000000</td>\n",
              "      <td>0.000000</td>\n",
              "      <td>0.000000</td>\n",
              "      <td>0.000000</td>\n",
              "      <td>0.000000</td>\n",
              "      <td>0.000000</td>\n",
              "      <td>0.000000</td>\n",
              "      <td>0.000000</td>\n",
              "      <td>0.000000</td>\n",
              "      <td>...</td>\n",
              "      <td>0.000000</td>\n",
              "      <td>0.000000</td>\n",
              "      <td>0.000000</td>\n",
              "      <td>0.000000</td>\n",
              "      <td>0.000000</td>\n",
              "      <td>0.000000</td>\n",
              "      <td>0.000000</td>\n",
              "      <td>0.000000</td>\n",
              "      <td>0.000000</td>\n",
              "      <td>0.000000</td>\n",
              "      <td>0.000000</td>\n",
              "      <td>0.000000</td>\n",
              "      <td>0.000000</td>\n",
              "      <td>0.000000</td>\n",
              "      <td>0.000000</td>\n",
              "      <td>0.000000</td>\n",
              "      <td>0.000000</td>\n",
              "      <td>0.000000</td>\n",
              "      <td>0.0</td>\n",
              "      <td>0.000000</td>\n",
              "      <td>0.000000</td>\n",
              "      <td>0.000000</td>\n",
              "      <td>0.000000</td>\n",
              "      <td>0.000000</td>\n",
              "      <td>0.000000</td>\n",
              "      <td>0.000000</td>\n",
              "      <td>0.000000</td>\n",
              "      <td>0.000000</td>\n",
              "      <td>0.000000</td>\n",
              "      <td>0.000000</td>\n",
              "      <td>0.000000</td>\n",
              "      <td>0.000000</td>\n",
              "      <td>0.000000</td>\n",
              "      <td>0.000000</td>\n",
              "      <td>0.000000</td>\n",
              "      <td>0.000000</td>\n",
              "      <td>0.000000</td>\n",
              "      <td>0.000000</td>\n",
              "      <td>0.0</td>\n",
              "      <td>0.0</td>\n",
              "    </tr>\n",
              "    <tr>\n",
              "      <th>50%</th>\n",
              "      <td>173.430000</td>\n",
              "      <td>1.000000</td>\n",
              "      <td>0.000000</td>\n",
              "      <td>1.000000</td>\n",
              "      <td>1.000000</td>\n",
              "      <td>0.000000</td>\n",
              "      <td>0.000000</td>\n",
              "      <td>1.000000</td>\n",
              "      <td>0.000000</td>\n",
              "      <td>0.000000</td>\n",
              "      <td>0.000000</td>\n",
              "      <td>0.000000</td>\n",
              "      <td>0.000000</td>\n",
              "      <td>0.000000</td>\n",
              "      <td>0.000000</td>\n",
              "      <td>0.000000</td>\n",
              "      <td>0.000000</td>\n",
              "      <td>0.000000</td>\n",
              "      <td>0.000000</td>\n",
              "      <td>0.000000</td>\n",
              "      <td>0.000000</td>\n",
              "      <td>0.000000</td>\n",
              "      <td>0.000000</td>\n",
              "      <td>0.000000</td>\n",
              "      <td>0.000000</td>\n",
              "      <td>0.000000</td>\n",
              "      <td>0.000000</td>\n",
              "      <td>0.000000</td>\n",
              "      <td>0.000000</td>\n",
              "      <td>0.000000</td>\n",
              "      <td>0.000000</td>\n",
              "      <td>0.000000</td>\n",
              "      <td>0.000000</td>\n",
              "      <td>0.000000</td>\n",
              "      <td>0.000000</td>\n",
              "      <td>0.000000</td>\n",
              "      <td>0.000000</td>\n",
              "      <td>0.000000</td>\n",
              "      <td>0.000000</td>\n",
              "      <td>0.000000</td>\n",
              "      <td>...</td>\n",
              "      <td>0.000000</td>\n",
              "      <td>0.000000</td>\n",
              "      <td>0.000000</td>\n",
              "      <td>0.000000</td>\n",
              "      <td>0.000000</td>\n",
              "      <td>0.000000</td>\n",
              "      <td>0.000000</td>\n",
              "      <td>0.000000</td>\n",
              "      <td>0.000000</td>\n",
              "      <td>0.000000</td>\n",
              "      <td>0.000000</td>\n",
              "      <td>0.000000</td>\n",
              "      <td>0.000000</td>\n",
              "      <td>0.000000</td>\n",
              "      <td>0.000000</td>\n",
              "      <td>0.000000</td>\n",
              "      <td>0.000000</td>\n",
              "      <td>0.000000</td>\n",
              "      <td>0.0</td>\n",
              "      <td>0.000000</td>\n",
              "      <td>0.000000</td>\n",
              "      <td>0.000000</td>\n",
              "      <td>0.000000</td>\n",
              "      <td>0.000000</td>\n",
              "      <td>0.000000</td>\n",
              "      <td>0.000000</td>\n",
              "      <td>0.000000</td>\n",
              "      <td>0.000000</td>\n",
              "      <td>0.000000</td>\n",
              "      <td>0.000000</td>\n",
              "      <td>0.000000</td>\n",
              "      <td>0.000000</td>\n",
              "      <td>0.000000</td>\n",
              "      <td>0.000000</td>\n",
              "      <td>0.000000</td>\n",
              "      <td>0.000000</td>\n",
              "      <td>0.000000</td>\n",
              "      <td>0.000000</td>\n",
              "      <td>0.0</td>\n",
              "      <td>0.0</td>\n",
              "    </tr>\n",
              "    <tr>\n",
              "      <th>75%</th>\n",
              "      <td>509.780000</td>\n",
              "      <td>5.000000</td>\n",
              "      <td>0.000000</td>\n",
              "      <td>2.000000</td>\n",
              "      <td>3.000000</td>\n",
              "      <td>0.000000</td>\n",
              "      <td>0.000000</td>\n",
              "      <td>3.000000</td>\n",
              "      <td>0.000000</td>\n",
              "      <td>0.000000</td>\n",
              "      <td>0.000000</td>\n",
              "      <td>0.000000</td>\n",
              "      <td>0.000000</td>\n",
              "      <td>0.000000</td>\n",
              "      <td>0.000000</td>\n",
              "      <td>0.000000</td>\n",
              "      <td>0.000000</td>\n",
              "      <td>0.000000</td>\n",
              "      <td>0.000000</td>\n",
              "      <td>0.000000</td>\n",
              "      <td>0.000000</td>\n",
              "      <td>0.000000</td>\n",
              "      <td>0.000000</td>\n",
              "      <td>0.000000</td>\n",
              "      <td>0.000000</td>\n",
              "      <td>0.000000</td>\n",
              "      <td>0.000000</td>\n",
              "      <td>0.000000</td>\n",
              "      <td>0.000000</td>\n",
              "      <td>0.000000</td>\n",
              "      <td>0.000000</td>\n",
              "      <td>0.000000</td>\n",
              "      <td>0.000000</td>\n",
              "      <td>0.000000</td>\n",
              "      <td>0.000000</td>\n",
              "      <td>0.000000</td>\n",
              "      <td>0.000000</td>\n",
              "      <td>0.000000</td>\n",
              "      <td>0.000000</td>\n",
              "      <td>0.000000</td>\n",
              "      <td>...</td>\n",
              "      <td>0.000000</td>\n",
              "      <td>0.000000</td>\n",
              "      <td>0.000000</td>\n",
              "      <td>0.000000</td>\n",
              "      <td>0.000000</td>\n",
              "      <td>0.000000</td>\n",
              "      <td>0.000000</td>\n",
              "      <td>0.000000</td>\n",
              "      <td>0.000000</td>\n",
              "      <td>0.000000</td>\n",
              "      <td>0.000000</td>\n",
              "      <td>0.000000</td>\n",
              "      <td>0.000000</td>\n",
              "      <td>0.000000</td>\n",
              "      <td>0.000000</td>\n",
              "      <td>0.000000</td>\n",
              "      <td>0.000000</td>\n",
              "      <td>0.000000</td>\n",
              "      <td>0.0</td>\n",
              "      <td>0.000000</td>\n",
              "      <td>0.000000</td>\n",
              "      <td>0.000000</td>\n",
              "      <td>0.000000</td>\n",
              "      <td>0.000000</td>\n",
              "      <td>0.000000</td>\n",
              "      <td>0.000000</td>\n",
              "      <td>0.000000</td>\n",
              "      <td>0.000000</td>\n",
              "      <td>0.000000</td>\n",
              "      <td>0.000000</td>\n",
              "      <td>0.000000</td>\n",
              "      <td>0.000000</td>\n",
              "      <td>0.000000</td>\n",
              "      <td>0.000000</td>\n",
              "      <td>0.000000</td>\n",
              "      <td>0.000000</td>\n",
              "      <td>0.000000</td>\n",
              "      <td>0.000000</td>\n",
              "      <td>0.0</td>\n",
              "      <td>0.0</td>\n",
              "    </tr>\n",
              "    <tr>\n",
              "      <th>max</th>\n",
              "      <td>215211.810000</td>\n",
              "      <td>488.000000</td>\n",
              "      <td>13.000000</td>\n",
              "      <td>144.000000</td>\n",
              "      <td>164.000000</td>\n",
              "      <td>35.000000</td>\n",
              "      <td>39.000000</td>\n",
              "      <td>253.000000</td>\n",
              "      <td>16.000000</td>\n",
              "      <td>7.000000</td>\n",
              "      <td>19.000000</td>\n",
              "      <td>25.000000</td>\n",
              "      <td>8.000000</td>\n",
              "      <td>6.000000</td>\n",
              "      <td>4.000000</td>\n",
              "      <td>3.000000</td>\n",
              "      <td>14.000000</td>\n",
              "      <td>3.000000</td>\n",
              "      <td>12.000000</td>\n",
              "      <td>4.000000</td>\n",
              "      <td>6.000000</td>\n",
              "      <td>8.000000</td>\n",
              "      <td>6.000000</td>\n",
              "      <td>9.000000</td>\n",
              "      <td>8.000000</td>\n",
              "      <td>2.000000</td>\n",
              "      <td>7.000000</td>\n",
              "      <td>5.000000</td>\n",
              "      <td>3.000000</td>\n",
              "      <td>3.000000</td>\n",
              "      <td>4.000000</td>\n",
              "      <td>4.000000</td>\n",
              "      <td>4.000000</td>\n",
              "      <td>12.000000</td>\n",
              "      <td>10.000000</td>\n",
              "      <td>2.000000</td>\n",
              "      <td>4.000000</td>\n",
              "      <td>5.000000</td>\n",
              "      <td>6.000000</td>\n",
              "      <td>7.000000</td>\n",
              "      <td>...</td>\n",
              "      <td>26.000000</td>\n",
              "      <td>7.000000</td>\n",
              "      <td>8.000000</td>\n",
              "      <td>9.000000</td>\n",
              "      <td>11.000000</td>\n",
              "      <td>26.000000</td>\n",
              "      <td>24.000000</td>\n",
              "      <td>3.000000</td>\n",
              "      <td>18.000000</td>\n",
              "      <td>42.000000</td>\n",
              "      <td>8.000000</td>\n",
              "      <td>42.000000</td>\n",
              "      <td>13.000000</td>\n",
              "      <td>13.000000</td>\n",
              "      <td>16.000000</td>\n",
              "      <td>13.000000</td>\n",
              "      <td>9.000000</td>\n",
              "      <td>13.000000</td>\n",
              "      <td>0.0</td>\n",
              "      <td>12.000000</td>\n",
              "      <td>1.000000</td>\n",
              "      <td>35.000000</td>\n",
              "      <td>6.000000</td>\n",
              "      <td>25.000000</td>\n",
              "      <td>6.000000</td>\n",
              "      <td>6.000000</td>\n",
              "      <td>69.000000</td>\n",
              "      <td>18.000000</td>\n",
              "      <td>4.000000</td>\n",
              "      <td>15.000000</td>\n",
              "      <td>107.000000</td>\n",
              "      <td>28.000000</td>\n",
              "      <td>2.000000</td>\n",
              "      <td>92.000000</td>\n",
              "      <td>24.000000</td>\n",
              "      <td>10.000000</td>\n",
              "      <td>35.000000</td>\n",
              "      <td>5.000000</td>\n",
              "      <td>0.0</td>\n",
              "      <td>0.0</td>\n",
              "    </tr>\n",
              "  </tbody>\n",
              "</table>\n",
              "<p>8 rows × 3336 columns</p>\n",
              "</div>"
            ],
            "text/plain": [
              "       3.487200000000000273e+02  ...  0.000000000000000000e+00.3284\n",
              "count              18453.000000  ...                        18453.0\n",
              "mean                 927.337872  ...                            0.0\n",
              "std                 4189.457729  ...                            0.0\n",
              "min                   -4.620000  ...                            0.0\n",
              "25%                   43.930000  ...                            0.0\n",
              "50%                  173.430000  ...                            0.0\n",
              "75%                  509.780000  ...                            0.0\n",
              "max               215211.810000  ...                            0.0\n",
              "\n",
              "[8 rows x 3336 columns]"
            ]
          },
          "metadata": {
            "tags": []
          },
          "execution_count": 25
        }
      ]
    },
    {
      "cell_type": "code",
      "metadata": {
        "colab": {
          "base_uri": "https://localhost:8080/",
          "height": 297
        },
        "id": "KY0J4zJvnRVV",
        "outputId": "780da901-ad35-43c2-a49f-a79eda86f7f5"
      },
      "source": [
        "pd_y_paid.describe()"
      ],
      "execution_count": null,
      "outputs": [
        {
          "output_type": "execute_result",
          "data": {
            "text/html": [
              "<div>\n",
              "<style scoped>\n",
              "    .dataframe tbody tr th:only-of-type {\n",
              "        vertical-align: middle;\n",
              "    }\n",
              "\n",
              "    .dataframe tbody tr th {\n",
              "        vertical-align: top;\n",
              "    }\n",
              "\n",
              "    .dataframe thead th {\n",
              "        text-align: right;\n",
              "    }\n",
              "</style>\n",
              "<table border=\"1\" class=\"dataframe\">\n",
              "  <thead>\n",
              "    <tr style=\"text-align: right;\">\n",
              "      <th></th>\n",
              "      <th>5.061299999999999955e+02</th>\n",
              "    </tr>\n",
              "  </thead>\n",
              "  <tbody>\n",
              "    <tr>\n",
              "      <th>count</th>\n",
              "      <td>18453.000000</td>\n",
              "    </tr>\n",
              "    <tr>\n",
              "      <th>mean</th>\n",
              "      <td>1525.336082</td>\n",
              "    </tr>\n",
              "    <tr>\n",
              "      <th>std</th>\n",
              "      <td>5090.648841</td>\n",
              "    </tr>\n",
              "    <tr>\n",
              "      <th>min</th>\n",
              "      <td>0.000000</td>\n",
              "    </tr>\n",
              "    <tr>\n",
              "      <th>25%</th>\n",
              "      <td>93.660000</td>\n",
              "    </tr>\n",
              "    <tr>\n",
              "      <th>50%</th>\n",
              "      <td>303.660000</td>\n",
              "    </tr>\n",
              "    <tr>\n",
              "      <th>75%</th>\n",
              "      <td>918.120000</td>\n",
              "    </tr>\n",
              "    <tr>\n",
              "      <th>max</th>\n",
              "      <td>97888.740000</td>\n",
              "    </tr>\n",
              "  </tbody>\n",
              "</table>\n",
              "</div>"
            ],
            "text/plain": [
              "       5.061299999999999955e+02\n",
              "count              18453.000000\n",
              "mean                1525.336082\n",
              "std                 5090.648841\n",
              "min                    0.000000\n",
              "25%                   93.660000\n",
              "50%                  303.660000\n",
              "75%                  918.120000\n",
              "max                97888.740000"
            ]
          },
          "metadata": {
            "tags": []
          },
          "execution_count": 26
        }
      ]
    },
    {
      "cell_type": "code",
      "metadata": {
        "colab": {
          "base_uri": "https://localhost:8080/",
          "height": 315
        },
        "id": "9RA08qE4bRZZ",
        "outputId": "95953dc9-0420-4504-854c-6f2e59b276bc"
      },
      "source": [
        "pd_y_paid.hist(bins=100, log=True)"
      ],
      "execution_count": null,
      "outputs": [
        {
          "output_type": "execute_result",
          "data": {
            "text/plain": [
              "array([[<matplotlib.axes._subplots.AxesSubplot object at 0x7f8929d28450>]],\n",
              "      dtype=object)"
            ]
          },
          "metadata": {
            "tags": []
          },
          "execution_count": 27
        },
        {
          "output_type": "display_data",
          "data": {
            "image/png": "[encoded data removed]",
            "text/plain": [
              "<Figure size 432x288 with 1 Axes>"
            ]
          },
          "metadata": {
            "tags": [],
            "needs_background": "light"
          }
        }
      ]
    },
    {
      "cell_type": "markdown",
      "metadata": {
        "id": "yBRh2V5KiHqh"
      },
      "source": [
        "### 3.3 X variable normalization"
      ]
    },
    {
      "cell_type": "code",
      "metadata": {
        "id": "kOLGZrWoxnC-"
      },
      "source": [
        "# Input data normalization\n",
        "# https://betashort-lab.com/%E3%83%87%E3%83%BC%E3%82%BF%E3%82%B5%E3%82%A4%E3%82%A8%E3%83%B3%E3%82%B9/%E6%A9%9F%E6%A2%B0%E5%AD%A6%E7%BF%92/%E3%83%87%E3%83%BC%E3%82%BF%E3%81%AE%E6%AD%A3%E8%A6%8F%E5%8C%96%E3%83%87%E3%83%BC%E3%82%BF%E3%81%AE%E5%89%8D%E5%87%A6%E7%90%86/#toc4\n",
        "\n",
        "from sklearn.preprocessing import MinMaxScaler\n",
        "\n",
        "if 1:\n",
        "    scaler_mm = MinMaxScaler()\n",
        "    scaler_mm.fit(pd_x)\n",
        "    pd_x = pd.DataFrame(scaler_mm.transform(pd_x))"
      ],
      "execution_count": 10,
      "outputs": []
    },
    {
      "cell_type": "code",
      "metadata": {
        "id": "TOhYhvn1nOf5"
      },
      "source": [
        "# https://www.coursera.org/learn/cs598-deep-learning-for-healthcare/programming/eJFr3/homework-3-seq2seq/lab\n",
        "from torch.utils.data import Dataset\n",
        "\n",
        "class CustomDataset(Dataset):\n",
        "    def __init__(self, x, y):\n",
        "        # convert to torch.tensor\n",
        "        self.x = torch.tensor(x.values.astype(np.float32))\n",
        "        self.y = torch.tensor(y.values.astype(np.float32))\n",
        "    \n",
        "    def __len__(self):\n",
        "        return len(self.y)\n",
        "    \n",
        "    def __getitem__(self, index):\n",
        "        #return self.x.loc[index][:], self.y.loc[index]\n",
        "        return self.x[index][:], self.y[index]"
      ],
      "execution_count": 11,
      "outputs": []
    },
    {
      "cell_type": "code",
      "metadata": {
        "id": "s28Z3vjUny3W",
        "colab": {
          "base_uri": "https://localhost:8080/"
        },
        "outputId": "c6281296-6317-45a3-ee0a-b59a2dcc8195"
      },
      "source": [
        "dataset = CustomDataset(pd_x, pd_y_paid)\n",
        "print(len(dataset))\n",
        "#print(dataset[0][0])\n",
        "#print(dataset[0][0].shape)\n",
        "#print(dataset[0][1].shape)"
      ],
      "execution_count": 12,
      "outputs": [
        {
          "output_type": "stream",
          "text": [
            "18291\n"
          ],
          "name": "stdout"
        }
      ]
    },
    {
      "cell_type": "markdown",
      "metadata": {
        "id": "apglZFjRkFfH"
      },
      "source": [
        "### 3.4 Data split"
      ]
    },
    {
      "cell_type": "code",
      "metadata": {
        "id": "s7ewGGH8mH7g",
        "colab": {
          "base_uri": "https://localhost:8080/"
        },
        "outputId": "e501edad-60db-42f8-e476-1ffaaa809dfa"
      },
      "source": [
        "# https://stackoverflow.com/questions/61811946/train-valid-test-split-for-custom-dataset-using-pytorch-and-torchvision\n",
        "# https://www.coursera.org/learn/cs598-deep-learning-for-healthcare/programming/eJFr3/homework-3-seq2seq/lab\n",
        "\n",
        "from torch.utils.data.dataset import random_split\n",
        "\n",
        "train_len = int(len(dataset)*0.7)\n",
        "val_len = int(len(dataset)*0.2)\n",
        "lengths = [train_len, val_len, len(dataset) - train_len - val_len]\n",
        "train_dataset, val_dataset, test_dataset = random_split(dataset, lengths)\n",
        "\n",
        "print(\"train data length: {}\".format(len(train_dataset)))\n",
        "print(\"val data length: {}\".format(len(val_dataset)))\n",
        "print(\"test data length: {}\".format(len(test_dataset)))"
      ],
      "execution_count": 13,
      "outputs": [
        {
          "output_type": "stream",
          "text": [
            "train data length: 12803\n",
            "val data length: 3658\n",
            "test data length: 1830\n"
          ],
          "name": "stdout"
        }
      ]
    },
    {
      "cell_type": "markdown",
      "metadata": {
        "id": "ZAf9Ps830gPc"
      },
      "source": [
        "### 3.5 Dataloader"
      ]
    },
    {
      "cell_type": "code",
      "metadata": {
        "id": "7OMMgsNo6SNb"
      },
      "source": [
        "# https://www.coursera.org/learn/cs598-deep-learning-for-healthcare/programming/eJFr3/homework-3-seq2seq/lab\n",
        "from torch.utils.data import DataLoader\n",
        "\n",
        "train_loader = DataLoader(train_dataset, batch_size=32, shuffle=True)\n",
        "val_loader = DataLoader(val_dataset, batch_size=32, shuffle=False)\n",
        "test_loader = DataLoader(test_dataset, batch_size=32, shuffle=False)"
      ],
      "execution_count": 14,
      "outputs": []
    },
    {
      "cell_type": "code",
      "metadata": {
        "id": "ik5rGVmiOSIv",
        "colab": {
          "base_uri": "https://localhost:8080/"
        },
        "outputId": "86126909-878c-43fa-b40a-75121494f4aa"
      },
      "source": [
        "# Test\n",
        "# https://www.coursera.org/learn/cs598-deep-learning-for-healthcare/programming/UEdCb/homework-2-neural-networks/lab\n",
        "\n",
        "train_iter = iter(train_loader)\n",
        "x, y = next(train_iter)\n",
        "\n",
        "print('Shape of a batch x:', x.shape)\n",
        "print('Shape of a batch y:', y.shape)"
      ],
      "execution_count": 15,
      "outputs": [
        {
          "output_type": "stream",
          "text": [
            "Shape of a batch x: torch.Size([32, 606])\n",
            "Shape of a batch y: torch.Size([32, 1])\n"
          ],
          "name": "stdout"
        }
      ]
    },
    {
      "cell_type": "markdown",
      "metadata": {
        "id": "i5gOXYHqyqPI"
      },
      "source": [
        "## **4. Model building**"
      ]
    },
    {
      "cell_type": "markdown",
      "metadata": {
        "id": "RnqKGxz_9ku-"
      },
      "source": [
        "### **4.1 Random Forest and Gradient Boosting**"
      ]
    },
    {
      "cell_type": "code",
      "metadata": {
        "id": "yocN3DEg93O7",
        "colab": {
          "base_uri": "https://localhost:8080/",
          "height": 409
        },
        "outputId": "7be6814e-975a-4f63-897f-4a4d4a45a703"
      },
      "source": [
        "## Random forest - train on \"train_dataset\", and test on \"test_dataset\"\n",
        "from sklearn.ensemble import RandomForestRegressor, GradientBoostingRegressor\n",
        "import numpy\n",
        "train_x = train_dataset.dataset.x\n",
        "train_y = train_dataset.dataset.y.ravel().cpu().detach().numpy()\n",
        "test_x  = test_dataset.dataset.x\n",
        "test_y  = test_dataset.dataset.y.ravel().cpu().detach().numpy()\n",
        "# filter out rows with Y>100k\n",
        "tf = train_y <= 100e3\n",
        "train_x = train_x[tf, :]\n",
        "train_y = train_y[tf]\n",
        "tf = test_y <= 100e3\n",
        "test_x = test_x[tf, :]\n",
        "test_y = test_y[tf]\n",
        "\n",
        "# fit random forest\n",
        "rf = RandomForestRegressor(max_depth=20, random_state=0)\n",
        "rf.fit(train_x, train_y)\n",
        "f = rf.predict(test_x)\n",
        "f[f < 0] = 0\n",
        "abserr = numpy.abs(f - test_y)\n",
        "rf_mae = numpy.mean(abserr)\n",
        "rf_medae = numpy.median(abserr)\n",
        "print(f\"Mean abs err (Random Forest): {rf_mae}\")\n",
        "print(f\"Median abs err (Random Forest): {rf_medae}\")\n",
        "\n",
        "## Gradient Boost\n",
        "gb = GradientBoostingRegressor(learning_rate=0.1, n_estimators=100, subsample=0.5)\n",
        "gb.fit(train_x, train_y)\n",
        "f = gb.predict(test_x)\n",
        "f[f < 0] = 0\n",
        "abserr = numpy.abs(f - test_y)\n",
        "gb_mae = numpy.mean(abserr)\n",
        "gb_medae = numpy.median(abserr)\n",
        "print(f\"Mean abs err (Gradient Boost): {gb_mae}\")\n",
        "print(f\"Median abs err (Gradient Boost): {gb_medae}\")\n"
      ],
      "execution_count": null,
      "outputs": [
        {
          "output_type": "stream",
          "text": [
            "Mean abs err (Random Forest): 1260.6284445604915\n",
            "Median abs err (Random Forest): 671.5205644080352\n"
          ],
          "name": "stdout"
        },
        {
          "output_type": "error",
          "ename": "KeyboardInterrupt",
          "evalue": "ignored",
          "traceback": [
            "\u001b[0;31m---------------------------------------------------------------------------\u001b[0m",
            "\u001b[0;31mKeyboardInterrupt\u001b[0m                         Traceback (most recent call last)",
            "\u001b[0;32m<ipython-input-34-c0a44644e180>\u001b[0m in \u001b[0;36m<module>\u001b[0;34m()\u001b[0m\n\u001b[1;32m     27\u001b[0m \u001b[0;31m## Gradient Boost\u001b[0m\u001b[0;34m\u001b[0m\u001b[0;34m\u001b[0m\u001b[0;34m\u001b[0m\u001b[0m\n\u001b[1;32m     28\u001b[0m \u001b[0mgb\u001b[0m \u001b[0;34m=\u001b[0m \u001b[0mGradientBoostingRegressor\u001b[0m\u001b[0;34m(\u001b[0m\u001b[0mlearning_rate\u001b[0m\u001b[0;34m=\u001b[0m\u001b[0;36m0.1\u001b[0m\u001b[0;34m,\u001b[0m \u001b[0mn_estimators\u001b[0m\u001b[0;34m=\u001b[0m\u001b[0;36m100\u001b[0m\u001b[0;34m,\u001b[0m \u001b[0msubsample\u001b[0m\u001b[0;34m=\u001b[0m\u001b[0;36m0.5\u001b[0m\u001b[0;34m)\u001b[0m\u001b[0;34m\u001b[0m\u001b[0;34m\u001b[0m\u001b[0m\n\u001b[0;32m---> 29\u001b[0;31m \u001b[0mgb\u001b[0m\u001b[0;34m.\u001b[0m\u001b[0mfit\u001b[0m\u001b[0;34m(\u001b[0m\u001b[0mtrain_x\u001b[0m\u001b[0;34m,\u001b[0m \u001b[0mtrain_y\u001b[0m\u001b[0;34m)\u001b[0m\u001b[0;34m\u001b[0m\u001b[0;34m\u001b[0m\u001b[0m\n\u001b[0m\u001b[1;32m     30\u001b[0m \u001b[0mf\u001b[0m \u001b[0;34m=\u001b[0m \u001b[0mgb\u001b[0m\u001b[0;34m.\u001b[0m\u001b[0mpredict\u001b[0m\u001b[0;34m(\u001b[0m\u001b[0mtest_x\u001b[0m\u001b[0;34m)\u001b[0m\u001b[0;34m\u001b[0m\u001b[0;34m\u001b[0m\u001b[0m\n\u001b[1;32m     31\u001b[0m \u001b[0mf\u001b[0m\u001b[0;34m[\u001b[0m\u001b[0mf\u001b[0m \u001b[0;34m<\u001b[0m \u001b[0;36m0\u001b[0m\u001b[0;34m]\u001b[0m \u001b[0;34m=\u001b[0m \u001b[0;36m0\u001b[0m\u001b[0;34m\u001b[0m\u001b[0;34m\u001b[0m\u001b[0m\n",
            "\u001b[0;32m/usr/local/lib/python3.7/dist-packages/sklearn/ensemble/_gb.py\u001b[0m in \u001b[0;36mfit\u001b[0;34m(self, X, y, sample_weight, monitor)\u001b[0m\n\u001b[1;32m   1535\u001b[0m         n_stages = self._fit_stages(\n\u001b[1;32m   1536\u001b[0m             \u001b[0mX\u001b[0m\u001b[0;34m,\u001b[0m \u001b[0my\u001b[0m\u001b[0;34m,\u001b[0m \u001b[0mraw_predictions\u001b[0m\u001b[0;34m,\u001b[0m \u001b[0msample_weight\u001b[0m\u001b[0;34m,\u001b[0m \u001b[0mself\u001b[0m\u001b[0;34m.\u001b[0m\u001b[0m_rng\u001b[0m\u001b[0;34m,\u001b[0m \u001b[0mX_val\u001b[0m\u001b[0;34m,\u001b[0m \u001b[0my_val\u001b[0m\u001b[0;34m,\u001b[0m\u001b[0;34m\u001b[0m\u001b[0;34m\u001b[0m\u001b[0m\n\u001b[0;32m-> 1537\u001b[0;31m             sample_weight_val, begin_at_stage, monitor, X_idx_sorted)\n\u001b[0m\u001b[1;32m   1538\u001b[0m \u001b[0;34m\u001b[0m\u001b[0m\n\u001b[1;32m   1539\u001b[0m         \u001b[0;31m# change shape of arrays after fit (early-stopping or additional ests)\u001b[0m\u001b[0;34m\u001b[0m\u001b[0;34m\u001b[0m\u001b[0;34m\u001b[0m\u001b[0m\n",
            "\u001b[0;32m/usr/local/lib/python3.7/dist-packages/sklearn/ensemble/_gb.py\u001b[0m in \u001b[0;36m_fit_stages\u001b[0;34m(self, X, y, raw_predictions, sample_weight, random_state, X_val, y_val, sample_weight_val, begin_at_stage, monitor, X_idx_sorted)\u001b[0m\n\u001b[1;32m   1592\u001b[0m             raw_predictions = self._fit_stage(\n\u001b[1;32m   1593\u001b[0m                 \u001b[0mi\u001b[0m\u001b[0;34m,\u001b[0m \u001b[0mX\u001b[0m\u001b[0;34m,\u001b[0m \u001b[0my\u001b[0m\u001b[0;34m,\u001b[0m \u001b[0mraw_predictions\u001b[0m\u001b[0;34m,\u001b[0m \u001b[0msample_weight\u001b[0m\u001b[0;34m,\u001b[0m \u001b[0msample_mask\u001b[0m\u001b[0;34m,\u001b[0m\u001b[0;34m\u001b[0m\u001b[0;34m\u001b[0m\u001b[0m\n\u001b[0;32m-> 1594\u001b[0;31m                 random_state, X_idx_sorted, X_csc, X_csr)\n\u001b[0m\u001b[1;32m   1595\u001b[0m \u001b[0;34m\u001b[0m\u001b[0m\n\u001b[1;32m   1596\u001b[0m             \u001b[0;31m# track deviance (= loss)\u001b[0m\u001b[0;34m\u001b[0m\u001b[0;34m\u001b[0m\u001b[0;34m\u001b[0m\u001b[0m\n",
            "\u001b[0;32m/usr/local/lib/python3.7/dist-packages/sklearn/ensemble/_gb.py\u001b[0m in \u001b[0;36m_fit_stage\u001b[0;34m(self, i, X, y, raw_predictions, sample_weight, sample_mask, random_state, X_idx_sorted, X_csc, X_csr)\u001b[0m\n\u001b[1;32m   1243\u001b[0m             \u001b[0mX\u001b[0m \u001b[0;34m=\u001b[0m \u001b[0mX_csr\u001b[0m \u001b[0;32mif\u001b[0m \u001b[0mX_csr\u001b[0m \u001b[0;32mis\u001b[0m \u001b[0;32mnot\u001b[0m \u001b[0;32mNone\u001b[0m \u001b[0;32melse\u001b[0m \u001b[0mX\u001b[0m\u001b[0;34m\u001b[0m\u001b[0;34m\u001b[0m\u001b[0m\n\u001b[1;32m   1244\u001b[0m             tree.fit(X, residual, sample_weight=sample_weight,\n\u001b[0;32m-> 1245\u001b[0;31m                      check_input=False, X_idx_sorted=X_idx_sorted)\n\u001b[0m\u001b[1;32m   1246\u001b[0m \u001b[0;34m\u001b[0m\u001b[0m\n\u001b[1;32m   1247\u001b[0m             \u001b[0;31m# update tree leaves\u001b[0m\u001b[0;34m\u001b[0m\u001b[0;34m\u001b[0m\u001b[0;34m\u001b[0m\u001b[0m\n",
            "\u001b[0;32m/usr/local/lib/python3.7/dist-packages/sklearn/tree/_classes.py\u001b[0m in \u001b[0;36mfit\u001b[0;34m(self, X, y, sample_weight, check_input, X_idx_sorted)\u001b[0m\n\u001b[1;32m   1223\u001b[0m             \u001b[0msample_weight\u001b[0m\u001b[0;34m=\u001b[0m\u001b[0msample_weight\u001b[0m\u001b[0;34m,\u001b[0m\u001b[0;34m\u001b[0m\u001b[0;34m\u001b[0m\u001b[0m\n\u001b[1;32m   1224\u001b[0m             \u001b[0mcheck_input\u001b[0m\u001b[0;34m=\u001b[0m\u001b[0mcheck_input\u001b[0m\u001b[0;34m,\u001b[0m\u001b[0;34m\u001b[0m\u001b[0;34m\u001b[0m\u001b[0m\n\u001b[0;32m-> 1225\u001b[0;31m             X_idx_sorted=X_idx_sorted)\n\u001b[0m\u001b[1;32m   1226\u001b[0m         \u001b[0;32mreturn\u001b[0m \u001b[0mself\u001b[0m\u001b[0;34m\u001b[0m\u001b[0;34m\u001b[0m\u001b[0m\n\u001b[1;32m   1227\u001b[0m \u001b[0;34m\u001b[0m\u001b[0m\n",
            "\u001b[0;32m/usr/local/lib/python3.7/dist-packages/sklearn/tree/_classes.py\u001b[0m in \u001b[0;36mfit\u001b[0;34m(self, X, y, sample_weight, check_input, X_idx_sorted)\u001b[0m\n\u001b[1;32m    365\u001b[0m                                            min_impurity_split)\n\u001b[1;32m    366\u001b[0m \u001b[0;34m\u001b[0m\u001b[0m\n\u001b[0;32m--> 367\u001b[0;31m         \u001b[0mbuilder\u001b[0m\u001b[0;34m.\u001b[0m\u001b[0mbuild\u001b[0m\u001b[0;34m(\u001b[0m\u001b[0mself\u001b[0m\u001b[0;34m.\u001b[0m\u001b[0mtree_\u001b[0m\u001b[0;34m,\u001b[0m \u001b[0mX\u001b[0m\u001b[0;34m,\u001b[0m \u001b[0my\u001b[0m\u001b[0;34m,\u001b[0m \u001b[0msample_weight\u001b[0m\u001b[0;34m,\u001b[0m \u001b[0mX_idx_sorted\u001b[0m\u001b[0;34m)\u001b[0m\u001b[0;34m\u001b[0m\u001b[0;34m\u001b[0m\u001b[0m\n\u001b[0m\u001b[1;32m    368\u001b[0m \u001b[0;34m\u001b[0m\u001b[0m\n\u001b[1;32m    369\u001b[0m         \u001b[0;32mif\u001b[0m \u001b[0mself\u001b[0m\u001b[0;34m.\u001b[0m\u001b[0mn_outputs_\u001b[0m \u001b[0;34m==\u001b[0m \u001b[0;36m1\u001b[0m \u001b[0;32mand\u001b[0m \u001b[0mis_classifier\u001b[0m\u001b[0;34m(\u001b[0m\u001b[0mself\u001b[0m\u001b[0;34m)\u001b[0m\u001b[0;34m:\u001b[0m\u001b[0;34m\u001b[0m\u001b[0;34m\u001b[0m\u001b[0m\n",
            "\u001b[0;31mKeyboardInterrupt\u001b[0m: "
          ]
        }
      ]
    },
    {
      "cell_type": "code",
      "metadata": {
        "id": "jf7OHO8Z1tHr"
      },
      "source": [
        "## errors using median training values as forecast\n",
        "abserr = numpy.abs(test_y - numpy.median(train_y))\n",
        "med_mae = numpy.mean(abserr)\n",
        "med_medae = numpy.median(abserr)\n",
        "print(f\"Mean abs err (median training): {med_mae}\")\n",
        "print(f\"Median abs err (median training): {med_medae}\")\n",
        "\n",
        "## errors using mean training values as forecast\n",
        "abserr = numpy.abs(test_y - numpy.mean(train_y))\n",
        "med_mae = numpy.mean(abserr)\n",
        "med_medae = numpy.median(abserr)\n",
        "print(f\"Mean abs err (mean training): {med_mae}\")\n",
        "print(f\"Median abs err (mean training): {med_medae}\")\n"
      ],
      "execution_count": null,
      "outputs": []
    },
    {
      "cell_type": "markdown",
      "metadata": {
        "id": "vJsYbtTZ8QAt"
      },
      "source": [
        "### **4.2 Base model(Drewe-Boss’s paper)**"
      ]
    },
    {
      "cell_type": "code",
      "metadata": {
        "id": "jq0XwGj9_e4g",
        "colab": {
          "base_uri": "https://localhost:8080/"
        },
        "outputId": "8cc58f60-096f-439a-d2db-1b10c41c960b"
      },
      "source": [
        "# The purpose of this model is to reproduce the prior model proposed by Drewe-Boss et al.  Deep learning for prediction of population health costs\n",
        "\n",
        "# This code is inspired by \n",
        "#  (1) https://www.coursera.org/learn/cs598-deep-learning-for-healthcare/programming/UEdCb/homework-2-neural-networks/lab\n",
        "#  (2) https://www.coursera.org/learn/cs598-deep-learning-for-healthcare/programming/VNfPA/homework-4-mina/lab\n",
        "\n",
        "import torch\n",
        "import torch.nn as nn\n",
        "import torch.nn.functional as F\n",
        "\n",
        "class Db_model(nn.Module):\n",
        "    def __init__(self, input_size=606, output_size=1):\n",
        "        super(Db_model, self).__init__()\n",
        "        self.input_size = input_size\n",
        "        self.hidden_size = 50\n",
        "        self.output_size = output_size\n",
        "\n",
        "        self.fc1 = torch.nn.Linear(in_features=self.input_size, out_features=self.hidden_size)\n",
        "        self.fc2 = torch.nn.Linear(in_features=self.hidden_size, out_features=self.hidden_size)\n",
        "        self.fc3 = torch.nn.Linear(in_features=self.hidden_size, out_features=self.hidden_size)\n",
        "        self.fc4 = torch.nn.Linear(in_features=self.hidden_size+self.input_size, out_features=self.output_size)\n",
        "        self.do = nn.Dropout(0.25)\n",
        "\n",
        "    def forward(self, x):\n",
        "        x0 = x\n",
        "        x = self.do(F.relu(self.fc1(x)))\n",
        "        x = self.do(F.relu(self.fc2(x)))\n",
        "        x = self.do(F.relu(self.fc3(x)))\n",
        "        x = torch.cat((x, x0), dim=1)\n",
        "        x = self.do(F.relu(self.fc4(x)))\n",
        "        \n",
        "        return x\n",
        "\n",
        "print(Db_model())"
      ],
      "execution_count": 23,
      "outputs": [
        {
          "output_type": "stream",
          "text": [
            "Db_model(\n",
            "  (fc1): Linear(in_features=606, out_features=50, bias=True)\n",
            "  (fc2): Linear(in_features=50, out_features=50, bias=True)\n",
            "  (fc3): Linear(in_features=50, out_features=50, bias=True)\n",
            "  (fc4): Linear(in_features=656, out_features=1, bias=True)\n",
            "  (do): Dropout(p=0.25, inplace=False)\n",
            ")\n"
          ],
          "name": "stdout"
        }
      ]
    },
    {
      "cell_type": "markdown",
      "metadata": {
        "id": "wvaPtlQ5_LsJ"
      },
      "source": [
        "### **4.3 Bala's model**"
      ]
    },
    {
      "cell_type": "code",
      "metadata": {
        "id": "pPcItHq0ys_G",
        "colab": {
          "base_uri": "https://localhost:8080/"
        },
        "outputId": "6af8b847-385d-4814-9e63-dd57aa3afd2d"
      },
      "source": [
        "import torch\n",
        "import torch.nn as nn\n",
        "import torch.nn.functional as F\n",
        "\n",
        "class New_model(nn.Module):\n",
        "    def __init__(self, input_size=606, output_size=1):\n",
        "        super(New_model, self).__init__()\n",
        "        self.input_size = input_size\n",
        "        self.hidden_size = 50\n",
        "        self.output_size = output_size\n",
        "\n",
        "        self.fc1 = torch.nn.Linear(in_features=self.input_size, out_features=self.hidden_size)\n",
        "        self.fc2 = torch.nn.Linear(in_features=self.hidden_size, out_features=self.hidden_size)\n",
        "        self.fc3 = torch.nn.Linear(in_features=self.hidden_size, out_features=self.hidden_size)\n",
        "        self.fc4 = torch.nn.Linear(in_features=self.hidden_size+self.input_size, out_features=self.output_size)\n",
        "        self.do = nn.Dropout(0.5)\n",
        "\n",
        "    def forward(self, x):\n",
        "        x0 = x\n",
        "        '''\n",
        "        x = self.do(F.relu(self.fc1(x)))\n",
        "        x = self.do(F.relu(self.fc2(x)))\n",
        "        x = self.do(F.relu(self.fc3(x)))\n",
        "        '''\n",
        "        x = self.fc1(x)\n",
        "        x = self.fc2(x)\n",
        "        x = self.fc3(x)\n",
        "\n",
        "        #print(x.shape)\n",
        "        #print(x0.shape)\n",
        "        x = torch.cat((x, x0), dim=1)\n",
        "        #print(x.shape)\n",
        "        x = self.do(F.relu(self.fc4(x)))\n",
        "        \n",
        "        return x\n",
        "\n",
        "model = New_model()\n",
        "print(model)"
      ],
      "execution_count": 22,
      "outputs": [
        {
          "output_type": "stream",
          "text": [
            "New_model(\n",
            "  (fc1): Linear(in_features=606, out_features=50, bias=True)\n",
            "  (fc2): Linear(in_features=50, out_features=50, bias=True)\n",
            "  (fc3): Linear(in_features=50, out_features=50, bias=True)\n",
            "  (fc4): Linear(in_features=656, out_features=1, bias=True)\n",
            "  (do): Dropout(p=0.5, inplace=False)\n",
            ")\n"
          ],
          "name": "stdout"
        }
      ]
    },
    {
      "cell_type": "markdown",
      "metadata": {
        "id": "Pz72uokf-LVQ"
      },
      "source": [
        "### **4.4 Advanced model(Base model + alpha)**"
      ]
    },
    {
      "cell_type": "code",
      "metadata": {
        "id": "Pr8bwEYL_E15",
        "colab": {
          "base_uri": "https://localhost:8080/"
        },
        "outputId": "676f567f-4a69-4596-fb5e-8fcd6cdb49c1"
      },
      "source": [
        "class Adv_model(nn.Module):\n",
        "    def __init__(self, input_size=606, output_size=1):\n",
        "        super(Adv_model, self).__init__()\n",
        "        self.input_size = input_size\n",
        "        self.hidden_size = 50\n",
        "        self.output_size = output_size\n",
        "\n",
        "        self.fc1 = torch.nn.Linear(in_features=self.input_size, out_features=self.hidden_size)\n",
        "        self.fc2 = torch.nn.Linear(in_features=self.hidden_size, out_features=self.hidden_size)\n",
        "        self.fc3 = torch.nn.Linear(in_features=self.hidden_size, out_features=self.hidden_size)\n",
        "        #self.fc4 = torch.nn.Linear(in_features=self.hidden_size+self.input_size, out_features=self.output_size)\n",
        "        self.fc4 = torch.nn.Linear(in_features=self.hidden_size, out_features=self.output_size)\n",
        "        self.do = nn.Dropout(0.25)\n",
        "\n",
        "    def forward(self, x):\n",
        "        x0 = x\n",
        "        x = self.do(F.relu(self.fc1(x)))\n",
        "        x = self.do(F.relu(self.fc2(x)))\n",
        "        x = self.do(F.relu(self.fc3(x)))\n",
        "        #x = torch.cat((x, x0), dim=1)\n",
        "        x = self.do(F.relu(self.fc4(x)))\n",
        "        \n",
        "        return x\n",
        "\n",
        "print(Adv_model())"
      ],
      "execution_count": 25,
      "outputs": [
        {
          "output_type": "stream",
          "text": [
            "Adv_model(\n",
            "  (fc1): Linear(in_features=606, out_features=50, bias=True)\n",
            "  (fc2): Linear(in_features=50, out_features=50, bias=True)\n",
            "  (fc3): Linear(in_features=50, out_features=50, bias=True)\n",
            "  (fc4): Linear(in_features=50, out_features=1, bias=True)\n",
            "  (do): Dropout(p=0.25, inplace=False)\n",
            ")\n"
          ],
          "name": "stdout"
        }
      ]
    },
    {
      "cell_type": "markdown",
      "metadata": {
        "id": "DpQLRZKq-uA_"
      },
      "source": [
        "### **4.4 Model Selection**"
      ]
    },
    {
      "cell_type": "code",
      "metadata": {
        "id": "eat3TB0o-vzR",
        "colab": {
          "base_uri": "https://localhost:8080/"
        },
        "outputId": "cca2e431-2d5a-4357-8c1e-48c859fed14f"
      },
      "source": [
        "# Select which model to use\n",
        "\n",
        "model = Db_model()\n",
        "#model = New_model()\n",
        "#model = Adv_model()\n",
        "print(model)"
      ],
      "execution_count": 61,
      "outputs": [
        {
          "output_type": "stream",
          "text": [
            "Db_model(\n",
            "  (fc1): Linear(in_features=606, out_features=50, bias=True)\n",
            "  (fc2): Linear(in_features=50, out_features=50, bias=True)\n",
            "  (fc3): Linear(in_features=50, out_features=50, bias=True)\n",
            "  (fc4): Linear(in_features=656, out_features=1, bias=True)\n",
            "  (do): Dropout(p=0.25, inplace=False)\n",
            ")\n"
          ],
          "name": "stdout"
        }
      ]
    },
    {
      "cell_type": "markdown",
      "metadata": {
        "id": "Upr9qp1AOpTV"
      },
      "source": [
        "## **5. Model training**"
      ]
    },
    {
      "cell_type": "markdown",
      "metadata": {
        "id": "DvR5NLUEO0KQ"
      },
      "source": [
        "### 5.1 Loss and optimizer"
      ]
    },
    {
      "cell_type": "code",
      "metadata": {
        "id": "E2N0LMlIOyB4"
      },
      "source": [
        "import torch.nn as nn\n",
        "\n",
        "# https://pytorch.org/docs/stable/generated/torch.nn.MSELoss.html\n",
        "\n",
        "criterion = nn.MSELoss()\n",
        "#criterion = nn.L1Loss()\n",
        "\n",
        "# Learning rate is not written in the prior papar. => Experimental value\n",
        "optimizer = torch.optim.Adam(model.parameters(), lr=5e-3)"
      ],
      "execution_count": 62,
      "outputs": []
    },
    {
      "cell_type": "markdown",
      "metadata": {
        "id": "5utr43ZHPLTd"
      },
      "source": [
        "### 5.2 Evaluation"
      ]
    },
    {
      "cell_type": "code",
      "metadata": {
        "id": "SmZLUpgwPRH1"
      },
      "source": [
        "# https://www.coursera.org/learn/cs598-deep-learning-for-healthcare/programming/UEdCb/homework-2-neural-networks/lab\n",
        "# https://scikit-learn.org/stable/modules/model_evaluation.html\n",
        "\n",
        "from sklearn.metrics import *\n",
        "\n",
        "def regression_metrics(Y_pred, Y_True):\n",
        "    # Evaluation of methods: \n",
        "    # 1. Pearson's correlation (r), \n",
        "    # 2. Spearman's correlation (\u001a),\n",
        "    # 3. Mean absolute prediction error (MAPE),\n",
        "    # 4. R squared (r2),\n",
        "    # 5. Cumming's Prediction Measure (CPM)\n",
        "    mae, r2 = mean_absolute_error(Y_True, Y_pred), \\\n",
        "                r2_score(Y_True, Y_pred)\n",
        "\n",
        "    return mae, r2\n",
        "\n",
        "def evaluate(model, val_loader):\n",
        "    model.eval()\n",
        "    all_y_true = torch.LongTensor()\n",
        "    all_y_pred = torch.LongTensor()\n",
        "\n",
        "    val_loss = 0\n",
        "    for x, y in val_loader:\n",
        "        y_pred = model(x)\n",
        "\n",
        "        # convert shape from [batch size, 1] to [batch size]\n",
        "        y_pred = y_pred.view(y_pred.shape[0])\n",
        "        y = y.view(y.shape[0])\n",
        "        \n",
        "        all_y_true = torch.cat((all_y_true, y.to('cpu').long()), dim=0)\n",
        "        all_y_pred = torch.cat((all_y_pred, y_pred.to('cpu').long()), dim=0)\n",
        "        \n",
        "        loss = criterion(y_pred, y)\n",
        "        val_loss += loss.item()\n",
        "    val_loss = val_loss / len(val_loader)\n",
        "    mae, r2 = regression_metrics(all_y_pred, all_y_true)\n",
        "    #print(f\"mape: {mape:.3f}, r2: {r2:.3f}\")\n",
        "    return val_loss, mae, r2"
      ],
      "execution_count": 63,
      "outputs": []
    },
    {
      "cell_type": "code",
      "metadata": {
        "id": "e2ed2StcLIMN",
        "colab": {
          "base_uri": "https://localhost:8080/"
        },
        "outputId": "25caa354-7884-4857-94cb-a3801e642286"
      },
      "source": [
        "# test without training\n",
        "evaluate(model, train_loader)"
      ],
      "execution_count": 64,
      "outputs": [
        {
          "output_type": "execute_result",
          "data": {
            "text/plain": [
              "(28181945.338431265, 1532.9062719675076, -0.09075218736505808)"
            ]
          },
          "metadata": {
            "tags": []
          },
          "execution_count": 64
        }
      ]
    },
    {
      "cell_type": "markdown",
      "metadata": {
        "id": "vv9M-byiPORg"
      },
      "source": [
        "### 5.3 Training"
      ]
    },
    {
      "cell_type": "code",
      "metadata": {
        "id": "Lz4S1IXYPQV3"
      },
      "source": [
        "# https://www.coursera.org/learn/cs598-deep-learning-for-healthcare/programming/eJFr3/homework-3-seq2seq/lab\n",
        "\n",
        "def train(model, train_loader, val_loader, n_epochs):\n",
        "    model.train()\n",
        "\n",
        "    for epoch in range(n_epochs):\n",
        "        train_loss= 0\n",
        "        all_y_true = torch.LongTensor()\n",
        "        all_y_pred = torch.LongTensor()\n",
        "\n",
        "        for x, y in train_loader:\n",
        "            optimizer.zero_grad()\n",
        "            y_pred = model(x)\n",
        "\n",
        "            #print(y_pred.shape)\n",
        "\n",
        "            # convert shape from [batch size, 1] to [batch size]\n",
        "            y_pred = y_pred.view(y_pred.shape[0])\n",
        "            y_pred[y_pred < 0] = 0\n",
        "\n",
        "            y = y.view(y.shape[0])\n",
        "            #print(y_pred.shape)\n",
        "            #print(y.shape)\n",
        "            all_y_true = torch.cat((all_y_true, y.to('cpu').long()), dim=0)\n",
        "            all_y_pred = torch.cat((all_y_pred, y_pred.to('cpu').long()), dim=0)\n",
        "\n",
        "            loss = criterion(y_pred, y)\n",
        "            # l1 and l2 implement code is inspired by https://stackoverflow.com/questions/42704283/adding-l1-l2-regularization-in-pytorch\n",
        "            l_lambda = 0.01\n",
        "            #l1_norm = sum(p.abs().sum() for p in model.parameters())\n",
        "            l2_norm = sum(p.pow(2.0).sum() for p in model.parameters())\n",
        "            loss = loss + l_lambda * l2_norm\n",
        "\n",
        "            loss.backward()\n",
        "            optimizer.step()\n",
        "            train_loss += loss.item()\n",
        "\n",
        "        train_loss = train_loss / len(train_loader)\n",
        "        #train_MAE = mean_absolute_error(all_y_true, all_y_pred)\n",
        "        _, train_MAE, _ = evaluate(model, train_loader)\n",
        "        val_loss, val_MAE, r2 = evaluate(model, val_loader)\n",
        "        print('Epoch: {} \\t Training Loss: {:.6f} \\t Training MAE: {:.6f} \\t Validation Loss: {:.6f} \\t Validation MAE: {:.6f}'.format(epoch+1, train_loss, train_MAE, val_loss, val_MAE))\n"
      ],
      "execution_count": 67,
      "outputs": []
    },
    {
      "cell_type": "code",
      "metadata": {
        "id": "_HwbAOCSZPM1",
        "colab": {
          "base_uri": "https://localhost:8080/"
        },
        "outputId": "21a40980-aaae-4bca-f527-e4c3dc4f5db8"
      },
      "source": [
        "n_epochs = 100 # the prior paper's n_epochs=25\n",
        "train(model, train_loader, val_loader, n_epochs)\n"
      ],
      "execution_count": 68,
      "outputs": [
        {
          "output_type": "stream",
          "text": [
            "Epoch: 1 \t Training Loss: 25539720.877737 \t Training MAE: 1576.954620 \t Validation Loss: 23960680.789130 \t Validation MAE: 1569.108529\n",
            "Epoch: 2 \t Training Loss: 23391249.162095 \t Training MAE: 1739.806217 \t Validation Loss: 23735569.397826 \t Validation MAE: 1764.025424\n",
            "Epoch: 3 \t Training Loss: 22378953.611752 \t Training MAE: 1644.647661 \t Validation Loss: 24470155.341304 \t Validation MAE: 1708.269820\n",
            "Epoch: 4 \t Training Loss: 21641881.748597 \t Training MAE: 1715.410763 \t Validation Loss: 23507348.072826 \t Validation MAE: 1811.413341\n",
            "Epoch: 5 \t Training Loss: 20536012.016365 \t Training MAE: 1914.003593 \t Validation Loss: 23229878.026087 \t Validation MAE: 2041.863313\n",
            "Epoch: 6 \t Training Loss: 19765829.516132 \t Training MAE: 1505.529641 \t Validation Loss: 21909491.913043 \t Validation MAE: 1623.910880\n",
            "Epoch: 7 \t Training Loss: 19019201.773847 \t Training MAE: 1501.058971 \t Validation Loss: 21749162.951087 \t Validation MAE: 1681.548114\n",
            "Epoch: 8 \t Training Loss: 18308226.427057 \t Training MAE: 1608.440678 \t Validation Loss: 22676586.171739 \t Validation MAE: 1860.430837\n",
            "Epoch: 9 \t Training Loss: 17700445.263092 \t Training MAE: 1428.798016 \t Validation Loss: 22011221.514674 \t Validation MAE: 1689.634226\n",
            "Epoch: 10 \t Training Loss: 16803323.484570 \t Training MAE: 1536.181051 \t Validation Loss: 22654396.265217 \t Validation MAE: 1848.583106\n",
            "Epoch: 11 \t Training Loss: 16243892.491194 \t Training MAE: 1408.821917 \t Validation Loss: 22300636.127174 \t Validation MAE: 1721.002460\n",
            "Epoch: 12 \t Training Loss: 15691339.140742 \t Training MAE: 1321.917676 \t Validation Loss: 22881822.748370 \t Validation MAE: 1705.924549\n",
            "Epoch: 13 \t Training Loss: 14851709.989869 \t Training MAE: 1369.850113 \t Validation Loss: 24901404.834783 \t Validation MAE: 1838.351011\n",
            "Epoch: 14 \t Training Loss: 14210561.262235 \t Training MAE: 1457.532531 \t Validation Loss: 25882692.606522 \t Validation MAE: 1980.098141\n",
            "Epoch: 15 \t Training Loss: 13363838.305642 \t Training MAE: 1396.843943 \t Validation Loss: 25206377.696739 \t Validation MAE: 1936.656643\n",
            "Epoch: 16 \t Training Loss: 13034868.303382 \t Training MAE: 1303.419511 \t Validation Loss: 25366708.172826 \t Validation MAE: 1879.171679\n",
            "Epoch: 17 \t Training Loss: 12261627.960801 \t Training MAE: 1346.077716 \t Validation Loss: 26970217.194565 \t Validation MAE: 1986.336796\n",
            "Epoch: 18 \t Training Loss: 12095894.304707 \t Training MAE: 1132.339920 \t Validation Loss: 24779565.381522 \t Validation MAE: 1703.963095\n",
            "Epoch: 19 \t Training Loss: 11538108.945215 \t Training MAE: 1114.872452 \t Validation Loss: 26248904.870652 \t Validation MAE: 1748.034718\n",
            "Epoch: 20 \t Training Loss: 11218660.962438 \t Training MAE: 1176.899867 \t Validation Loss: 24044962.805435 \t Validation MAE: 1750.478130\n",
            "Epoch: 21 \t Training Loss: 10968410.968049 \t Training MAE: 1146.151918 \t Validation Loss: 27362216.964130 \t Validation MAE: 1887.045927\n",
            "Epoch: 22 \t Training Loss: 10287467.630377 \t Training MAE: 1126.745685 \t Validation Loss: 28415720.923913 \t Validation MAE: 1874.773100\n",
            "Epoch: 23 \t Training Loss: 10213752.070449 \t Training MAE: 1106.286339 \t Validation Loss: 26290424.615217 \t Validation MAE: 1835.241662\n",
            "Epoch: 24 \t Training Loss: 9840552.577852 \t Training MAE: 1272.991799 \t Validation Loss: 28006374.939130 \t Validation MAE: 2074.496720\n",
            "Epoch: 25 \t Training Loss: 9673080.980829 \t Training MAE: 1095.248770 \t Validation Loss: 26300589.648370 \t Validation MAE: 1851.770093\n",
            "Epoch: 26 \t Training Loss: 9530758.425499 \t Training MAE: 1023.620480 \t Validation Loss: 27891561.996196 \t Validation MAE: 1853.143521\n",
            "Epoch: 27 \t Training Loss: 9036825.602829 \t Training MAE: 1070.396157 \t Validation Loss: 27455020.818478 \t Validation MAE: 1884.973483\n",
            "Epoch: 28 \t Training Loss: 8884345.166147 \t Training MAE: 1022.028899 \t Validation Loss: 26529363.928261 \t Validation MAE: 1814.797977\n",
            "Epoch: 29 \t Training Loss: 9163158.604426 \t Training MAE: 1067.922596 \t Validation Loss: 26361624.126087 \t Validation MAE: 1870.614543\n",
            "Epoch: 30 \t Training Loss: 8657589.101036 \t Training MAE: 1161.563384 \t Validation Loss: 29124077.604348 \t Validation MAE: 2087.979497\n",
            "Epoch: 31 \t Training Loss: 8132423.405237 \t Training MAE: 970.722643 \t Validation Loss: 28018618.506522 \t Validation MAE: 1855.437944\n",
            "Epoch: 32 \t Training Loss: 8027160.289511 \t Training MAE: 994.290791 \t Validation Loss: 26506152.532609 \t Validation MAE: 1827.041279\n",
            "Epoch: 33 \t Training Loss: 7912180.759858 \t Training MAE: 998.749121 \t Validation Loss: 29505400.670652 \t Validation MAE: 1934.143521\n",
            "Epoch: 34 \t Training Loss: 7933988.392067 \t Training MAE: 987.247833 \t Validation Loss: 27533526.709783 \t Validation MAE: 1875.872608\n",
            "Epoch: 35 \t Training Loss: 7927672.106005 \t Training MAE: 941.241740 \t Validation Loss: 27590851.400543 \t Validation MAE: 1805.555495\n",
            "Epoch: 36 \t Training Loss: 7739463.183915 \t Training MAE: 948.355698 \t Validation Loss: 27100746.835870 \t Validation MAE: 1833.310279\n",
            "Epoch: 37 \t Training Loss: 7671675.373091 \t Training MAE: 1109.196516 \t Validation Loss: 29970244.257609 \t Validation MAE: 2083.215418\n",
            "Epoch: 38 \t Training Loss: 7388125.534504 \t Training MAE: 934.191205 \t Validation Loss: 28008321.778804 \t Validation MAE: 1876.528431\n",
            "Epoch: 39 \t Training Loss: 7167071.086425 \t Training MAE: 964.663048 \t Validation Loss: 29110377.283696 \t Validation MAE: 1944.598961\n",
            "Epoch: 40 \t Training Loss: 7235571.805584 \t Training MAE: 919.622276 \t Validation Loss: 27440515.843478 \t Validation MAE: 1862.317387\n",
            "Epoch: 41 \t Training Loss: 7112831.274197 \t Training MAE: 896.822385 \t Validation Loss: 28052400.691848 \t Validation MAE: 1835.164024\n",
            "Epoch: 42 \t Training Loss: 7076999.383572 \t Training MAE: 931.176365 \t Validation Loss: 27516968.164130 \t Validation MAE: 1879.355112\n",
            "Epoch: 43 \t Training Loss: 6915921.307123 \t Training MAE: 972.713739 \t Validation Loss: 26846968.571739 \t Validation MAE: 1899.495626\n",
            "Epoch: 44 \t Training Loss: 6856785.496688 \t Training MAE: 938.530657 \t Validation Loss: 26639543.612500 \t Validation MAE: 1838.445325\n",
            "Epoch: 45 \t Training Loss: 6828400.598932 \t Training MAE: 860.754198 \t Validation Loss: 28396276.617935 \t Validation MAE: 1870.996173\n",
            "Epoch: 46 \t Training Loss: 6619451.842036 \t Training MAE: 904.372413 \t Validation Loss: 28792749.695652 \t Validation MAE: 1940.074358\n",
            "Epoch: 47 \t Training Loss: 6535234.117675 \t Training MAE: 853.647192 \t Validation Loss: 27162306.781522 \t Validation MAE: 1820.323948\n",
            "Epoch: 48 \t Training Loss: 6523690.470309 \t Training MAE: 938.596032 \t Validation Loss: 29290793.813043 \t Validation MAE: 1957.211318\n",
            "Epoch: 49 \t Training Loss: 6579801.321696 \t Training MAE: 872.021479 \t Validation Loss: 28170739.411957 \t Validation MAE: 1899.806725\n",
            "Epoch: 50 \t Training Loss: 6479659.356151 \t Training MAE: 851.124268 \t Validation Loss: 29405207.942935 \t Validation MAE: 1913.360580\n",
            "Epoch: 51 \t Training Loss: 6466622.973348 \t Training MAE: 813.072639 \t Validation Loss: 27086579.016304 \t Validation MAE: 1765.509841\n",
            "Epoch: 52 \t Training Loss: 6419154.026340 \t Training MAE: 931.336952 \t Validation Loss: 29537353.122826 \t Validation MAE: 2029.031711\n",
            "Epoch: 53 \t Training Loss: 6257725.795940 \t Training MAE: 818.068187 \t Validation Loss: 27833604.606522 \t Validation MAE: 1841.139694\n",
            "Epoch: 54 \t Training Loss: 6238799.384118 \t Training MAE: 844.456690 \t Validation Loss: 28971755.042391 \t Validation MAE: 1928.732367\n",
            "Epoch: 55 \t Training Loss: 6267414.377805 \t Training MAE: 809.785128 \t Validation Loss: 26176497.368478 \t Validation MAE: 1760.372061\n",
            "Epoch: 56 \t Training Loss: 6145680.091178 \t Training MAE: 807.000859 \t Validation Loss: 28979570.635870 \t Validation MAE: 1866.539639\n",
            "Epoch: 57 \t Training Loss: 6057931.286004 \t Training MAE: 895.953136 \t Validation Loss: 27885903.322826 \t Validation MAE: 1963.551941\n",
            "Epoch: 58 \t Training Loss: 6023633.262079 \t Training MAE: 825.652738 \t Validation Loss: 29167002.695109 \t Validation MAE: 1904.740842\n",
            "Epoch: 59 \t Training Loss: 5973315.009819 \t Training MAE: 777.750371 \t Validation Loss: 27777523.984783 \t Validation MAE: 1798.158830\n",
            "Epoch: 60 \t Training Loss: 6037025.658198 \t Training MAE: 831.636413 \t Validation Loss: 26820331.020109 \t Validation MAE: 1809.047020\n",
            "Epoch: 61 \t Training Loss: 6040781.868181 \t Training MAE: 804.831368 \t Validation Loss: 28448050.170652 \t Validation MAE: 1876.648715\n",
            "Epoch: 62 \t Training Loss: 5988502.301395 \t Training MAE: 840.280247 \t Validation Loss: 30398171.490217 \t Validation MAE: 1999.394478\n",
            "Epoch: 63 \t Training Loss: 5847796.042745 \t Training MAE: 800.954151 \t Validation Loss: 28295528.192391 \t Validation MAE: 1904.538819\n",
            "Epoch: 64 \t Training Loss: 5848931.795394 \t Training MAE: 905.273764 \t Validation Loss: 30066211.672826 \t Validation MAE: 2080.872608\n",
            "Epoch: 65 \t Training Loss: 5760238.428538 \t Training MAE: 745.128486 \t Validation Loss: 27578087.196739 \t Validation MAE: 1831.791416\n",
            "Epoch: 66 \t Training Loss: 5714508.079177 \t Training MAE: 770.665860 \t Validation Loss: 28955464.422826 \t Validation MAE: 1926.513122\n",
            "Epoch: 67 \t Training Loss: 5636647.384975 \t Training MAE: 795.781457 \t Validation Loss: 30410527.544565 \t Validation MAE: 1986.941498\n",
            "Epoch: 68 \t Training Loss: 5680254.849049 \t Training MAE: 752.100914 \t Validation Loss: 29170773.163043 \t Validation MAE: 1897.872608\n",
            "Epoch: 69 \t Training Loss: 5600416.369233 \t Training MAE: 765.199875 \t Validation Loss: 28350068.622826 \t Validation MAE: 1884.198469\n",
            "Epoch: 70 \t Training Loss: 5476196.013521 \t Training MAE: 820.726392 \t Validation Loss: 29864258.795652 \t Validation MAE: 2022.413067\n",
            "Epoch: 71 \t Training Loss: 5439718.797537 \t Training MAE: 758.444271 \t Validation Loss: 28715296.802717 \t Validation MAE: 1863.503827\n",
            "Epoch: 72 \t Training Loss: 5539142.767008 \t Training MAE: 803.039522 \t Validation Loss: 32404905.197826 \t Validation MAE: 2053.825588\n",
            "Epoch: 73 \t Training Loss: 5558801.509741 \t Training MAE: 756.696009 \t Validation Loss: 27670007.485326 \t Validation MAE: 1821.342537\n",
            "Epoch: 74 \t Training Loss: 5578555.384741 \t Training MAE: 771.144263 \t Validation Loss: 29688165.828261 \t Validation MAE: 1959.843904\n",
            "Epoch: 75 \t Training Loss: 5419041.630338 \t Training MAE: 961.901351 \t Validation Loss: 32357311.931522 \t Validation MAE: 2197.797977\n",
            "Epoch: 76 \t Training Loss: 5318011.627533 \t Training MAE: 746.614856 \t Validation Loss: 29012927.977174 \t Validation MAE: 1900.891197\n",
            "Epoch: 77 \t Training Loss: 5223418.967932 \t Training MAE: 724.956573 \t Validation Loss: 29386800.347826 \t Validation MAE: 1919.899945\n",
            "Epoch: 78 \t Training Loss: 5213642.226387 \t Training MAE: 747.142623 \t Validation Loss: 30851347.802174 \t Validation MAE: 1990.283215\n",
            "Epoch: 79 \t Training Loss: 5192076.238778 \t Training MAE: 714.631336 \t Validation Loss: 29362038.133152 \t Validation MAE: 1880.957354\n",
            "Epoch: 80 \t Training Loss: 5248717.559130 \t Training MAE: 804.665703 \t Validation Loss: 28426206.493478 \t Validation MAE: 1917.327228\n",
            "Epoch: 81 \t Training Loss: 5354956.320994 \t Training MAE: 808.351871 \t Validation Loss: 31961341.178261 \t Validation MAE: 2070.335429\n",
            "Epoch: 82 \t Training Loss: 5185070.499377 \t Training MAE: 721.585097 \t Validation Loss: 29919665.302174 \t Validation MAE: 1951.023237\n",
            "Epoch: 83 \t Training Loss: 5151345.892417 \t Training MAE: 734.507459 \t Validation Loss: 31585390.016304 \t Validation MAE: 2023.814926\n",
            "Epoch: 84 \t Training Loss: 5145842.616506 \t Training MAE: 684.528626 \t Validation Loss: 29022062.898913 \t Validation MAE: 1876.688628\n",
            "Epoch: 85 \t Training Loss: 5023381.042940 \t Training MAE: 699.456065 \t Validation Loss: 30818464.480978 \t Validation MAE: 1953.812466\n",
            "Epoch: 86 \t Training Loss: 5036491.530646 \t Training MAE: 697.348356 \t Validation Loss: 29330229.619565 \t Validation MAE: 1912.193002\n",
            "Epoch: 87 \t Training Loss: 5012653.593614 \t Training MAE: 719.608764 \t Validation Loss: 31828943.970652 \t Validation MAE: 2018.702023\n",
            "Epoch: 88 \t Training Loss: 4972162.909757 \t Training MAE: 737.553230 \t Validation Loss: 29729229.294565 \t Validation MAE: 2002.233734\n",
            "Epoch: 89 \t Training Loss: 5040214.239616 \t Training MAE: 681.907990 \t Validation Loss: 31243464.659783 \t Validation MAE: 1959.598688\n",
            "Epoch: 90 \t Training Loss: 5043327.897483 \t Training MAE: 693.017027 \t Validation Loss: 30921019.842935 \t Validation MAE: 1989.513122\n",
            "Epoch: 91 \t Training Loss: 5088218.168992 \t Training MAE: 688.781301 \t Validation Loss: 30054158.335326 \t Validation MAE: 1915.788956\n",
            "Epoch: 92 \t Training Loss: 4940983.722608 \t Training MAE: 686.605952 \t Validation Loss: 32065199.937500 \t Validation MAE: 2041.747130\n",
            "Epoch: 93 \t Training Loss: 4800158.523496 \t Training MAE: 684.877763 \t Validation Loss: 29984696.452174 \t Validation MAE: 1950.701750\n",
            "Epoch: 94 \t Training Loss: 4752946.962808 \t Training MAE: 693.889088 \t Validation Loss: 30177915.750000 \t Validation MAE: 1988.624932\n",
            "Epoch: 95 \t Training Loss: 4735996.589776 \t Training MAE: 707.808326 \t Validation Loss: 31677961.052717 \t Validation MAE: 1978.859213\n",
            "Epoch: 96 \t Training Loss: 4882054.826372 \t Training MAE: 746.636726 \t Validation Loss: 31448855.754348 \t Validation MAE: 2060.983051\n",
            "Epoch: 97 \t Training Loss: 4911440.915309 \t Training MAE: 673.631493 \t Validation Loss: 31512770.933696 \t Validation MAE: 1966.925916\n",
            "Epoch: 98 \t Training Loss: 4858434.197723 \t Training MAE: 690.677497 \t Validation Loss: 31265893.515217 \t Validation MAE: 2010.841990\n",
            "Epoch: 99 \t Training Loss: 4660576.039140 \t Training MAE: 669.386706 \t Validation Loss: 32375262.438043 \t Validation MAE: 2032.441498\n",
            "Epoch: 100 \t Training Loss: 4562380.045161 \t Training MAE: 679.067484 \t Validation Loss: 33314569.509783 \t Validation MAE: 2075.117277\n"
          ],
          "name": "stdout"
        }
      ]
    },
    {
      "cell_type": "markdown",
      "metadata": {
        "id": "HU1JuOCGcIvN"
      },
      "source": [
        "### 6. **Test**"
      ]
    },
    {
      "cell_type": "code",
      "metadata": {
        "id": "pjQhOCG2Zk1L",
        "colab": {
          "base_uri": "https://localhost:8080/"
        },
        "outputId": "b75aa985-40ac-4d06-cfbf-d544d52dcd6a"
      },
      "source": [
        "_, test_mae, _ = evaluate(model, test_loader)\n",
        "print('Test MAE: %.2f'%(test_mae))"
      ],
      "execution_count": 69,
      "outputs": [
        {
          "output_type": "stream",
          "text": [
            "Test MAE: 2279.85\n"
          ],
          "name": "stdout"
        }
      ]
    },
    {
      "cell_type": "markdown",
      "metadata": {
        "id": "YBp8bT4WLWqZ"
      },
      "source": [
        "## 7. **Visualization**"
      ]
    },
    {
      "cell_type": "code",
      "metadata": {
        "id": "piuf5sBXg7A-"
      },
      "source": [
        "## get the model prediction and actual values\n",
        "import matplotlib.pylab as plt\n",
        "import pandas\n",
        "\n",
        "def plot_prediction(model, data_loader, dataset_name='data set'):\n",
        "    outpred, outact = [], []\n",
        "    for xx, yy in data_loader:\n",
        "        ypred = model(xx)\n",
        "        outpred.extend(ypred.cpu().detach().numpy())\n",
        "        outact.extend(yy.cpu().detach().numpy())\n",
        "\n",
        "    outpred = numpy.concatenate(outpred)\n",
        "    outact  = numpy.concatenate(outact)\n",
        "\n",
        "    df = pandas.DataFrame({'actual':outact, 'predict':outpred})\n",
        "    df = df.sort_values('actual')\n",
        "    print(df.corr())\n",
        "    plt.plot(df.actual, df.predict, 'r.')\n",
        "    plt.plot(df.actual, df.actual, 'k-')\n",
        "    plt.xlabel('actual paid in USD ({})'.format(dataset_name))\n",
        "    plt.ylabel('predicted paid in USD ({})'.format(dataset_name))\n",
        "\n",
        "    df['ABSERROR'] = numpy.abs(df.actual - df.predict)\n",
        "    print(df.ABSERROR.mean(), df.ABSERROR.median())"
      ],
      "execution_count": null,
      "outputs": []
    },
    {
      "cell_type": "markdown",
      "metadata": {
        "id": "NrSPWsTqLcMg"
      },
      "source": [
        "### **7.1 Training dataset**"
      ]
    },
    {
      "cell_type": "code",
      "metadata": {
        "id": "yKD32IAgLiiz",
        "colab": {
          "base_uri": "https://localhost:8080/",
          "height": 347
        },
        "outputId": "ced67af0-13ef-4a8b-81f8-820ff240b367"
      },
      "source": [
        "plot_prediction(model, train_loader, 'training dataset')"
      ],
      "execution_count": null,
      "outputs": [
        {
          "output_type": "stream",
          "text": [
            "           actual   predict\n",
            "actual   1.000000  0.985154\n",
            "predict  0.985154  1.000000\n",
            "246.1818084716797 105.22344970703125\n"
          ],
          "name": "stdout"
        },
        {
          "output_type": "display_data",
          "data": {
            "image/png": "[encoded data removed]",
            "text/plain": [
              "<Figure size 432x288 with 1 Axes>"
            ]
          },
          "metadata": {
            "tags": [],
            "needs_background": "light"
          }
        }
      ]
    },
    {
      "cell_type": "markdown",
      "metadata": {
        "id": "NfgpLy5JLzIR"
      },
      "source": [
        "### **7.2 Validation dataset**"
      ]
    },
    {
      "cell_type": "code",
      "metadata": {
        "id": "ISk0KrpWKjV1",
        "colab": {
          "base_uri": "https://localhost:8080/",
          "height": 347
        },
        "outputId": "8c7b2b7c-b0ab-4ceb-897c-35dcda9b8206"
      },
      "source": [
        "plot_prediction(model, val_loader, 'validation dataset')"
      ],
      "execution_count": null,
      "outputs": [
        {
          "output_type": "stream",
          "text": [
            "           actual   predict\n",
            "actual   1.000000  0.213623\n",
            "predict  0.213623  1.000000\n",
            "2313.652099609375 500.54681396484375\n"
          ],
          "name": "stdout"
        },
        {
          "output_type": "display_data",
          "data": {
            "image/png": "[encoded data removed]",
            "text/plain": [
              "<Figure size 432x288 with 1 Axes>"
            ]
          },
          "metadata": {
            "tags": [],
            "needs_background": "light"
          }
        }
      ]
    },
    {
      "cell_type": "markdown",
      "metadata": {
        "id": "zvDzF2JAL2fm"
      },
      "source": [
        "### **7.3 Test dataset**"
      ]
    },
    {
      "cell_type": "code",
      "metadata": {
        "id": "184LyjBLJliw",
        "colab": {
          "base_uri": "https://localhost:8080/",
          "height": 347
        },
        "outputId": "f6b0bee0-5061-4481-dbb3-18678a356dfd"
      },
      "source": [
        "plot_prediction(model, test_loader, 'test dataset')"
      ],
      "execution_count": null,
      "outputs": [
        {
          "output_type": "stream",
          "text": [
            "           actual   predict\n",
            "actual   1.000000  0.125711\n",
            "predict  0.125711  1.000000\n",
            "2139.839599609375 463.5362243652344\n"
          ],
          "name": "stdout"
        },
        {
          "output_type": "display_data",
          "data": {
            "image/png": "[encoded data removed]",
            "text/plain": [
              "<Figure size 432x288 with 1 Axes>"
            ]
          },
          "metadata": {
            "tags": [],
            "needs_background": "light"
          }
        }
      ]
    },
    {
      "cell_type": "code",
      "metadata": {
        "id": "9Xme8zHfL7w0"
      },
      "source": [
        ""
      ],
      "execution_count": null,
      "outputs": []
    }
  ]
}