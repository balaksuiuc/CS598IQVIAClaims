{
  "nbformat": 4,
  "nbformat_minor": 0,
  "metadata": {
    "accelerator": "GPU",
    "colab": {
      "name": "cost_prediction.ipynb",
      "provenance": [],
      "toc_visible": true
    },
    "kernelspec": {
      "display_name": "Python 3",
      "name": "python3"
    },
    "language_info": {
      "name": "python"
    }
  },
  "cells": [
    {
      "cell_type": "markdown",
      "metadata": {
        "id": "Q_jej5JXayNs"
      },
      "source": [
        "# **CS598 Deep Learning for Healthcare**"
      ]
    },
    {
      "cell_type": "markdown",
      "metadata": {
        "id": "vP7Q5_3OctOD"
      },
      "source": [
        "## **1. Setup**"
      ]
    },
    {
      "cell_type": "markdown",
      "metadata": {
        "id": "dV62d0RgcLoQ"
      },
      "source": [
        "### 1.1 Change the google colab settings\n",
        "We can use a GPU on the google colab by setting below.  \n",
        "**Edit -> Notebook setting -> Hardware accelerator -> GPU**"
      ]
    },
    {
      "cell_type": "markdown",
      "metadata": {
        "id": "MEKo8TAeb9TB"
      },
      "source": [
        "### 1.2 Check if the GPU is available in the Colab environment"
      ]
    },
    {
      "cell_type": "code",
      "metadata": {
        "colab": {
          "base_uri": "https://localhost:8080/"
        },
        "id": "-uhApS8Qa2yl",
        "outputId": "441747ba-8a11-46e6-b5dd-206040e43b6f"
      },
      "source": [
        "# The code in this cell is inspired by https://mccormickml.com/2019/07/22/BERT-fine-tuning/\n",
        "import tensorflow as tf\n",
        "\n",
        "# Get the GPU device name\n",
        "device_name = tf.test.gpu_device_name()\n",
        "print('Device name: {}'.format(device_name))"
      ],
      "execution_count": null,
      "outputs": [
        {
          "output_type": "stream",
          "text": [
            "Device name: /device:GPU:0\n"
          ],
          "name": "stdout"
        }
      ]
    },
    {
      "cell_type": "markdown",
      "metadata": {
        "id": "UKcEgpY6ckkX"
      },
      "source": [
        "### 1.3 GPU setting for PyTourch"
      ]
    },
    {
      "cell_type": "code",
      "metadata": {
        "colab": {
          "base_uri": "https://localhost:8080/"
        },
        "id": "9aCKdPN0bkYo",
        "outputId": "1d15f323-1d0d-4b8d-f4f7-bd471ecdda64"
      },
      "source": [
        "# The code in this cell is inspired by https://mccormickml.com/2019/07/22/BERT-fine-tuning/\n",
        "import torch\n",
        "\n",
        "# Tell PyTorch to use the GPU\n",
        "device = torch.device(\"cuda\")\n",
        "print('GPU:', torch.cuda.get_device_name(0))"
      ],
      "execution_count": null,
      "outputs": [
        {
          "output_type": "stream",
          "text": [
            "GPU: Tesla T4\n"
          ],
          "name": "stdout"
        }
      ]
    },
    {
      "cell_type": "markdown",
      "metadata": {
        "id": "CSDxTfE8dKyo"
      },
      "source": [
        "### 1.4 Install necessary packages\n"
      ]
    },
    {
      "cell_type": "code",
      "metadata": {
        "id": "LN3iA6mgbyNA"
      },
      "source": [
        "# if needed"
      ],
      "execution_count": null,
      "outputs": []
    },
    {
      "cell_type": "markdown",
      "metadata": {
        "id": "0QktahRUdTgj"
      },
      "source": [
        "## **2. Dataset loading**"
      ]
    },
    {
      "cell_type": "markdown",
      "metadata": {
        "id": "9X87pA2We0fb"
      },
      "source": [
        "### 2.1 Load the IQVIA data from google drive"
      ]
    },
    {
      "cell_type": "code",
      "metadata": {
        "colab": {
          "base_uri": "https://localhost:8080/"
        },
        "id": "szqDmVIIhBA9",
        "outputId": "5c882dd5-712e-4b55-86e0-09d4f71939ac"
      },
      "source": [
        "from google.colab import drive\n",
        "drive.mount('/content/drive')"
      ],
      "execution_count": null,
      "outputs": [
        {
          "output_type": "stream",
          "text": [
            "Drive already mounted at /content/drive; to attempt to forcibly remount, call drive.mount(\"/content/drive\", force_remount=True).\n"
          ],
          "name": "stdout"
        }
      ]
    },
    {
      "cell_type": "markdown",
      "metadata": {
        "id": "qjt8F4t4kjS5"
      },
      "source": [
        "[Note]\n",
        "Need to upload the iqvia data to your google drive"
      ]
    },
    {
      "cell_type": "code",
      "metadata": {
        "id": "aNjGFsD2dPjH"
      },
      "source": [
        "DATA_DIR = '/content/drive/MyDrive/iqvia_data/'"
      ],
      "execution_count": null,
      "outputs": []
    },
    {
      "cell_type": "code",
      "metadata": {
        "id": "EGqP7CZjfFko"
      },
      "source": [
        "import pandas as pd\n",
        "ENROLL_FILE = DATA_DIR + 'enroll_synth.dat'\n",
        "CLAIMS_2019 = DATA_DIR + 'claims_2019.dat'\n",
        "CLAIMS_2018 = DATA_DIR + 'claims_2018.dat'\n",
        "CLAIMS_2017 = DATA_DIR + 'claims_2017.dat'\n",
        "CLAIMS_2016 = DATA_DIR + 'claims_2016.dat'\n",
        "CLAIMS_2015 = DATA_DIR + 'claims_2015.dat'\n",
        "\n",
        "df_enroll = pd.read_csv(ENROLL_FILE, sep='|', low_memory=False)\n",
        "\n",
        "df_claims2019 = pd.read_csv(CLAIMS_2019, sep='|', low_memory=False)\n",
        "df_claims2018 = pd.read_csv(CLAIMS_2018, sep='|', low_memory=False)\n",
        "df_claims2017 = pd.read_csv(CLAIMS_2017, sep='|', low_memory=False)\n",
        "df_claims2016 = pd.read_csv(CLAIMS_2016, sep='|', low_memory=False)\n",
        "df_claims2015 = pd.read_csv(CLAIMS_2015, sep='|', low_memory=False)\n",
        "\n",
        "## Add year and create a single dataset for claims\n",
        "df_claims2015[\"year\"] = 2015\n",
        "df_claims2016[\"year\"] = 2016\n",
        "df_claims2017[\"year\"] = 2017\n",
        "df_claims2018[\"year\"] = 2018\n",
        "df_claims2019[\"year\"] = 2019\n",
        "\n",
        "list_of_claims = [df_claims2015, df_claims2016, df_claims2017, df_claims2018, df_claims2019]\n",
        "df_claims = pd.concat(list_of_claims)"
      ],
      "execution_count": null,
      "outputs": []
    },
    {
      "cell_type": "code",
      "metadata": {
        "colab": {
          "base_uri": "https://localhost:8080/",
          "height": 581
        },
        "id": "NlzdYrkHncNq",
        "outputId": "5ab345de-5c46-439b-c459-9cdf95e55a9f"
      },
      "source": [
        "# enroll data\n",
        "print(\"Shape of Claims{}\".format(df_enroll.shape))\n",
        "df_enroll.sample(n=5, random_state=0)"
      ],
      "execution_count": null,
      "outputs": [
        {
          "output_type": "stream",
          "text": [
            "Shape of Claims(30000, 17)\n"
          ],
          "name": "stdout"
        },
        {
          "output_type": "execute_result",
          "data": {
            "text/html": [
              "<div>\n",
              "<style scoped>\n",
              "    .dataframe tbody tr th:only-of-type {\n",
              "        vertical-align: middle;\n",
              "    }\n",
              "\n",
              "    .dataframe tbody tr th {\n",
              "        vertical-align: top;\n",
              "    }\n",
              "\n",
              "    .dataframe thead th {\n",
              "        text-align: right;\n",
              "    }\n",
              "</style>\n",
              "<table border=\"1\" class=\"dataframe\">\n",
              "  <thead>\n",
              "    <tr style=\"text-align: right;\">\n",
              "      <th></th>\n",
              "      <th>estring</th>\n",
              "      <th>clm_frst</th>\n",
              "      <th>clm_last</th>\n",
              "      <th>nbr_clm_lines</th>\n",
              "      <th>enr_frst</th>\n",
              "      <th>enr_last</th>\n",
              "      <th>mon_totl</th>\n",
              "      <th>mxce_fst</th>\n",
              "      <th>mxce_lst</th>\n",
              "      <th>der_sex</th>\n",
              "      <th>der_yob</th>\n",
              "      <th>pat_id</th>\n",
              "      <th>pat_region</th>\n",
              "      <th>pat_state</th>\n",
              "      <th>grp_indv_cd</th>\n",
              "      <th>mh_cd</th>\n",
              "      <th>enr_rel</th>\n",
              "    </tr>\n",
              "  </thead>\n",
              "  <tbody>\n",
              "    <tr>\n",
              "      <th>8225</th>\n",
              "      <td>----------------------------------------------...</td>\n",
              "      <td>2006-01-10</td>\n",
              "      <td>2017-12-27</td>\n",
              "      <td>417</td>\n",
              "      <td>2006-01-01</td>\n",
              "      <td>2018-03-31</td>\n",
              "      <td>147</td>\n",
              "      <td>2006-01-01</td>\n",
              "      <td>2018-03-31</td>\n",
              "      <td>F</td>\n",
              "      <td>1943.0</td>\n",
              "      <td>f433AAAAAAAGVWTS</td>\n",
              "      <td>E</td>\n",
              "      <td>NY</td>\n",
              "      <td>U</td>\n",
              "      <td>Y</td>\n",
              "      <td>21</td>\n",
              "    </tr>\n",
              "    <tr>\n",
              "      <th>10794</th>\n",
              "      <td>----------------------------------------------...</td>\n",
              "      <td>2006-06-07</td>\n",
              "      <td>2018-03-05</td>\n",
              "      <td>140</td>\n",
              "      <td>2006-01-01</td>\n",
              "      <td>2018-03-31</td>\n",
              "      <td>147</td>\n",
              "      <td>2006-01-01</td>\n",
              "      <td>2018-03-31</td>\n",
              "      <td>M</td>\n",
              "      <td>1964.0</td>\n",
              "      <td>f433AAAAAAAHRYHG</td>\n",
              "      <td>E</td>\n",
              "      <td>NY</td>\n",
              "      <td>U</td>\n",
              "      <td>Y</td>\n",
              "      <td>21</td>\n",
              "    </tr>\n",
              "    <tr>\n",
              "      <th>9163</th>\n",
              "      <td>----------------------------------------------...</td>\n",
              "      <td>2007-07-23</td>\n",
              "      <td>2017-03-14</td>\n",
              "      <td>345</td>\n",
              "      <td>2006-01-01</td>\n",
              "      <td>2017-03-31</td>\n",
              "      <td>135</td>\n",
              "      <td>2006-01-01</td>\n",
              "      <td>2017-03-31</td>\n",
              "      <td>F</td>\n",
              "      <td>1960.0</td>\n",
              "      <td>k306AAAAAABKDKXE</td>\n",
              "      <td>NaN</td>\n",
              "      <td>NaN</td>\n",
              "      <td>U</td>\n",
              "      <td>Y</td>\n",
              "      <td>21</td>\n",
              "    </tr>\n",
              "    <tr>\n",
              "      <th>26591</th>\n",
              "      <td>----------------------------------------------...</td>\n",
              "      <td>2016-01-01</td>\n",
              "      <td>2016-03-11</td>\n",
              "      <td>28</td>\n",
              "      <td>2016-01-01</td>\n",
              "      <td>2016-12-31</td>\n",
              "      <td>12</td>\n",
              "      <td>2016-01-01</td>\n",
              "      <td>2016-12-31</td>\n",
              "      <td>M</td>\n",
              "      <td>2015.0</td>\n",
              "      <td>a7e3AAAAAAPPAPTW</td>\n",
              "      <td>W</td>\n",
              "      <td>CA</td>\n",
              "      <td>U</td>\n",
              "      <td>N</td>\n",
              "      <td>21</td>\n",
              "    </tr>\n",
              "    <tr>\n",
              "      <th>6631</th>\n",
              "      <td>----------------------------------------------...</td>\n",
              "      <td>2017-04-28</td>\n",
              "      <td>2017-05-26</td>\n",
              "      <td>22</td>\n",
              "      <td>2016-03-01</td>\n",
              "      <td>2017-05-31</td>\n",
              "      <td>15</td>\n",
              "      <td>2016-03-01</td>\n",
              "      <td>2017-05-31</td>\n",
              "      <td>F</td>\n",
              "      <td>1995.0</td>\n",
              "      <td>pg20AAAAADXVWYQN</td>\n",
              "      <td>MW</td>\n",
              "      <td>IL</td>\n",
              "      <td>U</td>\n",
              "      <td>N</td>\n",
              "      <td>21</td>\n",
              "    </tr>\n",
              "  </tbody>\n",
              "</table>\n",
              "</div>"
            ],
            "text/plain": [
              "                                                 estring  ... enr_rel\n",
              "8225   ----------------------------------------------...  ...      21\n",
              "10794  ----------------------------------------------...  ...      21\n",
              "9163   ----------------------------------------------...  ...      21\n",
              "26591  ----------------------------------------------...  ...      21\n",
              "6631   ----------------------------------------------...  ...      21\n",
              "\n",
              "[5 rows x 17 columns]"
            ]
          },
          "metadata": {
            "tags": []
          },
          "execution_count": 7
        }
      ]
    },
    {
      "cell_type": "code",
      "metadata": {
        "colab": {
          "base_uri": "https://localhost:8080/",
          "height": 326
        },
        "id": "qgR9yr9anOQd",
        "outputId": "0106d735-7a9c-4aee-eb6e-2a261797466d"
      },
      "source": [
        "# claim data\n",
        "print(\"Shape of Claims{}\".format(df_claims.shape))\n",
        "df_claims.sample(n=5, random_state=0)"
      ],
      "execution_count": null,
      "outputs": [
        {
          "output_type": "stream",
          "text": [
            "Shape of Claims(2438054, 65)\n"
          ],
          "name": "stdout"
        },
        {
          "output_type": "execute_result",
          "data": {
            "text/html": [
              "<div>\n",
              "<style scoped>\n",
              "    .dataframe tbody tr th:only-of-type {\n",
              "        vertical-align: middle;\n",
              "    }\n",
              "\n",
              "    .dataframe tbody tr th {\n",
              "        vertical-align: top;\n",
              "    }\n",
              "\n",
              "    .dataframe thead th {\n",
              "        text-align: right;\n",
              "    }\n",
              "</style>\n",
              "<table border=\"1\" class=\"dataframe\">\n",
              "  <thead>\n",
              "    <tr style=\"text-align: right;\">\n",
              "      <th></th>\n",
              "      <th>pat_id</th>\n",
              "      <th>claimno</th>\n",
              "      <th>linenum</th>\n",
              "      <th>rectype</th>\n",
              "      <th>tos_flag</th>\n",
              "      <th>pos</th>\n",
              "      <th>conf_num</th>\n",
              "      <th>patstat</th>\n",
              "      <th>billtype</th>\n",
              "      <th>ndc</th>\n",
              "      <th>daw</th>\n",
              "      <th>formulary</th>\n",
              "      <th>dayssup</th>\n",
              "      <th>quan</th>\n",
              "      <th>proc_cde</th>\n",
              "      <th>cpt_mod</th>\n",
              "      <th>rev_code</th>\n",
              "      <th>srv_unit</th>\n",
              "      <th>from_dt</th>\n",
              "      <th>to_dt</th>\n",
              "      <th>diagprc_ind</th>\n",
              "      <th>diag_admit</th>\n",
              "      <th>diag1</th>\n",
              "      <th>diag2</th>\n",
              "      <th>diag3</th>\n",
              "      <th>diag4</th>\n",
              "      <th>diag5</th>\n",
              "      <th>diag6</th>\n",
              "      <th>diag7</th>\n",
              "      <th>diag8</th>\n",
              "      <th>diag9</th>\n",
              "      <th>diag10</th>\n",
              "      <th>diag11</th>\n",
              "      <th>diag12</th>\n",
              "      <th>icdprc1</th>\n",
              "      <th>icdprc2</th>\n",
              "      <th>icdprc3</th>\n",
              "      <th>icdprc4</th>\n",
              "      <th>icdprc5</th>\n",
              "      <th>icdprc6</th>\n",
              "      <th>icdprc7</th>\n",
              "      <th>icdprc8</th>\n",
              "      <th>icdprc9</th>\n",
              "      <th>icdprc10</th>\n",
              "      <th>icdprc11</th>\n",
              "      <th>icdprc12</th>\n",
              "      <th>charge</th>\n",
              "      <th>allowed</th>\n",
              "      <th>paid</th>\n",
              "      <th>deductible</th>\n",
              "      <th>copay</th>\n",
              "      <th>coinsamt</th>\n",
              "      <th>cobamt</th>\n",
              "      <th>dispense_fee</th>\n",
              "      <th>bill_spec</th>\n",
              "      <th>rend_spec</th>\n",
              "      <th>prscbr_spec</th>\n",
              "      <th>att_spec</th>\n",
              "      <th>pcp_spec</th>\n",
              "      <th>ref_spec</th>\n",
              "      <th>ptypeflg</th>\n",
              "      <th>sub_tp_cd</th>\n",
              "      <th>pmt_st_cd</th>\n",
              "      <th>paid_dt</th>\n",
              "      <th>year</th>\n",
              "    </tr>\n",
              "  </thead>\n",
              "  <tbody>\n",
              "    <tr>\n",
              "      <th>436407</th>\n",
              "      <td>pf06AAAAAAANBFBA</td>\n",
              "      <td>NaN</td>\n",
              "      <td>1.0</td>\n",
              "      <td>P</td>\n",
              "      <td>0</td>\n",
              "      <td>01</td>\n",
              "      <td>NaN</td>\n",
              "      <td>NaN</td>\n",
              "      <td>NaN</td>\n",
              "      <td>3.78181e+08</td>\n",
              "      <td>NaN</td>\n",
              "      <td>NaN</td>\n",
              "      <td>30.0</td>\n",
              "      <td>15.0</td>\n",
              "      <td>NaN</td>\n",
              "      <td>NaN</td>\n",
              "      <td>NaN</td>\n",
              "      <td>NaN</td>\n",
              "      <td>2015-07-17</td>\n",
              "      <td>2015-07-17</td>\n",
              "      <td>-1</td>\n",
              "      <td>NaN</td>\n",
              "      <td>NaN</td>\n",
              "      <td>NaN</td>\n",
              "      <td>NaN</td>\n",
              "      <td>NaN</td>\n",
              "      <td>NaN</td>\n",
              "      <td>NaN</td>\n",
              "      <td>NaN</td>\n",
              "      <td>NaN</td>\n",
              "      <td>NaN</td>\n",
              "      <td>NaN</td>\n",
              "      <td>NaN</td>\n",
              "      <td>NaN</td>\n",
              "      <td>NaN</td>\n",
              "      <td>NaN</td>\n",
              "      <td>NaN</td>\n",
              "      <td>NaN</td>\n",
              "      <td>NaN</td>\n",
              "      <td>NaN</td>\n",
              "      <td>NaN</td>\n",
              "      <td>NaN</td>\n",
              "      <td>NaN</td>\n",
              "      <td>NaN</td>\n",
              "      <td>NaN</td>\n",
              "      <td>NaN</td>\n",
              "      <td>8.22</td>\n",
              "      <td>8.22</td>\n",
              "      <td>6.90</td>\n",
              "      <td>NaN</td>\n",
              "      <td>NaN</td>\n",
              "      <td>0.0</td>\n",
              "      <td>0.0</td>\n",
              "      <td>NaN</td>\n",
              "      <td>NaN</td>\n",
              "      <td>NaN</td>\n",
              "      <td>NaN</td>\n",
              "      <td>NaN</td>\n",
              "      <td>NaN</td>\n",
              "      <td>NaN</td>\n",
              "      <td>2</td>\n",
              "      <td>U</td>\n",
              "      <td>P</td>\n",
              "      <td>2015-07-22</td>\n",
              "      <td>2015</td>\n",
              "    </tr>\n",
              "    <tr>\n",
              "      <th>102630</th>\n",
              "      <td>a7c7AAAAAAMVLNUZ</td>\n",
              "      <td>BM00016399762</td>\n",
              "      <td>1.0</td>\n",
              "      <td>M</td>\n",
              "      <td>1</td>\n",
              "      <td>23</td>\n",
              "      <td>NaN</td>\n",
              "      <td>NaN</td>\n",
              "      <td>NaN</td>\n",
              "      <td>NaN</td>\n",
              "      <td>NaN</td>\n",
              "      <td>NaN</td>\n",
              "      <td>NaN</td>\n",
              "      <td>NaN</td>\n",
              "      <td>99283</td>\n",
              "      <td>NaN</td>\n",
              "      <td>NaN</td>\n",
              "      <td>1.0</td>\n",
              "      <td>2016-10-17</td>\n",
              "      <td>2016-10-17</td>\n",
              "      <td>2</td>\n",
              "      <td>NaN</td>\n",
              "      <td>M79672</td>\n",
              "      <td>M79675</td>\n",
              "      <td>NaN</td>\n",
              "      <td>NaN</td>\n",
              "      <td>NaN</td>\n",
              "      <td>NaN</td>\n",
              "      <td>NaN</td>\n",
              "      <td>NaN</td>\n",
              "      <td>NaN</td>\n",
              "      <td>NaN</td>\n",
              "      <td>NaN</td>\n",
              "      <td>NaN</td>\n",
              "      <td>NaN</td>\n",
              "      <td>NaN</td>\n",
              "      <td>NaN</td>\n",
              "      <td>NaN</td>\n",
              "      <td>NaN</td>\n",
              "      <td>NaN</td>\n",
              "      <td>NaN</td>\n",
              "      <td>NaN</td>\n",
              "      <td>NaN</td>\n",
              "      <td>NaN</td>\n",
              "      <td>NaN</td>\n",
              "      <td>NaN</td>\n",
              "      <td>970.00</td>\n",
              "      <td>970.00</td>\n",
              "      <td>44.60</td>\n",
              "      <td>NaN</td>\n",
              "      <td>NaN</td>\n",
              "      <td>0.0</td>\n",
              "      <td>0.0</td>\n",
              "      <td>NaN</td>\n",
              "      <td>OTHER</td>\n",
              "      <td>OTHER</td>\n",
              "      <td>NaN</td>\n",
              "      <td>NaN</td>\n",
              "      <td>NaN</td>\n",
              "      <td>NaN</td>\n",
              "      <td>0</td>\n",
              "      <td>U</td>\n",
              "      <td>P</td>\n",
              "      <td>2016-11-16</td>\n",
              "      <td>2016</td>\n",
              "    </tr>\n",
              "    <tr>\n",
              "      <th>552992</th>\n",
              "      <td>pg03AAAAAAQCOAHC</td>\n",
              "      <td>NaN</td>\n",
              "      <td>1.0</td>\n",
              "      <td>A</td>\n",
              "      <td>0</td>\n",
              "      <td>13</td>\n",
              "      <td>NaN</td>\n",
              "      <td>1.0</td>\n",
              "      <td>NaN</td>\n",
              "      <td>NaN</td>\n",
              "      <td>NaN</td>\n",
              "      <td>NaN</td>\n",
              "      <td>NaN</td>\n",
              "      <td>NaN</td>\n",
              "      <td>NaN</td>\n",
              "      <td>NaN</td>\n",
              "      <td>250</td>\n",
              "      <td>NaN</td>\n",
              "      <td>2015-05-16</td>\n",
              "      <td>2015-05-16</td>\n",
              "      <td>1</td>\n",
              "      <td>NaN</td>\n",
              "      <td>4659</td>\n",
              "      <td>6869</td>\n",
              "      <td>6929</td>\n",
              "      <td>7862</td>\n",
              "      <td>NaN</td>\n",
              "      <td>NaN</td>\n",
              "      <td>NaN</td>\n",
              "      <td>NaN</td>\n",
              "      <td>NaN</td>\n",
              "      <td>NaN</td>\n",
              "      <td>NaN</td>\n",
              "      <td>NaN</td>\n",
              "      <td>NaN</td>\n",
              "      <td>NaN</td>\n",
              "      <td>NaN</td>\n",
              "      <td>NaN</td>\n",
              "      <td>NaN</td>\n",
              "      <td>NaN</td>\n",
              "      <td>NaN</td>\n",
              "      <td>NaN</td>\n",
              "      <td>NaN</td>\n",
              "      <td>NaN</td>\n",
              "      <td>NaN</td>\n",
              "      <td>NaN</td>\n",
              "      <td>20.70</td>\n",
              "      <td>0.00</td>\n",
              "      <td>0.00</td>\n",
              "      <td>NaN</td>\n",
              "      <td>NaN</td>\n",
              "      <td>0.0</td>\n",
              "      <td>0.0</td>\n",
              "      <td>NaN</td>\n",
              "      <td>HOSPITAL</td>\n",
              "      <td>HOSPITAL</td>\n",
              "      <td>NaN</td>\n",
              "      <td>NaN</td>\n",
              "      <td>NaN</td>\n",
              "      <td>NaN</td>\n",
              "      <td>1</td>\n",
              "      <td>U</td>\n",
              "      <td>P</td>\n",
              "      <td>2015-06-15</td>\n",
              "      <td>2015</td>\n",
              "    </tr>\n",
              "    <tr>\n",
              "      <th>141699</th>\n",
              "      <td>9004AAAAAAAIWZJJ</td>\n",
              "      <td>1.93473e+11</td>\n",
              "      <td>1.0</td>\n",
              "      <td>M</td>\n",
              "      <td>1</td>\n",
              "      <td>11</td>\n",
              "      <td>NaN</td>\n",
              "      <td>NaN</td>\n",
              "      <td>NaN</td>\n",
              "      <td>NaN</td>\n",
              "      <td>NaN</td>\n",
              "      <td>NaN</td>\n",
              "      <td>NaN</td>\n",
              "      <td>NaN</td>\n",
              "      <td>99212</td>\n",
              "      <td>NaN</td>\n",
              "      <td>NaN</td>\n",
              "      <td>1.0</td>\n",
              "      <td>2019-11-06</td>\n",
              "      <td>2019-11-06</td>\n",
              "      <td>2</td>\n",
              "      <td>NaN</td>\n",
              "      <td>M47812</td>\n",
              "      <td>NaN</td>\n",
              "      <td>NaN</td>\n",
              "      <td>NaN</td>\n",
              "      <td>NaN</td>\n",
              "      <td>NaN</td>\n",
              "      <td>NaN</td>\n",
              "      <td>NaN</td>\n",
              "      <td>NaN</td>\n",
              "      <td>NaN</td>\n",
              "      <td>NaN</td>\n",
              "      <td>NaN</td>\n",
              "      <td>NaN</td>\n",
              "      <td>NaN</td>\n",
              "      <td>NaN</td>\n",
              "      <td>NaN</td>\n",
              "      <td>NaN</td>\n",
              "      <td>NaN</td>\n",
              "      <td>NaN</td>\n",
              "      <td>NaN</td>\n",
              "      <td>NaN</td>\n",
              "      <td>NaN</td>\n",
              "      <td>NaN</td>\n",
              "      <td>NaN</td>\n",
              "      <td>133.00</td>\n",
              "      <td>112.20</td>\n",
              "      <td>102.20</td>\n",
              "      <td>0.0</td>\n",
              "      <td>10.0</td>\n",
              "      <td>0.0</td>\n",
              "      <td>0.0</td>\n",
              "      <td>NaN</td>\n",
              "      <td>OTHR_SPC</td>\n",
              "      <td>OTHR_SPC</td>\n",
              "      <td>NaN</td>\n",
              "      <td>NaN</td>\n",
              "      <td>NaN</td>\n",
              "      <td>NaN</td>\n",
              "      <td>0</td>\n",
              "      <td>U</td>\n",
              "      <td>P</td>\n",
              "      <td>2019-12-06</td>\n",
              "      <td>2019</td>\n",
              "    </tr>\n",
              "    <tr>\n",
              "      <th>355175</th>\n",
              "      <td>pg03AAAAAABZBLAE</td>\n",
              "      <td>NaN</td>\n",
              "      <td>4.0</td>\n",
              "      <td>M</td>\n",
              "      <td>1</td>\n",
              "      <td>13</td>\n",
              "      <td>NaN</td>\n",
              "      <td>1.0</td>\n",
              "      <td>NaN</td>\n",
              "      <td>NaN</td>\n",
              "      <td>NaN</td>\n",
              "      <td>NaN</td>\n",
              "      <td>NaN</td>\n",
              "      <td>NaN</td>\n",
              "      <td>NaN</td>\n",
              "      <td>NaN</td>\n",
              "      <td>450</td>\n",
              "      <td>NaN</td>\n",
              "      <td>2015-11-02</td>\n",
              "      <td>2015-11-02</td>\n",
              "      <td>2</td>\n",
              "      <td>NaN</td>\n",
              "      <td>R55</td>\n",
              "      <td>NaN</td>\n",
              "      <td>NaN</td>\n",
              "      <td>NaN</td>\n",
              "      <td>NaN</td>\n",
              "      <td>NaN</td>\n",
              "      <td>NaN</td>\n",
              "      <td>NaN</td>\n",
              "      <td>NaN</td>\n",
              "      <td>NaN</td>\n",
              "      <td>NaN</td>\n",
              "      <td>NaN</td>\n",
              "      <td>NaN</td>\n",
              "      <td>NaN</td>\n",
              "      <td>NaN</td>\n",
              "      <td>NaN</td>\n",
              "      <td>NaN</td>\n",
              "      <td>NaN</td>\n",
              "      <td>NaN</td>\n",
              "      <td>NaN</td>\n",
              "      <td>NaN</td>\n",
              "      <td>NaN</td>\n",
              "      <td>NaN</td>\n",
              "      <td>NaN</td>\n",
              "      <td>3027.00</td>\n",
              "      <td>52.91</td>\n",
              "      <td>52.91</td>\n",
              "      <td>NaN</td>\n",
              "      <td>NaN</td>\n",
              "      <td>0.0</td>\n",
              "      <td>0.0</td>\n",
              "      <td>NaN</td>\n",
              "      <td>HOSPITAL</td>\n",
              "      <td>HOSPITAL</td>\n",
              "      <td>NaN</td>\n",
              "      <td>NaN</td>\n",
              "      <td>NaN</td>\n",
              "      <td>NaN</td>\n",
              "      <td>1</td>\n",
              "      <td>U</td>\n",
              "      <td>P</td>\n",
              "      <td>2015-12-02</td>\n",
              "      <td>2015</td>\n",
              "    </tr>\n",
              "  </tbody>\n",
              "</table>\n",
              "</div>"
            ],
            "text/plain": [
              "                  pat_id        claimno  linenum  ... pmt_st_cd     paid_dt  year\n",
              "436407  pf06AAAAAAANBFBA            NaN      1.0  ...         P  2015-07-22  2015\n",
              "102630  a7c7AAAAAAMVLNUZ  BM00016399762      1.0  ...         P  2016-11-16  2016\n",
              "552992  pg03AAAAAAQCOAHC            NaN      1.0  ...         P  2015-06-15  2015\n",
              "141699  9004AAAAAAAIWZJJ    1.93473e+11      1.0  ...         P  2019-12-06  2019\n",
              "355175  pg03AAAAAABZBLAE            NaN      4.0  ...         P  2015-12-02  2015\n",
              "\n",
              "[5 rows x 65 columns]"
            ]
          },
          "metadata": {
            "tags": []
          },
          "execution_count": 8
        }
      ]
    },
    {
      "cell_type": "markdown",
      "metadata": {
        "id": "lrqr7SvhlMMw"
      },
      "source": [
        "### 2.2 Analyze the dataset"
      ]
    },
    {
      "cell_type": "code",
      "metadata": {
        "id": "1cCE5CJtfl96",
        "colab": {
          "base_uri": "https://localhost:8080/",
          "height": 400
        },
        "outputId": "2a3e51a7-7331-400f-e7cf-4e01ee2e38c7"
      },
      "source": [
        "import numpy as np\n",
        "import matplotlib.pyplot as plt\n",
        "\n",
        "# Distribution of patients across regions\n",
        "rd = df_enroll[\"pat_region\"].value_counts().plot(kind=\"pie\", autopct=\"%1.1f%%\")\n",
        "rd.set_title(\"Distribution of patients across regions\")\n",
        "\n",
        "# Distribution of patients gender\n",
        "rd = df_enroll[\"der_sex\"].value_counts().plot(kind=\"pie\", autopct=\"%1.1f%%\")\n",
        "rd.set_title(\"Distribution of patients' gender\")\n",
        "\n",
        "# Distribution of Age\n",
        "df_enroll[\"age\"] = 2021 - df_enroll[\"der_yob\"]\n",
        "\n",
        "rd = df_enroll[df_enroll[\"der_yob\"] > 1900][\"age\"].plot(kind='hist', bins=15)\n",
        "rd.set_title(\"Distribution of patients' age\")\n",
        "\n",
        "# Get the count of claims paid (and denied)\n",
        "df_claims[\"pmt_st_cd\"].value_counts()\n",
        "\n",
        "# number of diagnosis populated in each claim\n",
        "diag_cols = [\"diag1\", \"diag2\", \"diag3\", \"diag4\", \"diag5\", \"diag6\", \"diag7\", \"diag8\", \"diag9\", \"diag10\", \"diag11\", \"diag12\"]\n",
        "df_claims[\"num_of_diag\"] = df_claims[diag_cols].notnull().sum(axis=1)\n",
        "df_claims[\"num_of_diag\"].mean()\n",
        "\n",
        "# number of icdprc populated in each claim\n",
        "icdprc_cols=[\"icdprc1\", \"icdprc2\", \"icdprc3\", \"icdprc4\", \"icdprc5\", \"icdprc6\", \"icdprc7\", \"icdprc8\", \"icdprc9\", \"icdprc10\", \"icdprc11\", \"icdprc12\"]\n",
        "df_claims[\"num_of_icdprc\"] = df_claims[icdprc_cols].notnull().sum(axis=1)\n",
        "df_claims[\"num_of_icdprc\"].mean()\n",
        "\n",
        "diag = []\n",
        "for colname in diag_cols:\n",
        "    diag.extend(pd.unique(df_claims[colname]))\n",
        "print(len(np.unique(diag)))\n",
        "# 22138\n",
        "\n",
        "prc = []\n",
        "for colname in icdprc_cols:\n",
        "    prc.extend(pd.unique(df_claims[colname]))\n",
        "print(len(np.unique(prc)))\n",
        "# 926\n",
        "\n",
        "\n",
        "# number of claims with same day service\n",
        "sum(df_claims[\"from_dt\"] == df_claims[\"to_dt\"])\n",
        "# 2378556 out of 2438054 i.e. 97.5%\n",
        "\n",
        "# Distribution of charges\n",
        "rd = df_claims[\"charge\"].plot(kind='hist', bins=15)\n",
        "rd.set_title(\"Distribution charges\")\n",
        "\n",
        "# Log charges makes more sense\n",
        "# filtering out rows where charges are less than 1\n",
        "rd = np.log10(df_claims[df_claims[\"charge\"] > 1][\"charge\"]).plot(kind='hist', bins=15)\n",
        "rd.set_title(\"Distribution of Log of Charges\")\n",
        "\n",
        "# Distribution of Paid amounts\n",
        "# filtering out rows where paid are less than 1\n",
        "rd = np.log10(df_claims[df_claims[\"paid\"] > 1][\"paid\"]).plot(kind='hist', bins=25)\n",
        "rd.set_title(\"Distribution of Log of Paid\")\n",
        "plt.show()\n",
        "\n",
        "\n",
        "# Checking the unique number of patients in the datasets\n",
        "print(len(pd.unique(df_enroll['pat_id'])))\n",
        "# 30000\n",
        "print(len(pd.unique(df_claims2015['pat_id'])))\n",
        "# 18927\n",
        "print(len(pd.unique(df_claims2016['pat_id'])))\n",
        "#21483\n",
        "print(len(pd.unique(df_claims2017['pat_id'])))\n",
        "#15190\n",
        "print(len(pd.unique(df_claims2018['pat_id'])))\n",
        "#6445\n",
        "print(len(pd.unique(df_claims2019['pat_id'])))\n",
        "#4884"
      ],
      "execution_count": null,
      "outputs": [
        {
          "output_type": "stream",
          "text": [
            "22138\n",
            "926\n"
          ],
          "name": "stdout"
        },
        {
          "output_type": "display_data",
          "data": {
            "image/png": "[encoded data removed]",
            "text/plain": [
              "<Figure size 432x288 with 1 Axes>"
            ]
          },
          "metadata": {
            "tags": []
          }
        },
        {
          "output_type": "stream",
          "text": [
            "30000\n",
            "18927\n",
            "21483\n",
            "15190\n",
            "6445\n",
            "4884\n"
          ],
          "name": "stdout"
        }
      ]
    },
    {
      "cell_type": "markdown",
      "metadata": {
        "id": "TdNc02_fxghT"
      },
      "source": [
        "## **3. Data embedding**"
      ]
    },
    {
      "cell_type": "markdown",
      "metadata": {
        "id": "Hmy3BPKB0Nss"
      },
      "source": [
        "### 3.1 Embedding"
      ]
    },
    {
      "cell_type": "code",
      "metadata": {
        "id": "zs1T_C4ixruV"
      },
      "source": [
        "# each patient with a single record\n",
        "# x -> aggregation of rows from all except last qtr\n",
        "# y -> charged in last qtr\n",
        "\n",
        "# 1. first assign quarter to each record\n",
        "df_claims[\"quarter\"] = pd.PeriodIndex(pd.to_datetime(df_claims[\"to_dt\"]), freq = 'Q')\n",
        "\n",
        "# 2. find the latest quarter for each patient\n",
        "df_patient_last_quarter = df_claims.groupby('pat_id')[\"quarter\"].max().reset_index()\n",
        "\n",
        "# 3. Find claims for patient in last quarter and not in last quarter\n",
        "\n",
        "df_claims_last_quarter = df_claims[df_claims.set_index(['pat_id','quarter']).index.isin(df_patient_last_quarter.set_index(['pat_id','quarter']).index)]\n",
        "df_claims_not_last_quarter = df_claims[~df_claims.set_index(['pat_id','quarter']).index.isin(df_patient_last_quarter.set_index(['pat_id','quarter']).index)]\n",
        "\n",
        "# 4. confirm many unique patients are in both sets\n",
        "len(pd.unique(df_claims_last_quarter['pat_id']))\n",
        "# 27226\n",
        "sum(np.isin(pd.unique(df_claims_not_last_quarter[\"pat_id\"]), pd.unique(df_claims_last_quarter[\"pat_id\"])))\n",
        "# 24970\n",
        "\n",
        "# Create y variable for each patient\n",
        "df_y = df_claims_last_quarter.groupby('pat_id')[\"charge\"].sum().reset_index()\n",
        "\n",
        "# Create x variable for each patient??"
      ],
      "execution_count": null,
      "outputs": []
    },
    {
      "cell_type": "markdown",
      "metadata": {
        "id": "ZAf9Ps830gPc"
      },
      "source": [
        "### 3.2 Dataloader"
      ]
    },
    {
      "cell_type": "code",
      "metadata": {
        "id": "4wSCphZS5pll"
      },
      "source": [
        "# Create dataloader"
      ],
      "execution_count": null,
      "outputs": []
    },
    {
      "cell_type": "markdown",
      "metadata": {
        "id": "i5gOXYHqyqPI"
      },
      "source": [
        "## **4. Model building**"
      ]
    },
    {
      "cell_type": "markdown",
      "metadata": {
        "id": "RnqKGxz_9ku-"
      },
      "source": [
        "### **4.1 Random Forest**"
      ]
    },
    {
      "cell_type": "code",
      "metadata": {
        "id": "yocN3DEg93O7"
      },
      "source": [
        "# Bala, Kautuk"
      ],
      "execution_count": null,
      "outputs": []
    },
    {
      "cell_type": "markdown",
      "metadata": {
        "id": "vJsYbtTZ8QAt"
      },
      "source": [
        "### **4.2 Base model(Drewe-Boss’s paper)**"
      ]
    },
    {
      "cell_type": "code",
      "metadata": {
        "id": "pPcItHq0ys_G",
        "colab": {
          "base_uri": "https://localhost:8080/"
        },
        "outputId": "180f5cb1-7ee7-483e-8004-7585d5f8660f"
      },
      "source": [
        "# The purpose of this model is to reproduce the prior model proposed by Drewe-Boss et al.  Deep learning for prediction of population health costs\n",
        "\n",
        "# This code is inspired by \n",
        "#  (1) https://www.coursera.org/learn/cs598-deep-learning-for-healthcare/programming/UEdCb/homework-2-neural-networks/lab\n",
        "#  (2) https://www.coursera.org/learn/cs598-deep-learning-for-healthcare/programming/VNfPA/homework-4-mina/lab\n",
        "\n",
        "import torch\n",
        "import torch.nn as nn\n",
        "import torch.nn.functional as F\n",
        "\n",
        "class Basemodel(nn.Module):\n",
        "    def __init__(self, input_size=1000, output_size=1): # default input size is a tentative value, need to be specified with embedding vector size\n",
        "        super(Basemodel, self).__init__()\n",
        "        self.input_size = input_size\n",
        "        self.hidden_size = 50\n",
        "        self.output_size = output_size\n",
        "\n",
        "        self.fc1 = torch.nn.Linear(in_features=self.input_size, out_features=self.hidden_size)\n",
        "        self.fc2 = torch.nn.Linear(in_features=self.hidden_size, out_features=self.hidden_size)\n",
        "        self.fc3 = torch.nn.Linear(in_features=self.hidden_size, out_features=self.hidden_size)\n",
        "        self.fc4 = torch.nn.Linear(in_features=self.hidden_size+self.input_size, out_features=self.output_size)\n",
        "        self.do = nn.Dropout(0.25)\n",
        "\n",
        "    def forward(self, x):\n",
        "        x0 = x # x0 will be override?\n",
        "        x = self.do(F.relu(self.fc1(x)))\n",
        "        x = self.do(F.relu(self.fc2(x)))\n",
        "        x = self.do(F.relu(self.fc3(x)))\n",
        "        x = torch.cat((x, x0), dim=0) # need to debug with actual data\n",
        "        x = self.do(F.relu(self.fc4(x)))\n",
        "        \n",
        "        return x\n",
        "\n",
        "model = Basemodel() # Need to specify the input/output size(we have not decided input and output data)\n",
        "print(model)"
      ],
      "execution_count": null,
      "outputs": [
        {
          "output_type": "stream",
          "text": [
            "Basemodel(\n",
            "  (fc1): Linear(in_features=1000, out_features=50, bias=True)\n",
            "  (fc2): Linear(in_features=50, out_features=50, bias=True)\n",
            "  (fc3): Linear(in_features=50, out_features=50, bias=True)\n",
            "  (fc4): Linear(in_features=1050, out_features=1, bias=True)\n",
            "  (do): Dropout(p=0.25, inplace=False)\n",
            ")\n"
          ],
          "name": "stdout"
        }
      ]
    },
    {
      "cell_type": "markdown",
      "metadata": {
        "id": "Pz72uokf-LVQ"
      },
      "source": [
        "### **4.3 Advanced model(Base model + alpha)**"
      ]
    },
    {
      "cell_type": "code",
      "metadata": {
        "id": "Pr8bwEYL_E15"
      },
      "source": [
        "# Idea"
      ],
      "execution_count": null,
      "outputs": []
    }
  ]
}